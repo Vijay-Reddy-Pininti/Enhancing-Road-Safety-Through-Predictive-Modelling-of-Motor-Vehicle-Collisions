{
 "cells": [
  {
   "cell_type": "code",
   "execution_count": 1,
   "id": "4d4a70ed-2be4-4923-99d7-9847564ebeb5",
   "metadata": {
    "executionInfo": {
     "elapsed": 674,
     "status": "ok",
     "timestamp": 1701368184701,
     "user": {
      "displayName": "vijay reddy",
      "userId": "14915251025245810636"
     },
     "user_tz": 300
    },
    "id": "4d4a70ed-2be4-4923-99d7-9847564ebeb5"
   },
   "outputs": [],
   "source": [
    "# Import required libraries\n",
    "import numpy as np\n",
    "import pandas as pd\n",
    "import matplotlib.pyplot as plt\n",
    "import warnings\n",
    "warnings.filterwarnings(\"ignore\", category=FutureWarning)"
   ]
  },
  {
   "cell_type": "code",
   "execution_count": 2,
   "id": "d94a998e-f878-4dcc-af79-f4b8eba8b1bf",
   "metadata": {
    "colab": {
     "base_uri": "https://localhost:8080/",
     "height": 721
    },
    "executionInfo": {
     "elapsed": 18254,
     "status": "ok",
     "timestamp": 1701368205701,
     "user": {
      "displayName": "vijay reddy",
      "userId": "14915251025245810636"
     },
     "user_tz": 300
    },
    "id": "d94a998e-f878-4dcc-af79-f4b8eba8b1bf",
    "outputId": "7c9d0985-5d21-427c-bc2a-f150a7e6f4f3"
   },
   "outputs": [
    {
     "data": {
      "text/html": [
       "<div>\n",
       "<style scoped>\n",
       "    .dataframe tbody tr th:only-of-type {\n",
       "        vertical-align: middle;\n",
       "    }\n",
       "\n",
       "    .dataframe tbody tr th {\n",
       "        vertical-align: top;\n",
       "    }\n",
       "\n",
       "    .dataframe thead th {\n",
       "        text-align: right;\n",
       "    }\n",
       "</style>\n",
       "<table border=\"1\" class=\"dataframe\">\n",
       "  <thead>\n",
       "    <tr style=\"text-align: right;\">\n",
       "      <th></th>\n",
       "      <th>CRASH DATE</th>\n",
       "      <th>CRASH TIME</th>\n",
       "      <th>BOROUGH</th>\n",
       "      <th>ZIP CODE</th>\n",
       "      <th>LATITUDE</th>\n",
       "      <th>LONGITUDE</th>\n",
       "      <th>LOCATION</th>\n",
       "      <th>ON STREET NAME</th>\n",
       "      <th>CROSS STREET NAME</th>\n",
       "      <th>OFF STREET NAME</th>\n",
       "      <th>...</th>\n",
       "      <th>CONTRIBUTING FACTOR VEHICLE 2</th>\n",
       "      <th>CONTRIBUTING FACTOR VEHICLE 3</th>\n",
       "      <th>CONTRIBUTING FACTOR VEHICLE 4</th>\n",
       "      <th>CONTRIBUTING FACTOR VEHICLE 5</th>\n",
       "      <th>COLLISION_ID</th>\n",
       "      <th>VEHICLE TYPE CODE 1</th>\n",
       "      <th>VEHICLE TYPE CODE 2</th>\n",
       "      <th>VEHICLE TYPE CODE 3</th>\n",
       "      <th>VEHICLE TYPE CODE 4</th>\n",
       "      <th>VEHICLE TYPE CODE 5</th>\n",
       "    </tr>\n",
       "  </thead>\n",
       "  <tbody>\n",
       "    <tr>\n",
       "      <th>0</th>\n",
       "      <td>09/11/2021</td>\n",
       "      <td>2:39</td>\n",
       "      <td>NaN</td>\n",
       "      <td>NaN</td>\n",
       "      <td>NaN</td>\n",
       "      <td>NaN</td>\n",
       "      <td>NaN</td>\n",
       "      <td>WHITESTONE EXPRESSWAY</td>\n",
       "      <td>20 AVENUE</td>\n",
       "      <td>NaN</td>\n",
       "      <td>...</td>\n",
       "      <td>Unspecified</td>\n",
       "      <td>NaN</td>\n",
       "      <td>NaN</td>\n",
       "      <td>NaN</td>\n",
       "      <td>4455765</td>\n",
       "      <td>Sedan</td>\n",
       "      <td>Sedan</td>\n",
       "      <td>NaN</td>\n",
       "      <td>NaN</td>\n",
       "      <td>NaN</td>\n",
       "    </tr>\n",
       "    <tr>\n",
       "      <th>1</th>\n",
       "      <td>03/26/2022</td>\n",
       "      <td>11:45</td>\n",
       "      <td>NaN</td>\n",
       "      <td>NaN</td>\n",
       "      <td>NaN</td>\n",
       "      <td>NaN</td>\n",
       "      <td>NaN</td>\n",
       "      <td>QUEENSBORO BRIDGE UPPER</td>\n",
       "      <td>NaN</td>\n",
       "      <td>NaN</td>\n",
       "      <td>...</td>\n",
       "      <td>NaN</td>\n",
       "      <td>NaN</td>\n",
       "      <td>NaN</td>\n",
       "      <td>NaN</td>\n",
       "      <td>4513547</td>\n",
       "      <td>Sedan</td>\n",
       "      <td>NaN</td>\n",
       "      <td>NaN</td>\n",
       "      <td>NaN</td>\n",
       "      <td>NaN</td>\n",
       "    </tr>\n",
       "    <tr>\n",
       "      <th>2</th>\n",
       "      <td>06/29/2022</td>\n",
       "      <td>6:55</td>\n",
       "      <td>NaN</td>\n",
       "      <td>NaN</td>\n",
       "      <td>NaN</td>\n",
       "      <td>NaN</td>\n",
       "      <td>NaN</td>\n",
       "      <td>THROGS NECK BRIDGE</td>\n",
       "      <td>NaN</td>\n",
       "      <td>NaN</td>\n",
       "      <td>...</td>\n",
       "      <td>Unspecified</td>\n",
       "      <td>NaN</td>\n",
       "      <td>NaN</td>\n",
       "      <td>NaN</td>\n",
       "      <td>4541903</td>\n",
       "      <td>Sedan</td>\n",
       "      <td>Pick-up Truck</td>\n",
       "      <td>NaN</td>\n",
       "      <td>NaN</td>\n",
       "      <td>NaN</td>\n",
       "    </tr>\n",
       "    <tr>\n",
       "      <th>3</th>\n",
       "      <td>09/11/2021</td>\n",
       "      <td>9:35</td>\n",
       "      <td>BROOKLYN</td>\n",
       "      <td>11208</td>\n",
       "      <td>40.667202</td>\n",
       "      <td>-73.866500</td>\n",
       "      <td>(40.667202, -73.8665)</td>\n",
       "      <td>NaN</td>\n",
       "      <td>NaN</td>\n",
       "      <td>1211      LORING AVENUE</td>\n",
       "      <td>...</td>\n",
       "      <td>NaN</td>\n",
       "      <td>NaN</td>\n",
       "      <td>NaN</td>\n",
       "      <td>NaN</td>\n",
       "      <td>4456314</td>\n",
       "      <td>Sedan</td>\n",
       "      <td>NaN</td>\n",
       "      <td>NaN</td>\n",
       "      <td>NaN</td>\n",
       "      <td>NaN</td>\n",
       "    </tr>\n",
       "    <tr>\n",
       "      <th>4</th>\n",
       "      <td>12/14/2021</td>\n",
       "      <td>8:13</td>\n",
       "      <td>BROOKLYN</td>\n",
       "      <td>11233</td>\n",
       "      <td>40.683304</td>\n",
       "      <td>-73.917274</td>\n",
       "      <td>(40.683304, -73.917274)</td>\n",
       "      <td>SARATOGA AVENUE</td>\n",
       "      <td>DECATUR STREET</td>\n",
       "      <td>NaN</td>\n",
       "      <td>...</td>\n",
       "      <td>NaN</td>\n",
       "      <td>NaN</td>\n",
       "      <td>NaN</td>\n",
       "      <td>NaN</td>\n",
       "      <td>4486609</td>\n",
       "      <td>NaN</td>\n",
       "      <td>NaN</td>\n",
       "      <td>NaN</td>\n",
       "      <td>NaN</td>\n",
       "      <td>NaN</td>\n",
       "    </tr>\n",
       "    <tr>\n",
       "      <th>...</th>\n",
       "      <td>...</td>\n",
       "      <td>...</td>\n",
       "      <td>...</td>\n",
       "      <td>...</td>\n",
       "      <td>...</td>\n",
       "      <td>...</td>\n",
       "      <td>...</td>\n",
       "      <td>...</td>\n",
       "      <td>...</td>\n",
       "      <td>...</td>\n",
       "      <td>...</td>\n",
       "      <td>...</td>\n",
       "      <td>...</td>\n",
       "      <td>...</td>\n",
       "      <td>...</td>\n",
       "      <td>...</td>\n",
       "      <td>...</td>\n",
       "      <td>...</td>\n",
       "      <td>...</td>\n",
       "      <td>...</td>\n",
       "      <td>...</td>\n",
       "    </tr>\n",
       "    <tr>\n",
       "      <th>2026642</th>\n",
       "      <td>07/03/2023</td>\n",
       "      <td>18:05</td>\n",
       "      <td>NaN</td>\n",
       "      <td>NaN</td>\n",
       "      <td>40.866806</td>\n",
       "      <td>-73.931010</td>\n",
       "      <td>(40.866806, -73.93101)</td>\n",
       "      <td>RIVERSIDE DRIVE</td>\n",
       "      <td>NaN</td>\n",
       "      <td>NaN</td>\n",
       "      <td>...</td>\n",
       "      <td>Unspecified</td>\n",
       "      <td>NaN</td>\n",
       "      <td>NaN</td>\n",
       "      <td>NaN</td>\n",
       "      <td>4648110</td>\n",
       "      <td>Sedan</td>\n",
       "      <td>Sedan</td>\n",
       "      <td>NaN</td>\n",
       "      <td>NaN</td>\n",
       "      <td>NaN</td>\n",
       "    </tr>\n",
       "    <tr>\n",
       "      <th>2026643</th>\n",
       "      <td>07/22/2023</td>\n",
       "      <td>21:39</td>\n",
       "      <td>BRONX</td>\n",
       "      <td>10457</td>\n",
       "      <td>40.844177</td>\n",
       "      <td>-73.902920</td>\n",
       "      <td>(40.844177, -73.90292)</td>\n",
       "      <td>EAST 174 STREET</td>\n",
       "      <td>WEBSTER AVENUE</td>\n",
       "      <td>NaN</td>\n",
       "      <td>...</td>\n",
       "      <td>NaN</td>\n",
       "      <td>NaN</td>\n",
       "      <td>NaN</td>\n",
       "      <td>NaN</td>\n",
       "      <td>4648117</td>\n",
       "      <td>Sedan</td>\n",
       "      <td>NaN</td>\n",
       "      <td>NaN</td>\n",
       "      <td>NaN</td>\n",
       "      <td>NaN</td>\n",
       "    </tr>\n",
       "    <tr>\n",
       "      <th>2026644</th>\n",
       "      <td>07/02/2023</td>\n",
       "      <td>17:55</td>\n",
       "      <td>MANHATTAN</td>\n",
       "      <td>10006</td>\n",
       "      <td>40.711033</td>\n",
       "      <td>-74.014540</td>\n",
       "      <td>(40.711033, -74.01454)</td>\n",
       "      <td>WEST STREET</td>\n",
       "      <td>LIBERTY STREET</td>\n",
       "      <td>NaN</td>\n",
       "      <td>...</td>\n",
       "      <td>NaN</td>\n",
       "      <td>NaN</td>\n",
       "      <td>NaN</td>\n",
       "      <td>NaN</td>\n",
       "      <td>4648366</td>\n",
       "      <td>Taxi</td>\n",
       "      <td>NaN</td>\n",
       "      <td>NaN</td>\n",
       "      <td>NaN</td>\n",
       "      <td>NaN</td>\n",
       "    </tr>\n",
       "    <tr>\n",
       "      <th>2026645</th>\n",
       "      <td>07/22/2023</td>\n",
       "      <td>13:15</td>\n",
       "      <td>QUEENS</td>\n",
       "      <td>11433</td>\n",
       "      <td>40.691580</td>\n",
       "      <td>-73.793190</td>\n",
       "      <td>(40.69158, -73.79319)</td>\n",
       "      <td>110 AVENUE</td>\n",
       "      <td>157 STREET</td>\n",
       "      <td>NaN</td>\n",
       "      <td>...</td>\n",
       "      <td>Driver Inattention/Distraction</td>\n",
       "      <td>NaN</td>\n",
       "      <td>NaN</td>\n",
       "      <td>NaN</td>\n",
       "      <td>4648129</td>\n",
       "      <td>Station Wagon/Sport Utility Vehicle</td>\n",
       "      <td>E-Bike</td>\n",
       "      <td>NaN</td>\n",
       "      <td>NaN</td>\n",
       "      <td>NaN</td>\n",
       "    </tr>\n",
       "    <tr>\n",
       "      <th>2026646</th>\n",
       "      <td>07/22/2023</td>\n",
       "      <td>3:00</td>\n",
       "      <td>QUEENS</td>\n",
       "      <td>11433</td>\n",
       "      <td>40.700240</td>\n",
       "      <td>-73.792854</td>\n",
       "      <td>(40.70024, -73.792854)</td>\n",
       "      <td>SOUTH ROAD</td>\n",
       "      <td>164 STREET</td>\n",
       "      <td>NaN</td>\n",
       "      <td>...</td>\n",
       "      <td>NaN</td>\n",
       "      <td>NaN</td>\n",
       "      <td>NaN</td>\n",
       "      <td>NaN</td>\n",
       "      <td>4647913</td>\n",
       "      <td>Sedan</td>\n",
       "      <td>NaN</td>\n",
       "      <td>NaN</td>\n",
       "      <td>NaN</td>\n",
       "      <td>NaN</td>\n",
       "    </tr>\n",
       "  </tbody>\n",
       "</table>\n",
       "<p>2026647 rows × 29 columns</p>\n",
       "</div>"
      ],
      "text/plain": [
       "         CRASH DATE CRASH TIME    BOROUGH ZIP CODE   LATITUDE  LONGITUDE  \\\n",
       "0        09/11/2021       2:39        NaN      NaN        NaN        NaN   \n",
       "1        03/26/2022      11:45        NaN      NaN        NaN        NaN   \n",
       "2        06/29/2022       6:55        NaN      NaN        NaN        NaN   \n",
       "3        09/11/2021       9:35   BROOKLYN    11208  40.667202 -73.866500   \n",
       "4        12/14/2021       8:13   BROOKLYN    11233  40.683304 -73.917274   \n",
       "...             ...        ...        ...      ...        ...        ...   \n",
       "2026642  07/03/2023      18:05        NaN      NaN  40.866806 -73.931010   \n",
       "2026643  07/22/2023      21:39      BRONX    10457  40.844177 -73.902920   \n",
       "2026644  07/02/2023      17:55  MANHATTAN    10006  40.711033 -74.014540   \n",
       "2026645  07/22/2023      13:15     QUEENS    11433  40.691580 -73.793190   \n",
       "2026646  07/22/2023       3:00     QUEENS    11433  40.700240 -73.792854   \n",
       "\n",
       "                        LOCATION           ON STREET NAME CROSS STREET NAME  \\\n",
       "0                            NaN    WHITESTONE EXPRESSWAY         20 AVENUE   \n",
       "1                            NaN  QUEENSBORO BRIDGE UPPER               NaN   \n",
       "2                            NaN       THROGS NECK BRIDGE               NaN   \n",
       "3          (40.667202, -73.8665)                      NaN               NaN   \n",
       "4        (40.683304, -73.917274)          SARATOGA AVENUE    DECATUR STREET   \n",
       "...                          ...                      ...               ...   \n",
       "2026642   (40.866806, -73.93101)          RIVERSIDE DRIVE               NaN   \n",
       "2026643   (40.844177, -73.90292)          EAST 174 STREET    WEBSTER AVENUE   \n",
       "2026644   (40.711033, -74.01454)              WEST STREET    LIBERTY STREET   \n",
       "2026645    (40.69158, -73.79319)               110 AVENUE        157 STREET   \n",
       "2026646   (40.70024, -73.792854)               SOUTH ROAD        164 STREET   \n",
       "\n",
       "                 OFF STREET NAME  ...   CONTRIBUTING FACTOR VEHICLE 2  \\\n",
       "0                            NaN  ...                     Unspecified   \n",
       "1                            NaN  ...                             NaN   \n",
       "2                            NaN  ...                     Unspecified   \n",
       "3        1211      LORING AVENUE  ...                             NaN   \n",
       "4                            NaN  ...                             NaN   \n",
       "...                          ...  ...                             ...   \n",
       "2026642                      NaN  ...                     Unspecified   \n",
       "2026643                      NaN  ...                             NaN   \n",
       "2026644                      NaN  ...                             NaN   \n",
       "2026645                      NaN  ...  Driver Inattention/Distraction   \n",
       "2026646                      NaN  ...                             NaN   \n",
       "\n",
       "         CONTRIBUTING FACTOR VEHICLE 3  CONTRIBUTING FACTOR VEHICLE 4  \\\n",
       "0                                  NaN                            NaN   \n",
       "1                                  NaN                            NaN   \n",
       "2                                  NaN                            NaN   \n",
       "3                                  NaN                            NaN   \n",
       "4                                  NaN                            NaN   \n",
       "...                                ...                            ...   \n",
       "2026642                            NaN                            NaN   \n",
       "2026643                            NaN                            NaN   \n",
       "2026644                            NaN                            NaN   \n",
       "2026645                            NaN                            NaN   \n",
       "2026646                            NaN                            NaN   \n",
       "\n",
       "         CONTRIBUTING FACTOR VEHICLE 5  COLLISION_ID  \\\n",
       "0                                  NaN       4455765   \n",
       "1                                  NaN       4513547   \n",
       "2                                  NaN       4541903   \n",
       "3                                  NaN       4456314   \n",
       "4                                  NaN       4486609   \n",
       "...                                ...           ...   \n",
       "2026642                            NaN       4648110   \n",
       "2026643                            NaN       4648117   \n",
       "2026644                            NaN       4648366   \n",
       "2026645                            NaN       4648129   \n",
       "2026646                            NaN       4647913   \n",
       "\n",
       "                         VEHICLE TYPE CODE 1  VEHICLE TYPE CODE 2  \\\n",
       "0                                      Sedan                Sedan   \n",
       "1                                      Sedan                  NaN   \n",
       "2                                      Sedan        Pick-up Truck   \n",
       "3                                      Sedan                  NaN   \n",
       "4                                        NaN                  NaN   \n",
       "...                                      ...                  ...   \n",
       "2026642                                Sedan                Sedan   \n",
       "2026643                                Sedan                  NaN   \n",
       "2026644                                 Taxi                  NaN   \n",
       "2026645  Station Wagon/Sport Utility Vehicle               E-Bike   \n",
       "2026646                                Sedan                  NaN   \n",
       "\n",
       "         VEHICLE TYPE CODE 3 VEHICLE TYPE CODE 4 VEHICLE TYPE CODE 5  \n",
       "0                        NaN                 NaN                 NaN  \n",
       "1                        NaN                 NaN                 NaN  \n",
       "2                        NaN                 NaN                 NaN  \n",
       "3                        NaN                 NaN                 NaN  \n",
       "4                        NaN                 NaN                 NaN  \n",
       "...                      ...                 ...                 ...  \n",
       "2026642                  NaN                 NaN                 NaN  \n",
       "2026643                  NaN                 NaN                 NaN  \n",
       "2026644                  NaN                 NaN                 NaN  \n",
       "2026645                  NaN                 NaN                 NaN  \n",
       "2026646                  NaN                 NaN                 NaN  \n",
       "\n",
       "[2026647 rows x 29 columns]"
      ]
     },
     "execution_count": 2,
     "metadata": {},
     "output_type": "execute_result"
    }
   ],
   "source": [
    "# Load dataset\n",
    "data = pd.read_csv(\"vehicle_collisions.csv\", low_memory = False)\n",
    "data"
   ]
  },
  {
   "cell_type": "code",
   "execution_count": 3,
   "id": "f88edad2-ac8a-42d9-b6ca-06e702c9d232",
   "metadata": {
    "colab": {
     "base_uri": "https://localhost:8080/",
     "height": 721
    },
    "executionInfo": {
     "elapsed": 6391,
     "status": "ok",
     "timestamp": 1701368233610,
     "user": {
      "displayName": "vijay reddy",
      "userId": "14915251025245810636"
     },
     "user_tz": 300
    },
    "id": "f88edad2-ac8a-42d9-b6ca-06e702c9d232",
    "outputId": "4c5edc18-289f-4f85-d876-5362cc2ecdc9"
   },
   "outputs": [
    {
     "data": {
      "text/html": [
       "<div>\n",
       "<style scoped>\n",
       "    .dataframe tbody tr th:only-of-type {\n",
       "        vertical-align: middle;\n",
       "    }\n",
       "\n",
       "    .dataframe tbody tr th {\n",
       "        vertical-align: top;\n",
       "    }\n",
       "\n",
       "    .dataframe thead th {\n",
       "        text-align: right;\n",
       "    }\n",
       "</style>\n",
       "<table border=\"1\" class=\"dataframe\">\n",
       "  <thead>\n",
       "    <tr style=\"text-align: right;\">\n",
       "      <th></th>\n",
       "      <th>CRASH DATE</th>\n",
       "      <th>CRASH TIME</th>\n",
       "      <th>BOROUGH</th>\n",
       "      <th>ZIP CODE</th>\n",
       "      <th>LATITUDE</th>\n",
       "      <th>LONGITUDE</th>\n",
       "      <th>LOCATION</th>\n",
       "      <th>ON STREET NAME</th>\n",
       "      <th>CROSS STREET NAME</th>\n",
       "      <th>OFF STREET NAME</th>\n",
       "      <th>...</th>\n",
       "      <th>CONTRIBUTING FACTOR VEHICLE 2</th>\n",
       "      <th>CONTRIBUTING FACTOR VEHICLE 3</th>\n",
       "      <th>CONTRIBUTING FACTOR VEHICLE 4</th>\n",
       "      <th>CONTRIBUTING FACTOR VEHICLE 5</th>\n",
       "      <th>COLLISION_ID</th>\n",
       "      <th>VEHICLE TYPE CODE 1</th>\n",
       "      <th>VEHICLE TYPE CODE 2</th>\n",
       "      <th>VEHICLE TYPE CODE 3</th>\n",
       "      <th>VEHICLE TYPE CODE 4</th>\n",
       "      <th>VEHICLE TYPE CODE 5</th>\n",
       "    </tr>\n",
       "  </thead>\n",
       "  <tbody>\n",
       "    <tr>\n",
       "      <th>0</th>\n",
       "      <td>09/11/2021</td>\n",
       "      <td>2:39</td>\n",
       "      <td>NaN</td>\n",
       "      <td>NaN</td>\n",
       "      <td>NaN</td>\n",
       "      <td>NaN</td>\n",
       "      <td>NaN</td>\n",
       "      <td>WHITESTONE EXPRESSWAY</td>\n",
       "      <td>20 AVENUE</td>\n",
       "      <td>NaN</td>\n",
       "      <td>...</td>\n",
       "      <td>Unspecified</td>\n",
       "      <td>NaN</td>\n",
       "      <td>NaN</td>\n",
       "      <td>NaN</td>\n",
       "      <td>4455765</td>\n",
       "      <td>Sedan</td>\n",
       "      <td>Sedan</td>\n",
       "      <td>NaN</td>\n",
       "      <td>NaN</td>\n",
       "      <td>NaN</td>\n",
       "    </tr>\n",
       "    <tr>\n",
       "      <th>1</th>\n",
       "      <td>03/26/2022</td>\n",
       "      <td>11:45</td>\n",
       "      <td>NaN</td>\n",
       "      <td>NaN</td>\n",
       "      <td>NaN</td>\n",
       "      <td>NaN</td>\n",
       "      <td>NaN</td>\n",
       "      <td>QUEENSBORO BRIDGE UPPER</td>\n",
       "      <td>NaN</td>\n",
       "      <td>NaN</td>\n",
       "      <td>...</td>\n",
       "      <td>NaN</td>\n",
       "      <td>NaN</td>\n",
       "      <td>NaN</td>\n",
       "      <td>NaN</td>\n",
       "      <td>4513547</td>\n",
       "      <td>Sedan</td>\n",
       "      <td>NaN</td>\n",
       "      <td>NaN</td>\n",
       "      <td>NaN</td>\n",
       "      <td>NaN</td>\n",
       "    </tr>\n",
       "    <tr>\n",
       "      <th>2</th>\n",
       "      <td>06/29/2022</td>\n",
       "      <td>6:55</td>\n",
       "      <td>NaN</td>\n",
       "      <td>NaN</td>\n",
       "      <td>NaN</td>\n",
       "      <td>NaN</td>\n",
       "      <td>NaN</td>\n",
       "      <td>THROGS NECK BRIDGE</td>\n",
       "      <td>NaN</td>\n",
       "      <td>NaN</td>\n",
       "      <td>...</td>\n",
       "      <td>Unspecified</td>\n",
       "      <td>NaN</td>\n",
       "      <td>NaN</td>\n",
       "      <td>NaN</td>\n",
       "      <td>4541903</td>\n",
       "      <td>Sedan</td>\n",
       "      <td>Pick-up Truck</td>\n",
       "      <td>NaN</td>\n",
       "      <td>NaN</td>\n",
       "      <td>NaN</td>\n",
       "    </tr>\n",
       "    <tr>\n",
       "      <th>3</th>\n",
       "      <td>09/11/2021</td>\n",
       "      <td>9:35</td>\n",
       "      <td>BROOKLYN</td>\n",
       "      <td>11208</td>\n",
       "      <td>40.667202</td>\n",
       "      <td>-73.866500</td>\n",
       "      <td>(40.667202, -73.8665)</td>\n",
       "      <td>NaN</td>\n",
       "      <td>NaN</td>\n",
       "      <td>1211      LORING AVENUE</td>\n",
       "      <td>...</td>\n",
       "      <td>NaN</td>\n",
       "      <td>NaN</td>\n",
       "      <td>NaN</td>\n",
       "      <td>NaN</td>\n",
       "      <td>4456314</td>\n",
       "      <td>Sedan</td>\n",
       "      <td>NaN</td>\n",
       "      <td>NaN</td>\n",
       "      <td>NaN</td>\n",
       "      <td>NaN</td>\n",
       "    </tr>\n",
       "    <tr>\n",
       "      <th>4</th>\n",
       "      <td>12/14/2021</td>\n",
       "      <td>8:13</td>\n",
       "      <td>BROOKLYN</td>\n",
       "      <td>11233</td>\n",
       "      <td>40.683304</td>\n",
       "      <td>-73.917274</td>\n",
       "      <td>(40.683304, -73.917274)</td>\n",
       "      <td>SARATOGA AVENUE</td>\n",
       "      <td>DECATUR STREET</td>\n",
       "      <td>NaN</td>\n",
       "      <td>...</td>\n",
       "      <td>NaN</td>\n",
       "      <td>NaN</td>\n",
       "      <td>NaN</td>\n",
       "      <td>NaN</td>\n",
       "      <td>4486609</td>\n",
       "      <td>NaN</td>\n",
       "      <td>NaN</td>\n",
       "      <td>NaN</td>\n",
       "      <td>NaN</td>\n",
       "      <td>NaN</td>\n",
       "    </tr>\n",
       "    <tr>\n",
       "      <th>...</th>\n",
       "      <td>...</td>\n",
       "      <td>...</td>\n",
       "      <td>...</td>\n",
       "      <td>...</td>\n",
       "      <td>...</td>\n",
       "      <td>...</td>\n",
       "      <td>...</td>\n",
       "      <td>...</td>\n",
       "      <td>...</td>\n",
       "      <td>...</td>\n",
       "      <td>...</td>\n",
       "      <td>...</td>\n",
       "      <td>...</td>\n",
       "      <td>...</td>\n",
       "      <td>...</td>\n",
       "      <td>...</td>\n",
       "      <td>...</td>\n",
       "      <td>...</td>\n",
       "      <td>...</td>\n",
       "      <td>...</td>\n",
       "      <td>...</td>\n",
       "    </tr>\n",
       "    <tr>\n",
       "      <th>2026642</th>\n",
       "      <td>07/03/2023</td>\n",
       "      <td>18:05</td>\n",
       "      <td>NaN</td>\n",
       "      <td>NaN</td>\n",
       "      <td>40.866806</td>\n",
       "      <td>-73.931010</td>\n",
       "      <td>(40.866806, -73.93101)</td>\n",
       "      <td>RIVERSIDE DRIVE</td>\n",
       "      <td>NaN</td>\n",
       "      <td>NaN</td>\n",
       "      <td>...</td>\n",
       "      <td>Unspecified</td>\n",
       "      <td>NaN</td>\n",
       "      <td>NaN</td>\n",
       "      <td>NaN</td>\n",
       "      <td>4648110</td>\n",
       "      <td>Sedan</td>\n",
       "      <td>Sedan</td>\n",
       "      <td>NaN</td>\n",
       "      <td>NaN</td>\n",
       "      <td>NaN</td>\n",
       "    </tr>\n",
       "    <tr>\n",
       "      <th>2026643</th>\n",
       "      <td>07/22/2023</td>\n",
       "      <td>21:39</td>\n",
       "      <td>BRONX</td>\n",
       "      <td>10457</td>\n",
       "      <td>40.844177</td>\n",
       "      <td>-73.902920</td>\n",
       "      <td>(40.844177, -73.90292)</td>\n",
       "      <td>EAST 174 STREET</td>\n",
       "      <td>WEBSTER AVENUE</td>\n",
       "      <td>NaN</td>\n",
       "      <td>...</td>\n",
       "      <td>NaN</td>\n",
       "      <td>NaN</td>\n",
       "      <td>NaN</td>\n",
       "      <td>NaN</td>\n",
       "      <td>4648117</td>\n",
       "      <td>Sedan</td>\n",
       "      <td>NaN</td>\n",
       "      <td>NaN</td>\n",
       "      <td>NaN</td>\n",
       "      <td>NaN</td>\n",
       "    </tr>\n",
       "    <tr>\n",
       "      <th>2026644</th>\n",
       "      <td>07/02/2023</td>\n",
       "      <td>17:55</td>\n",
       "      <td>MANHATTAN</td>\n",
       "      <td>10006</td>\n",
       "      <td>40.711033</td>\n",
       "      <td>-74.014540</td>\n",
       "      <td>(40.711033, -74.01454)</td>\n",
       "      <td>WEST STREET</td>\n",
       "      <td>LIBERTY STREET</td>\n",
       "      <td>NaN</td>\n",
       "      <td>...</td>\n",
       "      <td>NaN</td>\n",
       "      <td>NaN</td>\n",
       "      <td>NaN</td>\n",
       "      <td>NaN</td>\n",
       "      <td>4648366</td>\n",
       "      <td>Taxi</td>\n",
       "      <td>NaN</td>\n",
       "      <td>NaN</td>\n",
       "      <td>NaN</td>\n",
       "      <td>NaN</td>\n",
       "    </tr>\n",
       "    <tr>\n",
       "      <th>2026645</th>\n",
       "      <td>07/22/2023</td>\n",
       "      <td>13:15</td>\n",
       "      <td>QUEENS</td>\n",
       "      <td>11433</td>\n",
       "      <td>40.691580</td>\n",
       "      <td>-73.793190</td>\n",
       "      <td>(40.69158, -73.79319)</td>\n",
       "      <td>110 AVENUE</td>\n",
       "      <td>157 STREET</td>\n",
       "      <td>NaN</td>\n",
       "      <td>...</td>\n",
       "      <td>Driver Inattention/Distraction</td>\n",
       "      <td>NaN</td>\n",
       "      <td>NaN</td>\n",
       "      <td>NaN</td>\n",
       "      <td>4648129</td>\n",
       "      <td>Station Wagon/Sport Utility Vehicle</td>\n",
       "      <td>E-Bike</td>\n",
       "      <td>NaN</td>\n",
       "      <td>NaN</td>\n",
       "      <td>NaN</td>\n",
       "    </tr>\n",
       "    <tr>\n",
       "      <th>2026646</th>\n",
       "      <td>07/22/2023</td>\n",
       "      <td>3:00</td>\n",
       "      <td>QUEENS</td>\n",
       "      <td>11433</td>\n",
       "      <td>40.700240</td>\n",
       "      <td>-73.792854</td>\n",
       "      <td>(40.70024, -73.792854)</td>\n",
       "      <td>SOUTH ROAD</td>\n",
       "      <td>164 STREET</td>\n",
       "      <td>NaN</td>\n",
       "      <td>...</td>\n",
       "      <td>NaN</td>\n",
       "      <td>NaN</td>\n",
       "      <td>NaN</td>\n",
       "      <td>NaN</td>\n",
       "      <td>4647913</td>\n",
       "      <td>Sedan</td>\n",
       "      <td>NaN</td>\n",
       "      <td>NaN</td>\n",
       "      <td>NaN</td>\n",
       "      <td>NaN</td>\n",
       "    </tr>\n",
       "  </tbody>\n",
       "</table>\n",
       "<p>2026647 rows × 29 columns</p>\n",
       "</div>"
      ],
      "text/plain": [
       "         CRASH DATE CRASH TIME    BOROUGH ZIP CODE  LATITUDE  LONGITUDE  \\\n",
       "0        09/11/2021       2:39        NaN      NaN       NaN        NaN   \n",
       "1        03/26/2022      11:45        NaN      NaN       NaN        NaN   \n",
       "2        06/29/2022       6:55        NaN      NaN       NaN        NaN   \n",
       "3        09/11/2021       9:35   BROOKLYN    11208 40.667202 -73.866500   \n",
       "4        12/14/2021       8:13   BROOKLYN    11233 40.683304 -73.917274   \n",
       "...             ...        ...        ...      ...       ...        ...   \n",
       "2026642  07/03/2023      18:05        NaN      NaN 40.866806 -73.931010   \n",
       "2026643  07/22/2023      21:39      BRONX    10457 40.844177 -73.902920   \n",
       "2026644  07/02/2023      17:55  MANHATTAN    10006 40.711033 -74.014540   \n",
       "2026645  07/22/2023      13:15     QUEENS    11433 40.691580 -73.793190   \n",
       "2026646  07/22/2023       3:00     QUEENS    11433 40.700240 -73.792854   \n",
       "\n",
       "                        LOCATION           ON STREET NAME CROSS STREET NAME  \\\n",
       "0                            NaN    WHITESTONE EXPRESSWAY         20 AVENUE   \n",
       "1                            NaN  QUEENSBORO BRIDGE UPPER               NaN   \n",
       "2                            NaN       THROGS NECK BRIDGE               NaN   \n",
       "3          (40.667202, -73.8665)                      NaN               NaN   \n",
       "4        (40.683304, -73.917274)          SARATOGA AVENUE    DECATUR STREET   \n",
       "...                          ...                      ...               ...   \n",
       "2026642   (40.866806, -73.93101)          RIVERSIDE DRIVE               NaN   \n",
       "2026643   (40.844177, -73.90292)          EAST 174 STREET    WEBSTER AVENUE   \n",
       "2026644   (40.711033, -74.01454)              WEST STREET    LIBERTY STREET   \n",
       "2026645    (40.69158, -73.79319)               110 AVENUE        157 STREET   \n",
       "2026646   (40.70024, -73.792854)               SOUTH ROAD        164 STREET   \n",
       "\n",
       "                 OFF STREET NAME  ...   CONTRIBUTING FACTOR VEHICLE 2  \\\n",
       "0                            NaN  ...                     Unspecified   \n",
       "1                            NaN  ...                             NaN   \n",
       "2                            NaN  ...                     Unspecified   \n",
       "3        1211      LORING AVENUE  ...                             NaN   \n",
       "4                            NaN  ...                             NaN   \n",
       "...                          ...  ...                             ...   \n",
       "2026642                      NaN  ...                     Unspecified   \n",
       "2026643                      NaN  ...                             NaN   \n",
       "2026644                      NaN  ...                             NaN   \n",
       "2026645                      NaN  ...  Driver Inattention/Distraction   \n",
       "2026646                      NaN  ...                             NaN   \n",
       "\n",
       "         CONTRIBUTING FACTOR VEHICLE 3  CONTRIBUTING FACTOR VEHICLE 4  \\\n",
       "0                                  NaN                            NaN   \n",
       "1                                  NaN                            NaN   \n",
       "2                                  NaN                            NaN   \n",
       "3                                  NaN                            NaN   \n",
       "4                                  NaN                            NaN   \n",
       "...                                ...                            ...   \n",
       "2026642                            NaN                            NaN   \n",
       "2026643                            NaN                            NaN   \n",
       "2026644                            NaN                            NaN   \n",
       "2026645                            NaN                            NaN   \n",
       "2026646                            NaN                            NaN   \n",
       "\n",
       "         CONTRIBUTING FACTOR VEHICLE 5  COLLISION_ID  \\\n",
       "0                                  NaN       4455765   \n",
       "1                                  NaN       4513547   \n",
       "2                                  NaN       4541903   \n",
       "3                                  NaN       4456314   \n",
       "4                                  NaN       4486609   \n",
       "...                                ...           ...   \n",
       "2026642                            NaN       4648110   \n",
       "2026643                            NaN       4648117   \n",
       "2026644                            NaN       4648366   \n",
       "2026645                            NaN       4648129   \n",
       "2026646                            NaN       4647913   \n",
       "\n",
       "                         VEHICLE TYPE CODE 1  VEHICLE TYPE CODE 2  \\\n",
       "0                                      Sedan                Sedan   \n",
       "1                                      Sedan                  NaN   \n",
       "2                                      Sedan        Pick-up Truck   \n",
       "3                                      Sedan                  NaN   \n",
       "4                                        NaN                  NaN   \n",
       "...                                      ...                  ...   \n",
       "2026642                                Sedan                Sedan   \n",
       "2026643                                Sedan                  NaN   \n",
       "2026644                                 Taxi                  NaN   \n",
       "2026645  Station Wagon/Sport Utility Vehicle               E-Bike   \n",
       "2026646                                Sedan                  NaN   \n",
       "\n",
       "         VEHICLE TYPE CODE 3 VEHICLE TYPE CODE 4 VEHICLE TYPE CODE 5  \n",
       "0                        NaN                 NaN                 NaN  \n",
       "1                        NaN                 NaN                 NaN  \n",
       "2                        NaN                 NaN                 NaN  \n",
       "3                        NaN                 NaN                 NaN  \n",
       "4                        NaN                 NaN                 NaN  \n",
       "...                      ...                 ...                 ...  \n",
       "2026642                  NaN                 NaN                 NaN  \n",
       "2026643                  NaN                 NaN                 NaN  \n",
       "2026644                  NaN                 NaN                 NaN  \n",
       "2026645                  NaN                 NaN                 NaN  \n",
       "2026646                  NaN                 NaN                 NaN  \n",
       "\n",
       "[2026647 rows x 29 columns]"
      ]
     },
     "execution_count": 3,
     "metadata": {},
     "output_type": "execute_result"
    }
   ],
   "source": [
    "# Setting the decimal to 6 points\n",
    "\n",
    "pd.options.display.float_format = '{:.6f}'.format\n",
    "data"
   ]
  },
  {
   "cell_type": "code",
   "execution_count": 4,
   "id": "8fafb51c-f1d6-465c-ab7a-b18c848be314",
   "metadata": {
    "colab": {
     "base_uri": "https://localhost:8080/"
    },
    "executionInfo": {
     "elapsed": 152,
     "status": "ok",
     "timestamp": 1701368238177,
     "user": {
      "displayName": "vijay reddy",
      "userId": "14915251025245810636"
     },
     "user_tz": 300
    },
    "id": "8fafb51c-f1d6-465c-ab7a-b18c848be314",
    "outputId": "b3adab1c-2f75-4acd-f5cb-784817403bb6"
   },
   "outputs": [
    {
     "name": "stdout",
     "output_type": "stream",
     "text": [
      "<class 'pandas.core.frame.DataFrame'>\n",
      "RangeIndex: 2026647 entries, 0 to 2026646\n",
      "Data columns (total 29 columns):\n",
      " #   Column                         Dtype  \n",
      "---  ------                         -----  \n",
      " 0   CRASH DATE                     object \n",
      " 1   CRASH TIME                     object \n",
      " 2   BOROUGH                        object \n",
      " 3   ZIP CODE                       object \n",
      " 4   LATITUDE                       float64\n",
      " 5   LONGITUDE                      float64\n",
      " 6   LOCATION                       object \n",
      " 7   ON STREET NAME                 object \n",
      " 8   CROSS STREET NAME              object \n",
      " 9   OFF STREET NAME                object \n",
      " 10  NUMBER OF PERSONS INJURED      float64\n",
      " 11  NUMBER OF PERSONS KILLED       float64\n",
      " 12  NUMBER OF PEDESTRIANS INJURED  int64  \n",
      " 13  NUMBER OF PEDESTRIANS KILLED   int64  \n",
      " 14  NUMBER OF CYCLIST INJURED      int64  \n",
      " 15  NUMBER OF CYCLIST KILLED       int64  \n",
      " 16  NUMBER OF MOTORIST INJURED     int64  \n",
      " 17  NUMBER OF MOTORIST KILLED      int64  \n",
      " 18  CONTRIBUTING FACTOR VEHICLE 1  object \n",
      " 19  CONTRIBUTING FACTOR VEHICLE 2  object \n",
      " 20  CONTRIBUTING FACTOR VEHICLE 3  object \n",
      " 21  CONTRIBUTING FACTOR VEHICLE 4  object \n",
      " 22  CONTRIBUTING FACTOR VEHICLE 5  object \n",
      " 23  COLLISION_ID                   int64  \n",
      " 24  VEHICLE TYPE CODE 1            object \n",
      " 25  VEHICLE TYPE CODE 2            object \n",
      " 26  VEHICLE TYPE CODE 3            object \n",
      " 27  VEHICLE TYPE CODE 4            object \n",
      " 28  VEHICLE TYPE CODE 5            object \n",
      "dtypes: float64(4), int64(7), object(18)\n",
      "memory usage: 448.4+ MB\n"
     ]
    }
   ],
   "source": [
    "# Info about the dataset\n",
    "\n",
    "data.info()"
   ]
  },
  {
   "cell_type": "code",
   "execution_count": 5,
   "id": "86cf0bd5-2efe-4a61-af82-10369bdf84d1",
   "metadata": {
    "colab": {
     "base_uri": "https://localhost:8080/",
     "height": 355
    },
    "executionInfo": {
     "elapsed": 1015,
     "status": "ok",
     "timestamp": 1701368242088,
     "user": {
      "displayName": "vijay reddy",
      "userId": "14915251025245810636"
     },
     "user_tz": 300
    },
    "id": "86cf0bd5-2efe-4a61-af82-10369bdf84d1",
    "outputId": "39d9d5d8-7734-4536-d580-871c1d9cd097"
   },
   "outputs": [
    {
     "data": {
      "text/html": [
       "<div>\n",
       "<style scoped>\n",
       "    .dataframe tbody tr th:only-of-type {\n",
       "        vertical-align: middle;\n",
       "    }\n",
       "\n",
       "    .dataframe tbody tr th {\n",
       "        vertical-align: top;\n",
       "    }\n",
       "\n",
       "    .dataframe thead th {\n",
       "        text-align: right;\n",
       "    }\n",
       "</style>\n",
       "<table border=\"1\" class=\"dataframe\">\n",
       "  <thead>\n",
       "    <tr style=\"text-align: right;\">\n",
       "      <th></th>\n",
       "      <th>LATITUDE</th>\n",
       "      <th>LONGITUDE</th>\n",
       "      <th>NUMBER OF PERSONS INJURED</th>\n",
       "      <th>NUMBER OF PERSONS KILLED</th>\n",
       "      <th>NUMBER OF PEDESTRIANS INJURED</th>\n",
       "      <th>NUMBER OF PEDESTRIANS KILLED</th>\n",
       "      <th>NUMBER OF CYCLIST INJURED</th>\n",
       "      <th>NUMBER OF CYCLIST KILLED</th>\n",
       "      <th>NUMBER OF MOTORIST INJURED</th>\n",
       "      <th>NUMBER OF MOTORIST KILLED</th>\n",
       "      <th>COLLISION_ID</th>\n",
       "    </tr>\n",
       "  </thead>\n",
       "  <tbody>\n",
       "    <tr>\n",
       "      <th>count</th>\n",
       "      <td>1796344.000000</td>\n",
       "      <td>1796344.000000</td>\n",
       "      <td>2026629.000000</td>\n",
       "      <td>2026616.000000</td>\n",
       "      <td>2026647.000000</td>\n",
       "      <td>2026647.000000</td>\n",
       "      <td>2026647.000000</td>\n",
       "      <td>2026647.000000</td>\n",
       "      <td>2026647.000000</td>\n",
       "      <td>2026647.000000</td>\n",
       "      <td>2026647.000000</td>\n",
       "    </tr>\n",
       "    <tr>\n",
       "      <th>mean</th>\n",
       "      <td>40.627758</td>\n",
       "      <td>-73.752275</td>\n",
       "      <td>0.303626</td>\n",
       "      <td>0.001454</td>\n",
       "      <td>0.055286</td>\n",
       "      <td>0.000726</td>\n",
       "      <td>0.026307</td>\n",
       "      <td>0.000112</td>\n",
       "      <td>0.218785</td>\n",
       "      <td>0.000595</td>\n",
       "      <td>3122849.577184</td>\n",
       "    </tr>\n",
       "    <tr>\n",
       "      <th>std</th>\n",
       "      <td>1.980800</td>\n",
       "      <td>3.726823</td>\n",
       "      <td>0.694812</td>\n",
       "      <td>0.040185</td>\n",
       "      <td>0.241574</td>\n",
       "      <td>0.027431</td>\n",
       "      <td>0.161991</td>\n",
       "      <td>0.010606</td>\n",
       "      <td>0.655947</td>\n",
       "      <td>0.026612</td>\n",
       "      <td>1504145.015621</td>\n",
       "    </tr>\n",
       "    <tr>\n",
       "      <th>min</th>\n",
       "      <td>0.000000</td>\n",
       "      <td>-201.359990</td>\n",
       "      <td>0.000000</td>\n",
       "      <td>0.000000</td>\n",
       "      <td>0.000000</td>\n",
       "      <td>0.000000</td>\n",
       "      <td>0.000000</td>\n",
       "      <td>0.000000</td>\n",
       "      <td>0.000000</td>\n",
       "      <td>0.000000</td>\n",
       "      <td>22.000000</td>\n",
       "    </tr>\n",
       "    <tr>\n",
       "      <th>25%</th>\n",
       "      <td>40.667915</td>\n",
       "      <td>-73.974920</td>\n",
       "      <td>0.000000</td>\n",
       "      <td>0.000000</td>\n",
       "      <td>0.000000</td>\n",
       "      <td>0.000000</td>\n",
       "      <td>0.000000</td>\n",
       "      <td>0.000000</td>\n",
       "      <td>0.000000</td>\n",
       "      <td>0.000000</td>\n",
       "      <td>3142781.500000</td>\n",
       "    </tr>\n",
       "    <tr>\n",
       "      <th>50%</th>\n",
       "      <td>40.720968</td>\n",
       "      <td>-73.927316</td>\n",
       "      <td>0.000000</td>\n",
       "      <td>0.000000</td>\n",
       "      <td>0.000000</td>\n",
       "      <td>0.000000</td>\n",
       "      <td>0.000000</td>\n",
       "      <td>0.000000</td>\n",
       "      <td>0.000000</td>\n",
       "      <td>0.000000</td>\n",
       "      <td>3649550.000000</td>\n",
       "    </tr>\n",
       "    <tr>\n",
       "      <th>75%</th>\n",
       "      <td>40.769558</td>\n",
       "      <td>-73.866680</td>\n",
       "      <td>0.000000</td>\n",
       "      <td>0.000000</td>\n",
       "      <td>0.000000</td>\n",
       "      <td>0.000000</td>\n",
       "      <td>0.000000</td>\n",
       "      <td>0.000000</td>\n",
       "      <td>0.000000</td>\n",
       "      <td>0.000000</td>\n",
       "      <td>4156458.500000</td>\n",
       "    </tr>\n",
       "    <tr>\n",
       "      <th>max</th>\n",
       "      <td>43.344444</td>\n",
       "      <td>0.000000</td>\n",
       "      <td>43.000000</td>\n",
       "      <td>8.000000</td>\n",
       "      <td>27.000000</td>\n",
       "      <td>6.000000</td>\n",
       "      <td>4.000000</td>\n",
       "      <td>2.000000</td>\n",
       "      <td>43.000000</td>\n",
       "      <td>5.000000</td>\n",
       "      <td>4663399.000000</td>\n",
       "    </tr>\n",
       "  </tbody>\n",
       "</table>\n",
       "</div>"
      ],
      "text/plain": [
       "            LATITUDE      LONGITUDE  NUMBER OF PERSONS INJURED  \\\n",
       "count 1796344.000000 1796344.000000             2026629.000000   \n",
       "mean       40.627758     -73.752275                   0.303626   \n",
       "std         1.980800       3.726823                   0.694812   \n",
       "min         0.000000    -201.359990                   0.000000   \n",
       "25%        40.667915     -73.974920                   0.000000   \n",
       "50%        40.720968     -73.927316                   0.000000   \n",
       "75%        40.769558     -73.866680                   0.000000   \n",
       "max        43.344444       0.000000                  43.000000   \n",
       "\n",
       "       NUMBER OF PERSONS KILLED  NUMBER OF PEDESTRIANS INJURED  \\\n",
       "count            2026616.000000                 2026647.000000   \n",
       "mean                   0.001454                       0.055286   \n",
       "std                    0.040185                       0.241574   \n",
       "min                    0.000000                       0.000000   \n",
       "25%                    0.000000                       0.000000   \n",
       "50%                    0.000000                       0.000000   \n",
       "75%                    0.000000                       0.000000   \n",
       "max                    8.000000                      27.000000   \n",
       "\n",
       "       NUMBER OF PEDESTRIANS KILLED  NUMBER OF CYCLIST INJURED  \\\n",
       "count                2026647.000000             2026647.000000   \n",
       "mean                       0.000726                   0.026307   \n",
       "std                        0.027431                   0.161991   \n",
       "min                        0.000000                   0.000000   \n",
       "25%                        0.000000                   0.000000   \n",
       "50%                        0.000000                   0.000000   \n",
       "75%                        0.000000                   0.000000   \n",
       "max                        6.000000                   4.000000   \n",
       "\n",
       "       NUMBER OF CYCLIST KILLED  NUMBER OF MOTORIST INJURED  \\\n",
       "count            2026647.000000              2026647.000000   \n",
       "mean                   0.000112                    0.218785   \n",
       "std                    0.010606                    0.655947   \n",
       "min                    0.000000                    0.000000   \n",
       "25%                    0.000000                    0.000000   \n",
       "50%                    0.000000                    0.000000   \n",
       "75%                    0.000000                    0.000000   \n",
       "max                    2.000000                   43.000000   \n",
       "\n",
       "       NUMBER OF MOTORIST KILLED   COLLISION_ID  \n",
       "count             2026647.000000 2026647.000000  \n",
       "mean                    0.000595 3122849.577184  \n",
       "std                     0.026612 1504145.015621  \n",
       "min                     0.000000      22.000000  \n",
       "25%                     0.000000 3142781.500000  \n",
       "50%                     0.000000 3649550.000000  \n",
       "75%                     0.000000 4156458.500000  \n",
       "max                     5.000000 4663399.000000  "
      ]
     },
     "execution_count": 5,
     "metadata": {},
     "output_type": "execute_result"
    }
   ],
   "source": [
    "# Statistics about the dataset\n",
    "\n",
    "data.describe()"
   ]
  },
  {
   "cell_type": "code",
   "execution_count": 6,
   "id": "8351d363-8f5f-4265-bc71-3aa978f772b3",
   "metadata": {
    "colab": {
     "base_uri": "https://localhost:8080/"
    },
    "executionInfo": {
     "elapsed": 1782,
     "status": "ok",
     "timestamp": 1701368246357,
     "user": {
      "displayName": "vijay reddy",
      "userId": "14915251025245810636"
     },
     "user_tz": 300
    },
    "id": "8351d363-8f5f-4265-bc71-3aa978f772b3",
    "outputId": "602907c2-2ab5-417c-bafd-863d007c6efa"
   },
   "outputs": [
    {
     "name": "stdout",
     "output_type": "stream",
     "text": [
      "Number of Unique values for 'VEHICLE TYPE CODE 1':\n",
      "1572\n",
      "Number of null values for 'VEHICLE TYPE CODE 1':\n",
      "12790\n",
      "Number of Unique values for 'VEHICLE TYPE CODE 2':\n",
      "1748\n",
      "Number of null values for 'VEHICLE TYPE CODE 2':\n",
      "379657\n",
      "Number of Unique values for 'VEHICLE TYPE CODE 3':\n",
      "247\n",
      "Number of null values for 'VEHICLE TYPE CODE 3':\n",
      "1887792\n",
      "Number of Unique values for 'VEHICLE TYPE CODE 4':\n",
      "99\n",
      "Number of null values for 'VEHICLE TYPE CODE 4':\n",
      "1995412\n",
      "Number of Unique values for 'VEHICLE TYPE CODE 5':\n",
      "68\n",
      "Number of null values for 'VEHICLE TYPE CODE 5':\n",
      "2018178\n"
     ]
    }
   ],
   "source": [
    "# Number of unique and null values in different vehicle codes:\n",
    "\n",
    "vehicle_codes = ['VEHICLE TYPE CODE 1', 'VEHICLE TYPE CODE 2', 'VEHICLE TYPE CODE 3', 'VEHICLE TYPE CODE 4', 'VEHICLE TYPE CODE 5']\n",
    "for code in vehicle_codes:\n",
    "    print(f\"Number of Unique values for '{code}':\")\n",
    "    print(data[code].nunique())\n",
    "    print(f\"Number of null values for '{code}':\")\n",
    "    print(data[code].isna().sum())"
   ]
  },
  {
   "cell_type": "code",
   "execution_count": 7,
   "id": "cb2bc86a-497b-4b3a-9728-7b840b98a47b",
   "metadata": {
    "colab": {
     "base_uri": "https://localhost:8080/"
    },
    "executionInfo": {
     "elapsed": 886,
     "status": "ok",
     "timestamp": 1701368249581,
     "user": {
      "displayName": "vijay reddy",
      "userId": "14915251025245810636"
     },
     "user_tz": 300
    },
    "id": "cb2bc86a-497b-4b3a-9728-7b840b98a47b",
    "outputId": "fca5005b-eb96-4222-fd98-94c267bfd9b5"
   },
   "outputs": [
    {
     "name": "stdout",
     "output_type": "stream",
     "text": [
      "Number of unique values for 'CONTRIBUTING FACTOR VEHICLE 1':\n",
      "61\n",
      "Number of null values for 'CONTRIBUTING FACTOR VEHICLE 1':\n",
      "6397\n",
      "Number of unique values for 'CONTRIBUTING FACTOR VEHICLE 2':\n",
      "61\n",
      "Number of null values for 'CONTRIBUTING FACTOR VEHICLE 2':\n",
      "309711\n",
      "Number of unique values for 'CONTRIBUTING FACTOR VEHICLE 3':\n",
      "51\n",
      "Number of null values for 'CONTRIBUTING FACTOR VEHICLE 3':\n",
      "1882736\n",
      "Number of unique values for 'CONTRIBUTING FACTOR VEHICLE 4':\n",
      "41\n",
      "Number of null values for 'CONTRIBUTING FACTOR VEHICLE 4':\n",
      "1994330\n",
      "Number of unique values for 'CONTRIBUTING FACTOR VEHICLE 5':\n",
      "30\n",
      "Number of null values for 'CONTRIBUTING FACTOR VEHICLE 5':\n",
      "2017913\n"
     ]
    }
   ],
   "source": [
    "# Number of unique and null values in different Contributing Factors:\n",
    "\n",
    "contribution_factors = ['CONTRIBUTING FACTOR VEHICLE 1', 'CONTRIBUTING FACTOR VEHICLE 2', 'CONTRIBUTING FACTOR VEHICLE 3', 'CONTRIBUTING FACTOR VEHICLE 4', 'CONTRIBUTING FACTOR VEHICLE 5']\n",
    "for factor in contribution_factors:\n",
    "    print(f\"Number of unique values for '{factor}':\")\n",
    "    print(data[factor].nunique())\n",
    "    print(f\"Number of null values for '{factor}':\")\n",
    "    print(data[factor].isna().sum())"
   ]
  },
  {
   "cell_type": "markdown",
   "id": "cb046253-7fdc-4c8e-bb69-7397e13df951",
   "metadata": {
    "id": "cb046253-7fdc-4c8e-bb69-7397e13df951"
   },
   "source": [
    "**The ratio of unique values for vehicle/contribution factor is good for 'VEHICLE TYPE CODE 2', 'VEHICLE TYPE CODE 1' and 'CONTRIBUTING FACTOR VEHICLE 2' and 'CONTRIBUTING FACTOR VEHICLE 1'. From general knowledge of the domain, we can say that 'CONTRIBUTING FACTOR' plays a crucial role in understading the other factors associated with the collision and we don't want to impute missing values for such a key feature in our dataset because the model that will be trained may not be accurate. Since, 'CONTRIBUTING FACTOR VEHICLE 2' has more number of null values, lets stick to 'VEHICLE TYPE CODE 1' and its corresponding contribution factor 'CONTRIBUTING FACTOR VEHICLE 1' and drop the rest of 'CONTRIBUTING FACTOR VEHICLE's and 'VEHICLE TYPE CODE's**"
   ]
  },
  {
   "cell_type": "code",
   "execution_count": 8,
   "id": "f90d3180-d807-4bab-917c-dbabbdc27e91",
   "metadata": {
    "colab": {
     "base_uri": "https://localhost:8080/"
    },
    "executionInfo": {
     "elapsed": 477,
     "status": "ok",
     "timestamp": 1701368253162,
     "user": {
      "displayName": "vijay reddy",
      "userId": "14915251025245810636"
     },
     "user_tz": 300
    },
    "id": "f90d3180-d807-4bab-917c-dbabbdc27e91",
    "outputId": "a2b650dd-ac0d-41d2-df24-46ab3368eccd"
   },
   "outputs": [
    {
     "data": {
      "text/plain": [
       "Index(['CRASH DATE', 'CRASH TIME', 'BOROUGH', 'ZIP CODE', 'LATITUDE',\n",
       "       'LONGITUDE', 'LOCATION', 'ON STREET NAME', 'CROSS STREET NAME',\n",
       "       'OFF STREET NAME', 'NUMBER OF PERSONS INJURED',\n",
       "       'NUMBER OF PERSONS KILLED', 'NUMBER OF PEDESTRIANS INJURED',\n",
       "       'NUMBER OF PEDESTRIANS KILLED', 'NUMBER OF CYCLIST INJURED',\n",
       "       'NUMBER OF CYCLIST KILLED', 'NUMBER OF MOTORIST INJURED',\n",
       "       'NUMBER OF MOTORIST KILLED', 'CONTRIBUTING FACTOR VEHICLE 1',\n",
       "       'COLLISION_ID', 'VEHICLE TYPE CODE 1'],\n",
       "      dtype='object')"
      ]
     },
     "execution_count": 8,
     "metadata": {},
     "output_type": "execute_result"
    }
   ],
   "source": [
    "# Dropping unwanted columns\n",
    "\n",
    "data = data.drop(columns = ['VEHICLE TYPE CODE 2', 'VEHICLE TYPE CODE 3', 'VEHICLE TYPE CODE 4', 'VEHICLE TYPE CODE 5', 'CONTRIBUTING FACTOR VEHICLE 2', 'CONTRIBUTING FACTOR VEHICLE 3', 'CONTRIBUTING FACTOR VEHICLE 4', 'CONTRIBUTING FACTOR VEHICLE 5'])\n",
    "data.columns"
   ]
  },
  {
   "cell_type": "code",
   "execution_count": 9,
   "id": "eee2f404-770e-4a76-90b2-edcf18cf1d61",
   "metadata": {
    "colab": {
     "base_uri": "https://localhost:8080/"
    },
    "executionInfo": {
     "elapsed": 5755,
     "status": "ok",
     "timestamp": 1701368262660,
     "user": {
      "displayName": "vijay reddy",
      "userId": "14915251025245810636"
     },
     "user_tz": 300
    },
    "id": "eee2f404-770e-4a76-90b2-edcf18cf1d61",
    "outputId": "8e17b0be-42fd-4fc1-bad6-c70d10420df0"
   },
   "outputs": [
    {
     "data": {
      "text/plain": [
       "CRASH DATE                             0\n",
       "CRASH TIME                             0\n",
       "BOROUGH                           630441\n",
       "ZIP CODE                          630681\n",
       "LATITUDE                          230303\n",
       "LONGITUDE                         230303\n",
       "LOCATION                          230303\n",
       "ON STREET NAME                    427230\n",
       "CROSS STREET NAME                 759872\n",
       "OFF STREET NAME                  1691790\n",
       "NUMBER OF PERSONS INJURED             18\n",
       "NUMBER OF PERSONS KILLED              31\n",
       "NUMBER OF PEDESTRIANS INJURED          0\n",
       "NUMBER OF PEDESTRIANS KILLED           0\n",
       "NUMBER OF CYCLIST INJURED              0\n",
       "NUMBER OF CYCLIST KILLED               0\n",
       "NUMBER OF MOTORIST INJURED             0\n",
       "NUMBER OF MOTORIST KILLED              0\n",
       "CONTRIBUTING FACTOR VEHICLE 1       6397\n",
       "COLLISION_ID                           0\n",
       "VEHICLE TYPE CODE 1                12790\n",
       "dtype: int64"
      ]
     },
     "execution_count": 9,
     "metadata": {},
     "output_type": "execute_result"
    }
   ],
   "source": [
    "# Check number of null values in each feature\n",
    "data.isna().sum()"
   ]
  },
  {
   "cell_type": "code",
   "execution_count": 10,
   "id": "972c6fd6-833f-452a-b287-d66bfb4da8ab",
   "metadata": {
    "executionInfo": {
     "elapsed": 1193,
     "status": "ok",
     "timestamp": 1701368266843,
     "user": {
      "displayName": "vijay reddy",
      "userId": "14915251025245810636"
     },
     "user_tz": 300
    },
    "id": "972c6fd6-833f-452a-b287-d66bfb4da8ab"
   },
   "outputs": [],
   "source": [
    "'''\n",
    "Since number of null values are very few in NUMBER OF PERSONS INJURED, NUMBER OF PERSONS KILLED, CONTRIBUTING FACTOR VEHICLE 1,\n",
    "VEHICLE TYPE CODE 1, Let us drop those columns\n",
    "'''\n",
    "\n",
    "columns_to_drop = ['NUMBER OF PERSONS INJURED', 'NUMBER OF PERSONS KILLED', 'CONTRIBUTING FACTOR VEHICLE 1', 'VEHICLE TYPE CODE 1']\n",
    "data.dropna(subset=columns_to_drop, how='any', inplace=True)"
   ]
  },
  {
   "cell_type": "code",
   "execution_count": 11,
   "id": "26aa4655-a7f1-4337-8eee-a99017f038e1",
   "metadata": {
    "id": "26aa4655-a7f1-4337-8eee-a99017f038e1",
    "outputId": "3d297867-cdeb-421e-dfd5-b01cdfeebd38"
   },
   "outputs": [
    {
     "data": {
      "text/plain": [
       "CRASH DATE                             0\n",
       "CRASH TIME                             0\n",
       "BOROUGH                           626619\n",
       "ZIP CODE                          626858\n",
       "LATITUDE                          228805\n",
       "LONGITUDE                         228805\n",
       "LOCATION                          228805\n",
       "ON STREET NAME                    423442\n",
       "CROSS STREET NAME                 753955\n",
       "OFF STREET NAME                  1679803\n",
       "NUMBER OF PERSONS INJURED              0\n",
       "NUMBER OF PERSONS KILLED               0\n",
       "NUMBER OF PEDESTRIANS INJURED          0\n",
       "NUMBER OF PEDESTRIANS KILLED           0\n",
       "NUMBER OF CYCLIST INJURED              0\n",
       "NUMBER OF CYCLIST KILLED               0\n",
       "NUMBER OF MOTORIST INJURED             0\n",
       "NUMBER OF MOTORIST KILLED              0\n",
       "CONTRIBUTING FACTOR VEHICLE 1          0\n",
       "COLLISION_ID                           0\n",
       "VEHICLE TYPE CODE 1                    0\n",
       "dtype: int64"
      ]
     },
     "execution_count": 11,
     "metadata": {},
     "output_type": "execute_result"
    }
   ],
   "source": [
    "# Check number of null values in each feature\n",
    "data.isna().sum()"
   ]
  },
  {
   "cell_type": "code",
   "execution_count": 12,
   "id": "e035bc30-a96a-42c3-a3ac-ecd25cdf7f05",
   "metadata": {
    "colab": {
     "base_uri": "https://localhost:8080/"
    },
    "executionInfo": {
     "elapsed": 196,
     "status": "ok",
     "timestamp": 1701368272308,
     "user": {
      "displayName": "vijay reddy",
      "userId": "14915251025245810636"
     },
     "user_tz": 300
    },
    "id": "e035bc30-a96a-42c3-a3ac-ecd25cdf7f05",
    "outputId": "9fb189b9-25c3-4746-fa9b-6ed68b18000d"
   },
   "outputs": [
    {
     "name": "stdout",
     "output_type": "stream",
     "text": [
      "<class 'pandas.core.frame.DataFrame'>\n",
      "Index: 2011128 entries, 0 to 2026646\n",
      "Data columns (total 16 columns):\n",
      " #   Column                         Dtype  \n",
      "---  ------                         -----  \n",
      " 0   CRASH DATE                     object \n",
      " 1   CRASH TIME                     object \n",
      " 2   BOROUGH                        object \n",
      " 3   LATITUDE                       float64\n",
      " 4   LONGITUDE                      float64\n",
      " 5   NUMBER OF PERSONS INJURED      float64\n",
      " 6   NUMBER OF PERSONS KILLED       float64\n",
      " 7   NUMBER OF PEDESTRIANS INJURED  int64  \n",
      " 8   NUMBER OF PEDESTRIANS KILLED   int64  \n",
      " 9   NUMBER OF CYCLIST INJURED      int64  \n",
      " 10  NUMBER OF CYCLIST KILLED       int64  \n",
      " 11  NUMBER OF MOTORIST INJURED     int64  \n",
      " 12  NUMBER OF MOTORIST KILLED      int64  \n",
      " 13  CONTRIBUTING FACTOR VEHICLE 1  object \n",
      " 14  COLLISION_ID                   int64  \n",
      " 15  VEHICLE TYPE CODE 1            object \n",
      "dtypes: float64(4), int64(7), object(5)\n",
      "memory usage: 260.8+ MB\n"
     ]
    }
   ],
   "source": [
    "'''\n",
    "Removing redudant columns.\n",
    "Since Location can be traced from Latitude and longitude, lets drop other columns related to location\n",
    "'''\n",
    "data = data.drop(columns=['ZIP CODE', 'ON STREET NAME', 'CROSS STREET NAME', 'OFF STREET NAME', 'LOCATION'])\n",
    "data.info()"
   ]
  },
  {
   "cell_type": "code",
   "execution_count": 13,
   "id": "000cba71-fe94-41c3-9a63-51a4d86497ed",
   "metadata": {
    "colab": {
     "base_uri": "https://localhost:8080/"
    },
    "executionInfo": {
     "elapsed": 2651,
     "status": "ok",
     "timestamp": 1701368279732,
     "user": {
      "displayName": "vijay reddy",
      "userId": "14915251025245810636"
     },
     "user_tz": 300
    },
    "id": "000cba71-fe94-41c3-9a63-51a4d86497ed",
    "outputId": "b4dba220-1dd7-4ca5-aa4c-f5493b4214e3"
   },
   "outputs": [
    {
     "data": {
      "text/plain": [
       "CRASH DATE                            0\n",
       "CRASH TIME                            0\n",
       "BOROUGH                          626619\n",
       "LATITUDE                         228805\n",
       "LONGITUDE                        228805\n",
       "NUMBER OF PERSONS INJURED             0\n",
       "NUMBER OF PERSONS KILLED              0\n",
       "NUMBER OF PEDESTRIANS INJURED         0\n",
       "NUMBER OF PEDESTRIANS KILLED          0\n",
       "NUMBER OF CYCLIST INJURED             0\n",
       "NUMBER OF CYCLIST KILLED              0\n",
       "NUMBER OF MOTORIST INJURED            0\n",
       "NUMBER OF MOTORIST KILLED             0\n",
       "CONTRIBUTING FACTOR VEHICLE 1         0\n",
       "COLLISION_ID                          0\n",
       "VEHICLE TYPE CODE 1                   0\n",
       "dtype: int64"
      ]
     },
     "execution_count": 13,
     "metadata": {},
     "output_type": "execute_result"
    }
   ],
   "source": [
    "# Check number of null values in each feature\n",
    "data.isna().sum()"
   ]
  },
  {
   "cell_type": "code",
   "execution_count": 14,
   "id": "84c4813a-41a4-4065-b633-49faa274bf54",
   "metadata": {
    "colab": {
     "base_uri": "https://localhost:8080/",
     "height": 423
    },
    "executionInfo": {
     "elapsed": 700,
     "status": "ok",
     "timestamp": 1701368282779,
     "user": {
      "displayName": "vijay reddy",
      "userId": "14915251025245810636"
     },
     "user_tz": 300
    },
    "id": "84c4813a-41a4-4065-b633-49faa274bf54",
    "outputId": "ed6ab399-8999-442e-8787-b3248f8583bf"
   },
   "outputs": [
    {
     "data": {
      "text/html": [
       "<div>\n",
       "<style scoped>\n",
       "    .dataframe tbody tr th:only-of-type {\n",
       "        vertical-align: middle;\n",
       "    }\n",
       "\n",
       "    .dataframe tbody tr th {\n",
       "        vertical-align: top;\n",
       "    }\n",
       "\n",
       "    .dataframe thead th {\n",
       "        text-align: right;\n",
       "    }\n",
       "</style>\n",
       "<table border=\"1\" class=\"dataframe\">\n",
       "  <thead>\n",
       "    <tr style=\"text-align: right;\">\n",
       "      <th></th>\n",
       "      <th>LATITUDE</th>\n",
       "      <th>LONGITUDE</th>\n",
       "      <th>BOROUGH</th>\n",
       "    </tr>\n",
       "  </thead>\n",
       "  <tbody>\n",
       "    <tr>\n",
       "      <th>3</th>\n",
       "      <td>40.667202</td>\n",
       "      <td>-73.866500</td>\n",
       "      <td>BROOKLYN</td>\n",
       "    </tr>\n",
       "    <tr>\n",
       "      <th>7</th>\n",
       "      <td>40.868160</td>\n",
       "      <td>-73.831480</td>\n",
       "      <td>BRONX</td>\n",
       "    </tr>\n",
       "    <tr>\n",
       "      <th>8</th>\n",
       "      <td>40.671720</td>\n",
       "      <td>-73.897100</td>\n",
       "      <td>BROOKLYN</td>\n",
       "    </tr>\n",
       "    <tr>\n",
       "      <th>9</th>\n",
       "      <td>40.751440</td>\n",
       "      <td>-73.973970</td>\n",
       "      <td>MANHATTAN</td>\n",
       "    </tr>\n",
       "    <tr>\n",
       "      <th>11</th>\n",
       "      <td>40.675884</td>\n",
       "      <td>-73.755770</td>\n",
       "      <td>QUEENS</td>\n",
       "    </tr>\n",
       "    <tr>\n",
       "      <th>...</th>\n",
       "      <td>...</td>\n",
       "      <td>...</td>\n",
       "      <td>...</td>\n",
       "    </tr>\n",
       "    <tr>\n",
       "      <th>2026613</th>\n",
       "      <td>40.639812</td>\n",
       "      <td>-73.975780</td>\n",
       "      <td>BROOKLYN</td>\n",
       "    </tr>\n",
       "    <tr>\n",
       "      <th>2026618</th>\n",
       "      <td>40.837060</td>\n",
       "      <td>-73.923310</td>\n",
       "      <td>BRONX</td>\n",
       "    </tr>\n",
       "    <tr>\n",
       "      <th>2026625</th>\n",
       "      <td>40.655800</td>\n",
       "      <td>-73.962030</td>\n",
       "      <td>BROOKLYN</td>\n",
       "    </tr>\n",
       "    <tr>\n",
       "      <th>2026636</th>\n",
       "      <td>40.694603</td>\n",
       "      <td>-73.961240</td>\n",
       "      <td>BROOKLYN</td>\n",
       "    </tr>\n",
       "    <tr>\n",
       "      <th>2026639</th>\n",
       "      <td>40.814323</td>\n",
       "      <td>-73.951180</td>\n",
       "      <td>MANHATTAN</td>\n",
       "    </tr>\n",
       "  </tbody>\n",
       "</table>\n",
       "<p>246216 rows × 3 columns</p>\n",
       "</div>"
      ],
      "text/plain": [
       "         LATITUDE  LONGITUDE    BOROUGH\n",
       "3       40.667202 -73.866500   BROOKLYN\n",
       "7       40.868160 -73.831480      BRONX\n",
       "8       40.671720 -73.897100   BROOKLYN\n",
       "9       40.751440 -73.973970  MANHATTAN\n",
       "11      40.675884 -73.755770     QUEENS\n",
       "...           ...        ...        ...\n",
       "2026613 40.639812 -73.975780   BROOKLYN\n",
       "2026618 40.837060 -73.923310      BRONX\n",
       "2026625 40.655800 -73.962030   BROOKLYN\n",
       "2026636 40.694603 -73.961240   BROOKLYN\n",
       "2026639 40.814323 -73.951180  MANHATTAN\n",
       "\n",
       "[246216 rows x 3 columns]"
      ]
     },
     "execution_count": 14,
     "metadata": {},
     "output_type": "execute_result"
    }
   ],
   "source": [
    "# Get all the unique values of Latitude, Longitude and Borough\n",
    "unique_location_values = data[['LATITUDE', 'LONGITUDE', 'BOROUGH']].drop_duplicates()\n",
    "unique_location_values.dropna(inplace=True)\n",
    "unique_location_values"
   ]
  },
  {
   "cell_type": "code",
   "execution_count": 15,
   "id": "5e53b12b-96af-46e0-81fc-5c7da7c6517c",
   "metadata": {
    "colab": {
     "base_uri": "https://localhost:8080/",
     "height": 206
    },
    "executionInfo": {
     "elapsed": 216,
     "status": "ok",
     "timestamp": 1701368294530,
     "user": {
      "displayName": "vijay reddy",
      "userId": "14915251025245810636"
     },
     "user_tz": 300
    },
    "id": "5e53b12b-96af-46e0-81fc-5c7da7c6517c",
    "outputId": "290b456d-80b0-4a91-f6f8-263516eb0a43"
   },
   "outputs": [
    {
     "data": {
      "text/html": [
       "<div>\n",
       "<style scoped>\n",
       "    .dataframe tbody tr th:only-of-type {\n",
       "        vertical-align: middle;\n",
       "    }\n",
       "\n",
       "    .dataframe tbody tr th {\n",
       "        vertical-align: top;\n",
       "    }\n",
       "\n",
       "    .dataframe thead th {\n",
       "        text-align: right;\n",
       "    }\n",
       "</style>\n",
       "<table border=\"1\" class=\"dataframe\">\n",
       "  <thead>\n",
       "    <tr style=\"text-align: right;\">\n",
       "      <th></th>\n",
       "      <th>BOROUGH</th>\n",
       "      <th>LATITUDE</th>\n",
       "      <th>LONGITUDE</th>\n",
       "    </tr>\n",
       "  </thead>\n",
       "  <tbody>\n",
       "    <tr>\n",
       "      <th>0</th>\n",
       "      <td>BRONX</td>\n",
       "      <td>40.868160</td>\n",
       "      <td>-73.831480</td>\n",
       "    </tr>\n",
       "    <tr>\n",
       "      <th>1</th>\n",
       "      <td>BROOKLYN</td>\n",
       "      <td>40.667202</td>\n",
       "      <td>-73.866500</td>\n",
       "    </tr>\n",
       "    <tr>\n",
       "      <th>2</th>\n",
       "      <td>MANHATTAN</td>\n",
       "      <td>40.751440</td>\n",
       "      <td>-73.973970</td>\n",
       "    </tr>\n",
       "    <tr>\n",
       "      <th>3</th>\n",
       "      <td>QUEENS</td>\n",
       "      <td>40.675884</td>\n",
       "      <td>-73.755770</td>\n",
       "    </tr>\n",
       "    <tr>\n",
       "      <th>4</th>\n",
       "      <td>STATEN ISLAND</td>\n",
       "      <td>40.631650</td>\n",
       "      <td>-74.087620</td>\n",
       "    </tr>\n",
       "  </tbody>\n",
       "</table>\n",
       "</div>"
      ],
      "text/plain": [
       "         BOROUGH  LATITUDE  LONGITUDE\n",
       "0          BRONX 40.868160 -73.831480\n",
       "1       BROOKLYN 40.667202 -73.866500\n",
       "2      MANHATTAN 40.751440 -73.973970\n",
       "3         QUEENS 40.675884 -73.755770\n",
       "4  STATEN ISLAND 40.631650 -74.087620"
      ]
     },
     "execution_count": 15,
     "metadata": {},
     "output_type": "execute_result"
    }
   ],
   "source": [
    "# Out of these values, lets pick first unique occurance of borough and its corresponding latitude and longitude\n",
    "single_location_values = unique_location_values.groupby('BOROUGH').first().reset_index()\n",
    "single_location_values"
   ]
  },
  {
   "cell_type": "code",
   "execution_count": 16,
   "id": "66182e30-fb57-42d3-a512-38ed2458fe19",
   "metadata": {
    "colab": {
     "base_uri": "https://localhost:8080/"
    },
    "executionInfo": {
     "elapsed": 170,
     "status": "ok",
     "timestamp": 1701368297994,
     "user": {
      "displayName": "vijay reddy",
      "userId": "14915251025245810636"
     },
     "user_tz": 300
    },
    "id": "66182e30-fb57-42d3-a512-38ed2458fe19",
    "outputId": "3eaca487-e4bc-4567-df2c-583b6750db76"
   },
   "outputs": [
    {
     "data": {
      "text/plain": [
       "193005"
      ]
     },
     "execution_count": 16,
     "metadata": {},
     "output_type": "execute_result"
    }
   ],
   "source": [
    "# Get all samples where borough, latitude and longitude are null\n",
    "location_null = data['BOROUGH'].isnull() & data['LATITUDE'].isnull() & data['LONGITUDE'].isnull()\n",
    "location_null.sum()"
   ]
  },
  {
   "cell_type": "code",
   "execution_count": 17,
   "id": "fa299337-0089-4870-a9f3-a7326bda0e4b",
   "metadata": {
    "executionInfo": {
     "elapsed": 222,
     "status": "ok",
     "timestamp": 1701368301105,
     "user": {
      "displayName": "vijay reddy",
      "userId": "14915251025245810636"
     },
     "user_tz": 300
    },
    "id": "fa299337-0089-4870-a9f3-a7326bda0e4b"
   },
   "outputs": [],
   "source": [
    "# Replace boorugh with mode where all the 3 parameters are null\n",
    "data.loc[location_null, 'BOROUGH'] = data['BOROUGH'].mode().iloc[0]"
   ]
  },
  {
   "cell_type": "code",
   "execution_count": 18,
   "id": "ff20c545-0ea9-4485-8bd8-a5e810c8391e",
   "metadata": {
    "executionInfo": {
     "elapsed": 453,
     "status": "ok",
     "timestamp": 1701368303872,
     "user": {
      "displayName": "vijay reddy",
      "userId": "14915251025245810636"
     },
     "user_tz": 300
    },
    "id": "ff20c545-0ea9-4485-8bd8-a5e810c8391e"
   },
   "outputs": [],
   "source": [
    "# Fetch the latitude and longitude for the mode borough\n",
    "borough_mode = data['BOROUGH'].mode().iloc[0]\n",
    "borough_mode_lat = single_location_values[single_location_values['BOROUGH'] == borough_mode]['LATITUDE'].values[0]\n",
    "borough_mode_lon = single_location_values[single_location_values['BOROUGH'] == borough_mode]['LONGITUDE'].values[0]\n",
    "\n",
    "# Replace LATITUDE and LONGITUDE values for these records using the single_location_values DataFrame\n",
    "data.loc[location_null, 'LATITUDE'] = borough_mode_lat\n",
    "data.loc[location_null, 'LONGITUDE'] = borough_mode_lon"
   ]
  },
  {
   "cell_type": "code",
   "execution_count": 19,
   "id": "3a0abf0c-4ec1-4e99-a86c-8b89f06f0d70",
   "metadata": {
    "colab": {
     "base_uri": "https://localhost:8080/"
    },
    "executionInfo": {
     "elapsed": 2435,
     "status": "ok",
     "timestamp": 1701368308827,
     "user": {
      "displayName": "vijay reddy",
      "userId": "14915251025245810636"
     },
     "user_tz": 300
    },
    "id": "3a0abf0c-4ec1-4e99-a86c-8b89f06f0d70",
    "outputId": "49245175-905b-4b29-cd8a-bef2007bdf0e"
   },
   "outputs": [
    {
     "data": {
      "text/plain": [
       "CRASH DATE                            0\n",
       "CRASH TIME                            0\n",
       "BOROUGH                          433614\n",
       "LATITUDE                          35800\n",
       "LONGITUDE                         35800\n",
       "NUMBER OF PERSONS INJURED             0\n",
       "NUMBER OF PERSONS KILLED              0\n",
       "NUMBER OF PEDESTRIANS INJURED         0\n",
       "NUMBER OF PEDESTRIANS KILLED          0\n",
       "NUMBER OF CYCLIST INJURED             0\n",
       "NUMBER OF CYCLIST KILLED              0\n",
       "NUMBER OF MOTORIST INJURED            0\n",
       "NUMBER OF MOTORIST KILLED             0\n",
       "CONTRIBUTING FACTOR VEHICLE 1         0\n",
       "COLLISION_ID                          0\n",
       "VEHICLE TYPE CODE 1                   0\n",
       "dtype: int64"
      ]
     },
     "execution_count": 19,
     "metadata": {},
     "output_type": "execute_result"
    }
   ],
   "source": [
    "data.isna().sum()"
   ]
  },
  {
   "cell_type": "code",
   "execution_count": 20,
   "id": "671f5183-9da5-4dd3-ac4c-bd8388ec345e",
   "metadata": {
    "executionInfo": {
     "elapsed": 45365,
     "status": "ok",
     "timestamp": 1701368356877,
     "user": {
      "displayName": "vijay reddy",
      "userId": "14915251025245810636"
     },
     "user_tz": 300
    },
    "id": "671f5183-9da5-4dd3-ac4c-bd8388ec345e"
   },
   "outputs": [],
   "source": [
    "# Identify records where either LATITUDE or LONGITUDE is null, but BOROUGH has a value\n",
    "latitude_longitude_null = (data['LATITUDE'].isnull() | data['LONGITUDE'].isnull()) & ~data['BOROUGH'].isnull()\n",
    "\n",
    "# Iterate over these rows and impute the LATITUDE and LONGITUDE based on single_location_values\n",
    "for index, row in data[latitude_longitude_null].iterrows():\n",
    "    borough_val = row['BOROUGH']\n",
    "\n",
    "    # Fetch the latitude and longitude for the given borough from single_location_values\n",
    "    borough_lat = single_location_values[single_location_values['BOROUGH'] == borough_val]['LATITUDE'].values[0]\n",
    "    borough_lon = single_location_values[single_location_values['BOROUGH'] == borough_val]['LONGITUDE'].values[0]\n",
    "\n",
    "    # Update LATITUDE and LONGITUDE values for these records using the single_location_values DataFrame\n",
    "    data.loc[index, 'LATITUDE'] = borough_lat\n",
    "    data.loc[index, 'LONGITUDE'] = borough_lon"
   ]
  },
  {
   "cell_type": "code",
   "execution_count": 21,
   "id": "12e002e0-f353-4a3c-8ec7-6324faa3a1f0",
   "metadata": {
    "colab": {
     "base_uri": "https://localhost:8080/"
    },
    "executionInfo": {
     "elapsed": 1720,
     "status": "ok",
     "timestamp": 1701368362306,
     "user": {
      "displayName": "vijay reddy",
      "userId": "14915251025245810636"
     },
     "user_tz": 300
    },
    "id": "12e002e0-f353-4a3c-8ec7-6324faa3a1f0",
    "outputId": "d38fcfe0-2e47-4cde-c71b-721f862c4b09"
   },
   "outputs": [
    {
     "data": {
      "text/plain": [
       "CRASH DATE                            0\n",
       "CRASH TIME                            0\n",
       "BOROUGH                          433614\n",
       "LATITUDE                              0\n",
       "LONGITUDE                             0\n",
       "NUMBER OF PERSONS INJURED             0\n",
       "NUMBER OF PERSONS KILLED              0\n",
       "NUMBER OF PEDESTRIANS INJURED         0\n",
       "NUMBER OF PEDESTRIANS KILLED          0\n",
       "NUMBER OF CYCLIST INJURED             0\n",
       "NUMBER OF CYCLIST KILLED              0\n",
       "NUMBER OF MOTORIST INJURED            0\n",
       "NUMBER OF MOTORIST KILLED             0\n",
       "CONTRIBUTING FACTOR VEHICLE 1         0\n",
       "COLLISION_ID                          0\n",
       "VEHICLE TYPE CODE 1                   0\n",
       "dtype: int64"
      ]
     },
     "execution_count": 21,
     "metadata": {},
     "output_type": "execute_result"
    }
   ],
   "source": [
    "data.isna().sum()"
   ]
  },
  {
   "cell_type": "code",
   "execution_count": 22,
   "id": "89a2b443-d0e7-4564-942a-a84ef93d7471",
   "metadata": {
    "executionInfo": {
     "elapsed": 1631329,
     "status": "ok",
     "timestamp": 1701369996021,
     "user": {
      "displayName": "vijay reddy",
      "userId": "14915251025245810636"
     },
     "user_tz": 300
    },
    "id": "89a2b443-d0e7-4564-942a-a84ef93d7471"
   },
   "outputs": [],
   "source": [
    "# Identify records where LATITUDE and LONGITUDE have values, but BOROUGH is null\n",
    "borough_null = ~data['LATITUDE'].isnull() & ~data['LONGITUDE'].isnull() & data['BOROUGH'].isnull()\n",
    "\n",
    "# Iterate over these rows and impute the BOROUGH based on unique_location_values\n",
    "for index, row in data[borough_null].iterrows():\n",
    "    latitude_val = row['LATITUDE']\n",
    "    longitude_val = row['LONGITUDE']\n",
    "\n",
    "    # Fetch the borough for the given latitude and longitude from unique_location_values\n",
    "    borough_value = unique_location_values[\n",
    "        (unique_location_values['LATITUDE'] == latitude_val) &\n",
    "        (unique_location_values['LONGITUDE'] == longitude_val)]['BOROUGH'].values\n",
    "\n",
    "    # Check if we found a matching borough\n",
    "    if borough_value.size > 0:\n",
    "        # Update BOROUGH value for this record using the unique_location_values DataFrame\n",
    "        data.loc[index, 'BOROUGH'] = borough_value[0]"
   ]
  },
  {
   "cell_type": "code",
   "execution_count": 23,
   "id": "528cd794-b55f-4266-8216-670e8d7adee6",
   "metadata": {
    "colab": {
     "base_uri": "https://localhost:8080/"
    },
    "executionInfo": {
     "elapsed": 2292,
     "status": "ok",
     "timestamp": 1701370013847,
     "user": {
      "displayName": "vijay reddy",
      "userId": "14915251025245810636"
     },
     "user_tz": 300
    },
    "id": "528cd794-b55f-4266-8216-670e8d7adee6",
    "outputId": "746f8e5b-f2c7-471e-9393-efa20b3a4bb4"
   },
   "outputs": [
    {
     "data": {
      "text/plain": [
       "CRASH DATE                            0\n",
       "CRASH TIME                            0\n",
       "BOROUGH                          246065\n",
       "LATITUDE                              0\n",
       "LONGITUDE                             0\n",
       "NUMBER OF PERSONS INJURED             0\n",
       "NUMBER OF PERSONS KILLED              0\n",
       "NUMBER OF PEDESTRIANS INJURED         0\n",
       "NUMBER OF PEDESTRIANS KILLED          0\n",
       "NUMBER OF CYCLIST INJURED             0\n",
       "NUMBER OF CYCLIST KILLED              0\n",
       "NUMBER OF MOTORIST INJURED            0\n",
       "NUMBER OF MOTORIST KILLED             0\n",
       "CONTRIBUTING FACTOR VEHICLE 1         0\n",
       "COLLISION_ID                          0\n",
       "VEHICLE TYPE CODE 1                   0\n",
       "dtype: int64"
      ]
     },
     "execution_count": 23,
     "metadata": {},
     "output_type": "execute_result"
    }
   ],
   "source": [
    "data.isna().sum()"
   ]
  },
  {
   "cell_type": "code",
   "execution_count": 24,
   "id": "026e5897-ec68-497b-b2de-e84e6197e0c1",
   "metadata": {
    "colab": {
     "base_uri": "https://localhost:8080/"
    },
    "executionInfo": {
     "elapsed": 7974,
     "status": "ok",
     "timestamp": 1701370026990,
     "user": {
      "displayName": "vijay reddy",
      "userId": "14915251025245810636"
     },
     "user_tz": 300
    },
    "id": "026e5897-ec68-497b-b2de-e84e6197e0c1",
    "outputId": "e9ebae11-c745-48ef-c93b-c8d77cb2b00f"
   },
   "outputs": [
    {
     "data": {
      "text/plain": [
       "CRASH DATE                       0\n",
       "CRASH TIME                       0\n",
       "BOROUGH                          0\n",
       "LATITUDE                         0\n",
       "LONGITUDE                        0\n",
       "NUMBER OF PERSONS INJURED        0\n",
       "NUMBER OF PERSONS KILLED         0\n",
       "NUMBER OF PEDESTRIANS INJURED    0\n",
       "NUMBER OF PEDESTRIANS KILLED     0\n",
       "NUMBER OF CYCLIST INJURED        0\n",
       "NUMBER OF CYCLIST KILLED         0\n",
       "NUMBER OF MOTORIST INJURED       0\n",
       "NUMBER OF MOTORIST KILLED        0\n",
       "CONTRIBUTING FACTOR VEHICLE 1    0\n",
       "COLLISION_ID                     0\n",
       "VEHICLE TYPE CODE 1              0\n",
       "dtype: int64"
      ]
     },
     "execution_count": 24,
     "metadata": {},
     "output_type": "execute_result"
    }
   ],
   "source": [
    "# Replace null borough values with mode\n",
    "\n",
    "data['BOROUGH'].fillna(data['BOROUGH'].mode()[0], inplace=True)\n",
    "data.isna().sum()"
   ]
  },
  {
   "cell_type": "code",
   "execution_count": 25,
   "id": "f2c311ad-3da8-4ca4-8667-692874476090",
   "metadata": {
    "colab": {
     "base_uri": "https://localhost:8080/",
     "height": 582
    },
    "executionInfo": {
     "elapsed": 6220,
     "status": "ok",
     "timestamp": 1701370046906,
     "user": {
      "displayName": "vijay reddy",
      "userId": "14915251025245810636"
     },
     "user_tz": 300
    },
    "id": "f2c311ad-3da8-4ca4-8667-692874476090",
    "outputId": "dadc4816-06d2-4ae7-ed97-05d0a2d8c8ea"
   },
   "outputs": [
    {
     "data": {
      "text/html": [
       "<div>\n",
       "<style scoped>\n",
       "    .dataframe tbody tr th:only-of-type {\n",
       "        vertical-align: middle;\n",
       "    }\n",
       "\n",
       "    .dataframe tbody tr th {\n",
       "        vertical-align: top;\n",
       "    }\n",
       "\n",
       "    .dataframe thead th {\n",
       "        text-align: right;\n",
       "    }\n",
       "</style>\n",
       "<table border=\"1\" class=\"dataframe\">\n",
       "  <thead>\n",
       "    <tr style=\"text-align: right;\">\n",
       "      <th></th>\n",
       "      <th>CRASH DATE</th>\n",
       "      <th>CRASH TIME</th>\n",
       "      <th>BOROUGH</th>\n",
       "      <th>LATITUDE</th>\n",
       "      <th>LONGITUDE</th>\n",
       "      <th>NUMBER OF PERSONS INJURED</th>\n",
       "      <th>NUMBER OF PERSONS KILLED</th>\n",
       "      <th>NUMBER OF PEDESTRIANS INJURED</th>\n",
       "      <th>NUMBER OF PEDESTRIANS KILLED</th>\n",
       "      <th>NUMBER OF CYCLIST INJURED</th>\n",
       "      <th>NUMBER OF CYCLIST KILLED</th>\n",
       "      <th>NUMBER OF MOTORIST INJURED</th>\n",
       "      <th>NUMBER OF MOTORIST KILLED</th>\n",
       "      <th>CONTRIBUTING FACTOR VEHICLE 1</th>\n",
       "      <th>COLLISION_ID</th>\n",
       "      <th>VEHICLE TYPE CODE 1</th>\n",
       "    </tr>\n",
       "  </thead>\n",
       "  <tbody>\n",
       "    <tr>\n",
       "      <th>0</th>\n",
       "      <td>09/11/2021</td>\n",
       "      <td>2:39</td>\n",
       "      <td>BROOKLYN</td>\n",
       "      <td>40.667202</td>\n",
       "      <td>-73.866500</td>\n",
       "      <td>2.000000</td>\n",
       "      <td>0.000000</td>\n",
       "      <td>0</td>\n",
       "      <td>0</td>\n",
       "      <td>0</td>\n",
       "      <td>0</td>\n",
       "      <td>2</td>\n",
       "      <td>0</td>\n",
       "      <td>Aggressive Driving/Road Rage</td>\n",
       "      <td>4455765</td>\n",
       "      <td>Sedan</td>\n",
       "    </tr>\n",
       "    <tr>\n",
       "      <th>1</th>\n",
       "      <td>03/26/2022</td>\n",
       "      <td>11:45</td>\n",
       "      <td>BROOKLYN</td>\n",
       "      <td>40.667202</td>\n",
       "      <td>-73.866500</td>\n",
       "      <td>1.000000</td>\n",
       "      <td>0.000000</td>\n",
       "      <td>0</td>\n",
       "      <td>0</td>\n",
       "      <td>0</td>\n",
       "      <td>0</td>\n",
       "      <td>1</td>\n",
       "      <td>0</td>\n",
       "      <td>Pavement Slippery</td>\n",
       "      <td>4513547</td>\n",
       "      <td>Sedan</td>\n",
       "    </tr>\n",
       "    <tr>\n",
       "      <th>2</th>\n",
       "      <td>06/29/2022</td>\n",
       "      <td>6:55</td>\n",
       "      <td>BROOKLYN</td>\n",
       "      <td>40.667202</td>\n",
       "      <td>-73.866500</td>\n",
       "      <td>0.000000</td>\n",
       "      <td>0.000000</td>\n",
       "      <td>0</td>\n",
       "      <td>0</td>\n",
       "      <td>0</td>\n",
       "      <td>0</td>\n",
       "      <td>0</td>\n",
       "      <td>0</td>\n",
       "      <td>Following Too Closely</td>\n",
       "      <td>4541903</td>\n",
       "      <td>Sedan</td>\n",
       "    </tr>\n",
       "    <tr>\n",
       "      <th>3</th>\n",
       "      <td>09/11/2021</td>\n",
       "      <td>9:35</td>\n",
       "      <td>BROOKLYN</td>\n",
       "      <td>40.667202</td>\n",
       "      <td>-73.866500</td>\n",
       "      <td>0.000000</td>\n",
       "      <td>0.000000</td>\n",
       "      <td>0</td>\n",
       "      <td>0</td>\n",
       "      <td>0</td>\n",
       "      <td>0</td>\n",
       "      <td>0</td>\n",
       "      <td>0</td>\n",
       "      <td>Unspecified</td>\n",
       "      <td>4456314</td>\n",
       "      <td>Sedan</td>\n",
       "    </tr>\n",
       "    <tr>\n",
       "      <th>5</th>\n",
       "      <td>04/14/2021</td>\n",
       "      <td>12:47</td>\n",
       "      <td>BROOKLYN</td>\n",
       "      <td>40.667202</td>\n",
       "      <td>-73.866500</td>\n",
       "      <td>0.000000</td>\n",
       "      <td>0.000000</td>\n",
       "      <td>0</td>\n",
       "      <td>0</td>\n",
       "      <td>0</td>\n",
       "      <td>0</td>\n",
       "      <td>0</td>\n",
       "      <td>0</td>\n",
       "      <td>Unspecified</td>\n",
       "      <td>4407458</td>\n",
       "      <td>Dump</td>\n",
       "    </tr>\n",
       "    <tr>\n",
       "      <th>...</th>\n",
       "      <td>...</td>\n",
       "      <td>...</td>\n",
       "      <td>...</td>\n",
       "      <td>...</td>\n",
       "      <td>...</td>\n",
       "      <td>...</td>\n",
       "      <td>...</td>\n",
       "      <td>...</td>\n",
       "      <td>...</td>\n",
       "      <td>...</td>\n",
       "      <td>...</td>\n",
       "      <td>...</td>\n",
       "      <td>...</td>\n",
       "      <td>...</td>\n",
       "      <td>...</td>\n",
       "      <td>...</td>\n",
       "    </tr>\n",
       "    <tr>\n",
       "      <th>2026642</th>\n",
       "      <td>07/03/2023</td>\n",
       "      <td>18:05</td>\n",
       "      <td>MANHATTAN</td>\n",
       "      <td>40.866806</td>\n",
       "      <td>-73.931010</td>\n",
       "      <td>0.000000</td>\n",
       "      <td>0.000000</td>\n",
       "      <td>0</td>\n",
       "      <td>0</td>\n",
       "      <td>0</td>\n",
       "      <td>0</td>\n",
       "      <td>0</td>\n",
       "      <td>0</td>\n",
       "      <td>Turning Improperly</td>\n",
       "      <td>4648110</td>\n",
       "      <td>Sedan</td>\n",
       "    </tr>\n",
       "    <tr>\n",
       "      <th>2026643</th>\n",
       "      <td>07/22/2023</td>\n",
       "      <td>21:39</td>\n",
       "      <td>BRONX</td>\n",
       "      <td>40.844177</td>\n",
       "      <td>-73.902920</td>\n",
       "      <td>1.000000</td>\n",
       "      <td>0.000000</td>\n",
       "      <td>1</td>\n",
       "      <td>0</td>\n",
       "      <td>0</td>\n",
       "      <td>0</td>\n",
       "      <td>0</td>\n",
       "      <td>0</td>\n",
       "      <td>Unspecified</td>\n",
       "      <td>4648117</td>\n",
       "      <td>Sedan</td>\n",
       "    </tr>\n",
       "    <tr>\n",
       "      <th>2026644</th>\n",
       "      <td>07/02/2023</td>\n",
       "      <td>17:55</td>\n",
       "      <td>MANHATTAN</td>\n",
       "      <td>40.711033</td>\n",
       "      <td>-74.014540</td>\n",
       "      <td>0.000000</td>\n",
       "      <td>0.000000</td>\n",
       "      <td>0</td>\n",
       "      <td>0</td>\n",
       "      <td>0</td>\n",
       "      <td>0</td>\n",
       "      <td>0</td>\n",
       "      <td>0</td>\n",
       "      <td>Driver Inattention/Distraction</td>\n",
       "      <td>4648366</td>\n",
       "      <td>Taxi</td>\n",
       "    </tr>\n",
       "    <tr>\n",
       "      <th>2026645</th>\n",
       "      <td>07/22/2023</td>\n",
       "      <td>13:15</td>\n",
       "      <td>QUEENS</td>\n",
       "      <td>40.691580</td>\n",
       "      <td>-73.793190</td>\n",
       "      <td>1.000000</td>\n",
       "      <td>0.000000</td>\n",
       "      <td>0</td>\n",
       "      <td>0</td>\n",
       "      <td>0</td>\n",
       "      <td>0</td>\n",
       "      <td>0</td>\n",
       "      <td>0</td>\n",
       "      <td>Driver Inattention/Distraction</td>\n",
       "      <td>4648129</td>\n",
       "      <td>Station Wagon/Sport Utility Vehicle</td>\n",
       "    </tr>\n",
       "    <tr>\n",
       "      <th>2026646</th>\n",
       "      <td>07/22/2023</td>\n",
       "      <td>3:00</td>\n",
       "      <td>QUEENS</td>\n",
       "      <td>40.700240</td>\n",
       "      <td>-73.792854</td>\n",
       "      <td>0.000000</td>\n",
       "      <td>0.000000</td>\n",
       "      <td>0</td>\n",
       "      <td>0</td>\n",
       "      <td>0</td>\n",
       "      <td>0</td>\n",
       "      <td>0</td>\n",
       "      <td>0</td>\n",
       "      <td>Unspecified</td>\n",
       "      <td>4647913</td>\n",
       "      <td>Sedan</td>\n",
       "    </tr>\n",
       "  </tbody>\n",
       "</table>\n",
       "<p>2011128 rows × 16 columns</p>\n",
       "</div>"
      ],
      "text/plain": [
       "         CRASH DATE CRASH TIME    BOROUGH  LATITUDE  LONGITUDE  \\\n",
       "0        09/11/2021       2:39   BROOKLYN 40.667202 -73.866500   \n",
       "1        03/26/2022      11:45   BROOKLYN 40.667202 -73.866500   \n",
       "2        06/29/2022       6:55   BROOKLYN 40.667202 -73.866500   \n",
       "3        09/11/2021       9:35   BROOKLYN 40.667202 -73.866500   \n",
       "5        04/14/2021      12:47   BROOKLYN 40.667202 -73.866500   \n",
       "...             ...        ...        ...       ...        ...   \n",
       "2026642  07/03/2023      18:05  MANHATTAN 40.866806 -73.931010   \n",
       "2026643  07/22/2023      21:39      BRONX 40.844177 -73.902920   \n",
       "2026644  07/02/2023      17:55  MANHATTAN 40.711033 -74.014540   \n",
       "2026645  07/22/2023      13:15     QUEENS 40.691580 -73.793190   \n",
       "2026646  07/22/2023       3:00     QUEENS 40.700240 -73.792854   \n",
       "\n",
       "         NUMBER OF PERSONS INJURED  NUMBER OF PERSONS KILLED  \\\n",
       "0                         2.000000                  0.000000   \n",
       "1                         1.000000                  0.000000   \n",
       "2                         0.000000                  0.000000   \n",
       "3                         0.000000                  0.000000   \n",
       "5                         0.000000                  0.000000   \n",
       "...                            ...                       ...   \n",
       "2026642                   0.000000                  0.000000   \n",
       "2026643                   1.000000                  0.000000   \n",
       "2026644                   0.000000                  0.000000   \n",
       "2026645                   1.000000                  0.000000   \n",
       "2026646                   0.000000                  0.000000   \n",
       "\n",
       "         NUMBER OF PEDESTRIANS INJURED  NUMBER OF PEDESTRIANS KILLED  \\\n",
       "0                                    0                             0   \n",
       "1                                    0                             0   \n",
       "2                                    0                             0   \n",
       "3                                    0                             0   \n",
       "5                                    0                             0   \n",
       "...                                ...                           ...   \n",
       "2026642                              0                             0   \n",
       "2026643                              1                             0   \n",
       "2026644                              0                             0   \n",
       "2026645                              0                             0   \n",
       "2026646                              0                             0   \n",
       "\n",
       "         NUMBER OF CYCLIST INJURED  NUMBER OF CYCLIST KILLED  \\\n",
       "0                                0                         0   \n",
       "1                                0                         0   \n",
       "2                                0                         0   \n",
       "3                                0                         0   \n",
       "5                                0                         0   \n",
       "...                            ...                       ...   \n",
       "2026642                          0                         0   \n",
       "2026643                          0                         0   \n",
       "2026644                          0                         0   \n",
       "2026645                          0                         0   \n",
       "2026646                          0                         0   \n",
       "\n",
       "         NUMBER OF MOTORIST INJURED  NUMBER OF MOTORIST KILLED  \\\n",
       "0                                 2                          0   \n",
       "1                                 1                          0   \n",
       "2                                 0                          0   \n",
       "3                                 0                          0   \n",
       "5                                 0                          0   \n",
       "...                             ...                        ...   \n",
       "2026642                           0                          0   \n",
       "2026643                           0                          0   \n",
       "2026644                           0                          0   \n",
       "2026645                           0                          0   \n",
       "2026646                           0                          0   \n",
       "\n",
       "          CONTRIBUTING FACTOR VEHICLE 1  COLLISION_ID  \\\n",
       "0          Aggressive Driving/Road Rage       4455765   \n",
       "1                     Pavement Slippery       4513547   \n",
       "2                 Following Too Closely       4541903   \n",
       "3                           Unspecified       4456314   \n",
       "5                           Unspecified       4407458   \n",
       "...                                 ...           ...   \n",
       "2026642              Turning Improperly       4648110   \n",
       "2026643                     Unspecified       4648117   \n",
       "2026644  Driver Inattention/Distraction       4648366   \n",
       "2026645  Driver Inattention/Distraction       4648129   \n",
       "2026646                     Unspecified       4647913   \n",
       "\n",
       "                         VEHICLE TYPE CODE 1  \n",
       "0                                      Sedan  \n",
       "1                                      Sedan  \n",
       "2                                      Sedan  \n",
       "3                                      Sedan  \n",
       "5                                       Dump  \n",
       "...                                      ...  \n",
       "2026642                                Sedan  \n",
       "2026643                                Sedan  \n",
       "2026644                                 Taxi  \n",
       "2026645  Station Wagon/Sport Utility Vehicle  \n",
       "2026646                                Sedan  \n",
       "\n",
       "[2011128 rows x 16 columns]"
      ]
     },
     "execution_count": 25,
     "metadata": {},
     "output_type": "execute_result"
    }
   ],
   "source": [
    "# Drop duplicate records\n",
    "data.drop_duplicates(inplace=True)\n",
    "data"
   ]
  },
  {
   "cell_type": "code",
   "execution_count": 26,
   "id": "00f93869-c772-433a-9fd4-f3b2ec263993",
   "metadata": {
    "colab": {
     "base_uri": "https://localhost:8080/"
    },
    "executionInfo": {
     "elapsed": 213740,
     "status": "ok",
     "timestamp": 1701370266252,
     "user": {
      "displayName": "vijay reddy",
      "userId": "14915251025245810636"
     },
     "user_tz": 300
    },
    "id": "00f93869-c772-433a-9fd4-f3b2ec263993",
    "outputId": "7bd5d690-5d32-40cc-9087-3dc8d7bc327a"
   },
   "outputs": [
    {
     "name": "stdout",
     "output_type": "stream",
     "text": [
      "<class 'pandas.core.frame.DataFrame'>\n",
      "Index: 2011128 entries, 0 to 2026646\n",
      "Data columns (total 15 columns):\n",
      " #   Column                         Dtype         \n",
      "---  ------                         -----         \n",
      " 0   BOROUGH                        object        \n",
      " 1   LATITUDE                       float64       \n",
      " 2   LONGITUDE                      float64       \n",
      " 3   NUMBER OF PERSONS INJURED      float64       \n",
      " 4   NUMBER OF PERSONS KILLED       float64       \n",
      " 5   NUMBER OF PEDESTRIANS INJURED  int64         \n",
      " 6   NUMBER OF PEDESTRIANS KILLED   int64         \n",
      " 7   NUMBER OF CYCLIST INJURED      int64         \n",
      " 8   NUMBER OF CYCLIST KILLED       int64         \n",
      " 9   NUMBER OF MOTORIST INJURED     int64         \n",
      " 10  NUMBER OF MOTORIST KILLED      int64         \n",
      " 11  CONTRIBUTING FACTOR VEHICLE 1  object        \n",
      " 12  COLLISION_ID                   int64         \n",
      " 13  VEHICLE TYPE CODE 1            object        \n",
      " 14  CRASH DATE TIME                datetime64[ns]\n",
      "dtypes: datetime64[ns](1), float64(4), int64(7), object(3)\n",
      "memory usage: 245.5+ MB\n"
     ]
    }
   ],
   "source": [
    "# Instead of having 2 separate columns for CRASH DATE and CRASH TIME, lets merge them into a single column of datatime format\n",
    "\n",
    "data['CRASH DATE TIME'] = pd.to_datetime(data['CRASH DATE'] + ' ' + data['CRASH TIME'])\n",
    "data.drop(columns=['CRASH DATE', 'CRASH TIME'], inplace=True)\n",
    "\n",
    "# Checking datatype of the new column\n",
    "data.info()"
   ]
  },
  {
   "cell_type": "code",
   "execution_count": 32,
   "id": "cd9e4bd7-5a1d-456b-bb03-b32da4e2cc2a",
   "metadata": {
    "colab": {
     "base_uri": "https://localhost:8080/"
    },
    "executionInfo": {
     "elapsed": 5987,
     "status": "ok",
     "timestamp": 1701370296791,
     "user": {
      "displayName": "vijay reddy",
      "userId": "14915251025245810636"
     },
     "user_tz": 300
    },
    "id": "cd9e4bd7-5a1d-456b-bb03-b32da4e2cc2a",
    "outputId": "dcb5a69b-f57b-4397-d84d-6a6ffc75c493"
   },
   "outputs": [
    {
     "name": "stdout",
     "output_type": "stream",
     "text": [
      "Before Standerdizing: ['BROOKLYN' 'BRONX' 'MANHATTAN' 'QUEENS' 'STATEN ISLAND']\n",
      "After Standerdizing: ['BROOKLYN' 'BRONX' 'MANHATTAN' 'QUEENS' 'STATEN ISLAND']\n",
      "Before Standerdizing: ['Sedan' 'Dump' 'Station Wagon/Sport Utility Vehicle' ... 'YELLOW BUS'\n",
      " 'l1' 'Utility Ve']\n",
      "After Standerdizing: ['SEDAN' 'DUMP' 'STATION WAGON/SPORT UTILITY VEHICLE' ... 'AMAZON TRU'\n",
      " 'FDNY VEHIC' 'YELLOW BUS']\n",
      "Before Standerdizing: ['Aggressive Driving/Road Rage' 'Pavement Slippery'\n",
      " 'Following Too Closely' 'Unspecified' 'Passing Too Closely'\n",
      " 'Driver Inexperience' 'Passing or Lane Usage Improper'\n",
      " 'Turning Improperly' 'Unsafe Lane Changing' 'Unsafe Speed'\n",
      " 'Reaction to Uninvolved Vehicle' 'Steering Failure'\n",
      " 'Traffic Control Disregarded' 'Other Vehicular'\n",
      " 'Driver Inattention/Distraction' 'Oversized Vehicle'\n",
      " 'Pedestrian/Bicyclist/Other Pedestrian Error/Confusion'\n",
      " 'Alcohol Involvement' 'View Obstructed/Limited'\n",
      " 'Failure to Yield Right-of-Way' 'Illnes' 'Lost Consciousness'\n",
      " 'Brakes Defective' 'Backing Unsafely' 'Glare' 'Passenger Distraction'\n",
      " 'Fell Asleep' 'Obstruction/Debris' 'Tinted Windows' 'Animals Action'\n",
      " 'Drugs (illegal)' 'Pavement Defective' 'Other Lighting Defects'\n",
      " 'Outside Car Distraction' 'Driverless/Runaway Vehicle'\n",
      " 'Tire Failure/Inadequate' 'Fatigued/Drowsy' 'Headlights Defective'\n",
      " 'Accelerator Defective' 'Failure to Keep Right' 'Physical Disability'\n",
      " 'Eating or Drinking' 'Cell Phone (hands-free)'\n",
      " 'Lane Marking Improper/Inadequate' 'Cell Phone (hand-Held)'\n",
      " 'Using On Board Navigation Device' 'Other Electronic Device'\n",
      " 'Traffic Control Device Improper/Non-Working' 'Tow Hitch Defective'\n",
      " 'Windshield Inadequate' 'Vehicle Vandalism' 'Prescription Medication'\n",
      " 'Shoulders Defective/Improper' 'Listening/Using Headphones' 'Texting'\n",
      " '80' 'Reaction to Other Uninvolved Vehicle' '1' 'Drugs (Illegal)'\n",
      " 'Illness' 'Cell Phone (hand-held)']\n",
      "After Standerdizing: ['AGGRESSIVE DRIVING/ROAD RAGE' 'PAVEMENT SLIPPERY'\n",
      " 'FOLLOWING TOO CLOSELY' 'UNSPECIFIED' 'PASSING TOO CLOSELY'\n",
      " 'DRIVER INEXPERIENCE' 'PASSING OR LANE USAGE IMPROPER'\n",
      " 'TURNING IMPROPERLY' 'UNSAFE LANE CHANGING' 'UNSAFE SPEED'\n",
      " 'REACTION TO UNINVOLVED VEHICLE' 'STEERING FAILURE'\n",
      " 'TRAFFIC CONTROL DISREGARDED' 'OTHER VEHICULAR'\n",
      " 'DRIVER INATTENTION/DISTRACTION' 'OVERSIZED VEHICLE'\n",
      " 'PEDESTRIAN/BICYCLIST/OTHER PEDESTRIAN ERROR/CONFUSION'\n",
      " 'ALCOHOL INVOLVEMENT' 'VIEW OBSTRUCTED/LIMITED'\n",
      " 'FAILURE TO YIELD RIGHT-OF-WAY' 'ILLNES' 'LOST CONSCIOUSNESS'\n",
      " 'BRAKES DEFECTIVE' 'BACKING UNSAFELY' 'GLARE' 'PASSENGER DISTRACTION'\n",
      " 'FELL ASLEEP' 'OBSTRUCTION/DEBRIS' 'TINTED WINDOWS' 'ANIMALS ACTION'\n",
      " 'DRUGS (ILLEGAL)' 'PAVEMENT DEFECTIVE' 'OTHER LIGHTING DEFECTS'\n",
      " 'OUTSIDE CAR DISTRACTION' 'DRIVERLESS/RUNAWAY VEHICLE'\n",
      " 'TIRE FAILURE/INADEQUATE' 'FATIGUED/DROWSY' 'HEADLIGHTS DEFECTIVE'\n",
      " 'ACCELERATOR DEFECTIVE' 'FAILURE TO KEEP RIGHT' 'PHYSICAL DISABILITY'\n",
      " 'EATING OR DRINKING' 'CELL PHONE (HANDS-FREE)'\n",
      " 'LANE MARKING IMPROPER/INADEQUATE' 'CELL PHONE (HAND-HELD)'\n",
      " 'USING ON BOARD NAVIGATION DEVICE' 'OTHER ELECTRONIC DEVICE'\n",
      " 'TRAFFIC CONTROL DEVICE IMPROPER/NON-WORKING' 'TOW HITCH DEFECTIVE'\n",
      " 'WINDSHIELD INADEQUATE' 'VEHICLE VANDALISM' 'PRESCRIPTION MEDICATION'\n",
      " 'SHOULDERS DEFECTIVE/IMPROPER' 'LISTENING/USING HEADPHONES' 'TEXTING'\n",
      " '80' 'REACTION TO OTHER UNINVOLVED VEHICLE' '1' 'ILLNESS']\n"
     ]
    }
   ],
   "source": [
    "# Standerdize Categorical data\n",
    "\n",
    "def standerdizer(column_name):\n",
    "    data.loc[:,column_name] = data[column_name].str.upper()\n",
    "    print(\"After Standerdizing: {0}\".format(data[column_name].unique()))\n",
    "\n",
    "categorical_columns=['BOROUGH','VEHICLE TYPE CODE 1','CONTRIBUTING FACTOR VEHICLE 1']\n",
    "\n",
    "for column in categorical_columns:\n",
    "    print(\"Before Standerdizing: {0}\".format(data[column].unique()))\n",
    "    standerdizer(column)"
   ]
  },
  {
   "cell_type": "code",
   "execution_count": 33,
   "id": "bb29f6a0-b4f6-4934-a8b7-32be729654d8",
   "metadata": {
    "colab": {
     "base_uri": "https://localhost:8080/",
     "height": 475
    },
    "executionInfo": {
     "elapsed": 2347,
     "status": "ok",
     "timestamp": 1701370311318,
     "user": {
      "displayName": "vijay reddy",
      "userId": "14915251025245810636"
     },
     "user_tz": 300
    },
    "id": "bb29f6a0-b4f6-4934-a8b7-32be729654d8",
    "outputId": "32294a45-7aeb-46a4-aab4-2d5631dd61c6"
   },
   "outputs": [
    {
     "data": {
      "image/png": "[encoded data removed]",
      "text/plain": [
       "<Figure size 1200x600 with 1 Axes>"
      ]
     },
     "metadata": {},
     "output_type": "display_data"
    }
   ],
   "source": [
    "# Exploring Number of collisions per month of a year\n",
    "\n",
    "data.loc[:,'Year'] = data['CRASH DATE TIME'].dt.year\n",
    "data.loc[:,'Month'] = data['CRASH DATE TIME'].dt.month\n",
    "\n",
    "# Group the data by year and month and count the number of collisions in each group\n",
    "monthly_collisions = data.groupby(['Year', 'Month']).size().unstack(fill_value=0)\n",
    "\n",
    "# Create a list of month names for labeling the x-axis\n",
    "month_names = ['Jan', 'Feb', 'Mar', 'Apr', 'May', 'Jun', 'Jul', 'Aug', 'Sep', 'Oct', 'Nov', 'Dec']\n",
    "\n",
    "# Plot the number of collisions per month for each year\n",
    "plt.figure(figsize=(12, 6))\n",
    "for year in monthly_collisions.index:\n",
    "    plt.bar(month_names, monthly_collisions.loc[year], label=str(year))\n",
    "\n",
    "plt.xlabel('Month')\n",
    "plt.ylabel('Number of Collisions')\n",
    "plt.title('Number of Collisions per Month (by Year)')\n",
    "plt.legend(title='Year')\n",
    "plt.grid(axis='y', linestyle='--', alpha=0.7)\n",
    "plt.show()"
   ]
  },
  {
   "cell_type": "code",
   "execution_count": 34,
   "id": "95e74806-7bb7-4636-bdb4-a4b1ec4c772b",
   "metadata": {
    "colab": {
     "base_uri": "https://localhost:8080/",
     "height": 572
    },
    "executionInfo": {
     "elapsed": 1251,
     "status": "ok",
     "timestamp": 1701370319172,
     "user": {
      "displayName": "vijay reddy",
      "userId": "14915251025245810636"
     },
     "user_tz": 300
    },
    "id": "95e74806-7bb7-4636-bdb4-a4b1ec4c772b",
    "outputId": "dcfa0fd0-2f9b-443c-b8a1-edbccccdefd8"
   },
   "outputs": [
    {
     "data": {
      "image/png": "[encoded data removed]",
      "text/plain": [
       "<Figure size 1000x600 with 1 Axes>"
      ]
     },
     "metadata": {},
     "output_type": "display_data"
    }
   ],
   "source": [
    "# Exploring number of collision per year\n",
    "data.loc[:,'Year'] = data['CRASH DATE TIME'].dt.year\n",
    "\n",
    "# Group the data by year and count the number of collisions in each year\n",
    "yearly_collisions = data['Year'].value_counts().sort_index()\n",
    "\n",
    "# Plot the number of collisions per year\n",
    "plt.figure(figsize=(10, 6))\n",
    "plt.bar(yearly_collisions.index, yearly_collisions.values)\n",
    "plt.xlabel('Year')\n",
    "plt.ylabel('Number of Collisions')\n",
    "plt.title('Number of Collisions per Year')\n",
    "plt.xticks(rotation=45)\n",
    "plt.grid(axis='y', linestyle='--', alpha=0.7)\n",
    "plt.show()"
   ]
  },
  {
   "cell_type": "code",
   "execution_count": 35,
   "id": "f89857f7-5785-4287-b75d-74997eb55f7c",
   "metadata": {
    "colab": {
     "base_uri": "https://localhost:8080/",
     "height": 528
    },
    "executionInfo": {
     "elapsed": 1481,
     "status": "ok",
     "timestamp": 1701370327771,
     "user": {
      "displayName": "vijay reddy",
      "userId": "14915251025245810636"
     },
     "user_tz": 300
    },
    "id": "f89857f7-5785-4287-b75d-74997eb55f7c",
    "outputId": "452a7d26-9199-4bc8-c2e7-48811ee452b8"
   },
   "outputs": [
    {
     "data": {
      "image/png": "[encoded data removed]",
      "text/plain": [
       "<Figure size 1000x600 with 1 Axes>"
      ]
     },
     "metadata": {},
     "output_type": "display_data"
    }
   ],
   "source": [
    "# Count the number of crashes for each borough\n",
    "\n",
    "borough_counts = data['BOROUGH'].value_counts()\n",
    "\n",
    "plt.figure(figsize=(10,6))\n",
    "borough_counts.plot(kind='bar', color='skyblue', edgecolor='black')\n",
    "plt.title('Number of Crashes by Borough')\n",
    "plt.xlabel('Borough')\n",
    "plt.ylabel('Number of Crashes')\n",
    "plt.xticks(rotation=45)\n",
    "plt.grid(axis='y')\n",
    "plt.tight_layout()\n",
    "plt.show()"
   ]
  },
  {
   "cell_type": "code",
   "execution_count": 36,
   "id": "aed9ae98-e861-4cc5-ae82-f62c8302a8e0",
   "metadata": {
    "colab": {
     "base_uri": "https://localhost:8080/",
     "height": 442
    },
    "executionInfo": {
     "elapsed": 1298,
     "status": "ok",
     "timestamp": 1701370334706,
     "user": {
      "displayName": "vijay reddy",
      "userId": "14915251025245810636"
     },
     "user_tz": 300
    },
    "id": "aed9ae98-e861-4cc5-ae82-f62c8302a8e0",
    "outputId": "a90d3c00-2ca8-43b3-efe2-9b9c3d756eb0"
   },
   "outputs": [
    {
     "data": {
      "image/png": "[encoded data removed]",
      "text/plain": [
       "<Figure size 1200x600 with 1 Axes>"
      ]
     },
     "metadata": {},
     "output_type": "display_data"
    }
   ],
   "source": [
    "# Plot to visualize the top 20 contribution factor for a crash\n",
    "\n",
    "factor_counts = data['CONTRIBUTING FACTOR VEHICLE 1'].value_counts()\n",
    "top_factors = factor_counts.head(20)\n",
    "\n",
    "plt.figure(figsize=(12, 6))\n",
    "top_factors.plot(kind='barh', color='teal', edgecolor='black')\n",
    "plt.title('Top 20 Contributing Factors for Crashes')\n",
    "plt.xlabel('Number of Crashes')\n",
    "plt.ylabel('Contributing Factor')\n",
    "plt.gca().invert_yaxis()\n",
    "plt.grid(axis='x')\n",
    "\n",
    "plt.tight_layout()\n",
    "plt.show()"
   ]
  },
  {
   "cell_type": "code",
   "execution_count": 37,
   "id": "2658b31d-a78f-4173-ba6d-159df6ffe378",
   "metadata": {
    "colab": {
     "base_uri": "https://localhost:8080/",
     "height": 442
    },
    "executionInfo": {
     "elapsed": 837,
     "status": "ok",
     "timestamp": 1701370340227,
     "user": {
      "displayName": "vijay reddy",
      "userId": "14915251025245810636"
     },
     "user_tz": 300
    },
    "id": "2658b31d-a78f-4173-ba6d-159df6ffe378",
    "outputId": "9bccca61-847d-4c5c-8063-257de4a27c2b"
   },
   "outputs": [
    {
     "data": {
      "image/png": "[encoded data removed]",
      "text/plain": [
       "<Figure size 1200x600 with 1 Axes>"
      ]
     },
     "metadata": {},
     "output_type": "display_data"
    }
   ],
   "source": [
    "# Visualize top 20 vehicles involved in a crash\n",
    "vehicle_counts = data['VEHICLE TYPE CODE 1'].value_counts()\n",
    "top_vehicles = vehicle_counts.head(20)\n",
    "\n",
    "plt.figure(figsize=(12, 6))\n",
    "top_vehicles.plot(kind='bar', color='lightblue', edgecolor='black')\n",
    "plt.title('Top 20 Vehicle Types Involved in Crashes')\n",
    "plt.xlabel('Vehicle Type')\n",
    "plt.ylabel('Number of Crashes')\n",
    "plt.xticks(rotation=75)\n",
    "plt.grid(axis='y')\n",
    "\n",
    "plt.tight_layout()\n",
    "plt.show()"
   ]
  },
  {
   "cell_type": "code",
   "execution_count": 38,
   "id": "a252be14-f13b-4eff-af0c-6e7cbc50b5a6",
   "metadata": {
    "executionInfo": {
     "elapsed": 718,
     "status": "ok",
     "timestamp": 1701370376755,
     "user": {
      "displayName": "vijay reddy",
      "userId": "14915251025245810636"
     },
     "user_tz": 300
    },
    "id": "a252be14-f13b-4eff-af0c-6e7cbc50b5a6"
   },
   "outputs": [
    {
     "data": {
      "text/plain": [
       "array(['Driver Mistake', 'Unsafe Driving Conditions', 'Unspecified',\n",
       "       'Crash Affect', 'Vehicle Defects', 'Oversized Vehicle',\n",
       "       'Pedestrian Mistake', 'Drugs or Alcohol', 'Animals Action',\n",
       "       'Vehicle Vandalism'], dtype=object)"
      ]
     },
     "execution_count": 38,
     "metadata": {},
     "output_type": "execute_result"
    }
   ],
   "source": [
    "# Custom Contribution Factor\n",
    "factor_mapping = {\n",
    "    'UNSPECIFIED': 'Unspecified', \n",
    "    'DRIVER INEXPERIENCE': 'Driver Mistake', \n",
    "    'PASSING TOO CLOSELY': 'Driver Mistake', \n",
    "    'TURNING IMPROPERLY': 'Driver Mistake', \n",
    "    'REACTION TO UNINVOLVED VEHICLE': 'Crash Affect', \n",
    "    'STEERING FAILURE': 'Vehicle Defects', \n",
    "    'FOLLOWING TOO CLOSELY': 'Driver Mistake', \n",
    "    'PASSING OR LANE USAGE IMPROPER': 'Driver Mistake', \n",
    "    'DRIVER INATTENTION/DISTRACTION': 'Driver Mistake', \n",
    "    'OVERSIZED VEHICLE': 'Oversized Vehicle', \n",
    "    'UNSAFE LANE CHANGING': 'Driver Mistake', \n",
    "    'ALCOHOL INVOLVEMENT': 'Drugs or Alcohol', \n",
    "    'VIEW OBSTRUCTED/LIMITED': 'Unsafe Driving Conditions', \n",
    "    'TRAFFIC CONTROL DISREGARDED': 'Driver Mistake', \n",
    "    'FAILURE TO YIELD RIGHT-OF-WAY': 'Driver Mistake', \n",
    "    'AGGRESSIVE DRIVING/ROAD RAGE': 'Driver Mistake', \n",
    "    'UNSAFE SPEED': 'Driver Mistake', \n",
    "    'PAVEMENT SLIPPERY': 'Unsafe Driving Conditions', \n",
    "    'ILLNES': 'Driver Mistake', \n",
    "    'LOST CONSCIOUSNESS': 'Driver Mistake', \n",
    "    'OTHER VEHICULAR': 'Unspecified', \n",
    "    'BRAKES DEFECTIVE': 'Vehicle Defects', \n",
    "    'BACKING UNSAFELY': 'Driver Mistake', \n",
    "    'PASSENGER DISTRACTION': 'Driver Mistake', \n",
    "    'FELL ASLEEP': 'Driver Mistake', \n",
    "    'OBSTRUCTION/DEBRIS': 'Unsafe Driving Conditions', \n",
    "    'TINTED WINDOWS': 'Vehicle Defects', \n",
    "    'PEDESTRIAN/BICYCLIST/OTHER PEDESTRIAN ERROR/CONFUSION': 'Pedestrian Mistake', \n",
    "    'ANIMALS ACTION': 'Animals Action', \n",
    "    'DRUGS (ILLEGAL)': 'Drugs or Alcohol', \n",
    "    'OUTSIDE CAR DISTRACTION': 'Driver Mistake', \n",
    "    'TIRE FAILURE/INADEQUATE': 'Vehicle Defects', \n",
    "    'PAVEMENT DEFECTIVE': 'Unsafe Driving Conditions', \n",
    "    'FATIGUED/DROWSY': 'Driver Mistake', \n",
    "    'ACCELERATOR DEFECTIVE': 'Vehicle Defects', \n",
    "    'PHYSICAL DISABILITY': 'Driver Mistake', \n",
    "    'GLARE': 'Driver Mistake', \n",
    "    'DRIVERLESS/RUNAWAY VEHICLE': 'Driver Mistake', \n",
    "    'EATING OR DRINKING': 'Driver Mistake', \n",
    "    'FAILURE TO KEEP RIGHT': 'Driver Mistake', \n",
    "    'CELL PHONE (HANDS-FREE)': 'Driver Mistake', \n",
    "    'LANE MARKING IMPROPER/INADEQUATE': 'Unsafe Driving Conditions', \n",
    "    'HEADLIGHTS DEFECTIVE': 'Vehicle Defects', \n",
    "    'CELL PHONE (HAND-HELD)': 'Driver Mistake', \n",
    "    'WINDSHIELD INADEQUATE': 'Vehicle Defects', \n",
    "    'VEHICLE VANDALISM': 'Vehicle Vandalism', \n",
    "    'USING ON BOARD NAVIGATION DEVICE': 'Driver Mistake', \n",
    "    'PRESCRIPTION MEDICATION': 'Pedestrian Mistake', \n",
    "    'OTHER ELECTRONIC DEVICE': 'Driver Mistake', \n",
    "    'TRAFFIC CONTROL DEVICE IMPROPER/NON-WORKING': 'Unsafe Driving Conditions', \n",
    "    'TEXTING': 'Driver Mistake', \n",
    "    'TOW HITCH DEFECTIVE': 'Vehicle Defects', \n",
    "    'OTHER LIGHTING DEFECTS': 'Unsafe Driving Conditions', \n",
    "    'SHOULDERS DEFECTIVE/IMPROPER': 'Driver Mistake', \n",
    "    'LISTENING/USING HEADPHONES': 'Driver Mistake', \n",
    "    'REACTION TO OTHER UNINVOLVED VEHICLE': 'Crash Affect', \n",
    "    '80': 'Unspecified', \n",
    "    '1': 'Unspecified', \n",
    "    'ILLNESS': 'Driver Mistake'\n",
    "}\n",
    "\n",
    "data['CONTRIBUTING FACTOR VEHICLE 1'] = data['CONTRIBUTING FACTOR VEHICLE 1'].map(factor_mapping)\n",
    "# View updated contribution factors\n",
    "data['CONTRIBUTING FACTOR VEHICLE 1'].unique()"
   ]
  },
  {
   "cell_type": "code",
   "execution_count": 39,
   "id": "850762dd-5438-4240-ada6-5658ccb36aa6",
   "metadata": {
    "executionInfo": {
     "elapsed": 988,
     "status": "ok",
     "timestamp": 1701370432695,
     "user": {
      "displayName": "vijay reddy",
      "userId": "14915251025245810636"
     },
     "user_tz": 300
    },
    "id": "850762dd-5438-4240-ada6-5658ccb36aa6"
   },
   "outputs": [],
   "source": [
    "# Custom Mapping for Vechicle Types\n",
    "vehicle_mapping = {\n",
    "    'SEDAN':'Light motor vehicle',\n",
    "'STATION WAGON/SPORT UTILITY VEHICLE':'Light motor vehicle',\n",
    "'MOTORSCOOTER':'Light motor vehicle',\n",
    "'BIKE':'Light motor vehicle',\n",
    "'E-BIKE':'Light motor vehicle',\n",
    "'MOTORCYCLE':'Light motor vehicle',\n",
    "'E-SCOOTER':'Light motor vehicle',\n",
    "'4 DR SEDAN':'Light motor vehicle',\n",
    "'3-DOOR':'Light motor vehicle',\n",
    "'CONVERTIBLE':'Light motor vehicle',\n",
    "'2 DR SEDAN':'Light motor vehicle',\n",
    "'50CC SCOOT':'Light motor vehicle',\n",
    "'MINI VAN':'Light motor vehicle',\n",
    "'FORD VAN':'Light motor vehicle',\n",
    "'3 WHE':'Light motor vehicle',\n",
    "'2015':'Light motor vehicle',\n",
    "'LIGHT TRAI':'Light motor vehicle',\n",
    "'LIMOU':'Light motor vehicle',\n",
    "'TANKER':'Trucks',\n",
    "'BOX TRUCK':'Trucks',\n",
    "'BEVERAGE TRUCK':'Trucks',\n",
    "'TOW TRUCK / WRECKER':'Trucks',\n",
    "'GARBAGE OR REFUSE':'Trucks',\n",
    "'SEMI TRAIL':'Trucks',\n",
    "'TOW TRUCK':'Trucks',\n",
    "'REFUSE TRU':'Trucks',\n",
    "'FRONT-LOAD':'Trucks',\n",
    "'FLATBED PI':'Trucks',\n",
    "'FRIEG':'Trucks',\n",
    "'DUMP TRUCK':'Trucks',\n",
    "'FLAT BED T':'Trucks',\n",
    "'STAKE OR RACK':'Trucks',\n",
    "'BACKHOE':'Trucks',\n",
    "'FLATBED FR':'Trucks',\n",
    "'FLATB':'Trucks',\n",
    "'CARGO VAN':'Trucks',\n",
    "'FIRETRUCK':'Trucks',\n",
    "'CARGO':'Trucks',\n",
    "'L1':'Trucks',\n",
    "'SPURPOSE':'Trucks',\n",
    "'AMBULANCE':'Emergency Vehicles',\n",
    "'FDNY AMBUL':'Emergency Vehicles',\n",
    "'EMS BUS':'Emergency Vehicles',\n",
    "'FDNY TRUCK':'Emergency Vehicles',\n",
    "'EMS/VAN':'Emergency Vehicles',\n",
    "'FDNY FIRET':'Emergency Vehicles',\n",
    "'FDNY EMS V':'Emergency Vehicles',\n",
    "'FDNY #226':'Emergency Vehicles',\n",
    "'UTILITY':'Utility vehicles',\n",
    "'CHASSIS CAB':'Utility vehicles',\n",
    "'CONCRETE MIXER':'Utility vehicles',\n",
    "'OPEN BODY':'Utility vehicles',\n",
    "'POWER SHOV':'Utility vehicles',\n",
    "'UTILITY VE':'Utility vehicles',\n",
    "'FUEL':'Utility vehicles',\n",
    "'POWER':'Utility vehicles',\n",
    "'UTI':'Utility vehicles',\n",
    "'U-HAUL':'Utility vehicles',\n",
    "'WORK':'Utility vehicles',\n",
    "'WORKH':'Utility vehicles',\n",
    "'RMP V':'Utility vehicles',\n",
    "'UHAUL':'Utility vehicles',\n",
    "'WORK TRUCK':'Utility vehicles',\n",
    "'WELL DRILLER':'Utility vehicles',\n",
    "'POSTAL BUS':'Utility vehicles',\n",
    "'EMS':'Utility vehicles',\n",
    "'POST OFFIC':'Utility vehicles',\n",
    "'ELEC. UNIC':'Utility vehicles',\n",
    "'E-BIK':'Utility vehicles',\n",
    "'FORLIFT':'Utility vehicles',\n",
    "'ELECTRIC S':'Utility vehicles',\n",
    "'LTR':'Utility vehicles',\n",
    "'GATOR':'Utility vehicles',\n",
    "'TOWER':'Utility vehicles',\n",
    "'POWER':'Utility vehicles',\n",
    "'MOPAD':'Utility vehicles',\n",
    "'HEARSE':'Utility vehicles',\n",
    "'MECHANICAL':'Utility vehicles',\n",
    "'R/V C':'Utility vehicles',\n",
    "'CUSHM':'Utility vehicles',\n",
    "'CAMP':'Utility vehicles',\n",
    "'RGS':'Utility vehicles',\n",
    "'WHEEL':'Utility vehicles',\n",
    "'FD TR':'Utility vehicles',\n",
    "'FORK-':'Utility vehicles',\n",
    "'WHEEL':'Utility vehicles',\n",
    "'BIKE':'Bicycles',\n",
    "'E-BIKE':'Bicycles',\n",
    "'BUS':'public transportation',\n",
    "'SCHOOL BUS':'public transportation',\n",
    "'MTA BUS':'public transportation',\n",
    "'NYC TRANSI':'public transportation',\n",
    "'BUS':'public transportation',\n",
    "'SCHOOL BUS':'public transportation',\n",
    "'MTA BUS':'public transportation',\n",
    "'NYC TRANSI':'public transportation',\n",
    "'UNKNOWN':'Other',\n",
    "'UNK':'Other',\n",
    "'DOT':'Other',\n",
    "'CITY OWNED':'Other',\n",
    "'POLICE REP':'Other',\n",
    "'COMMERCIAL':'Other',\n",
    "'GOVERNMENT':'Other',\n",
    "'7':'Other',\n",
    "'TR':'Other',\n",
    "'12 PASSAGE':'Other',\n",
    "'OTHER':'Other',\n",
    "'FIRE':'Other',\n",
    "'PUMP':'Other',\n",
    "'DEPARTMENT':'Other',\n",
    "'0':'Other',\n",
    "'SPECIAL CO':'Other',\n",
    "'COMMU':'Other',\n",
    "'RESCU':'Other',\n",
    "'COMB':'Other',\n",
    "'HEAVY':'Other',\n",
    "'BED T':'Other',\n",
    "'BICYC':'Other',\n",
    "'BULLD':'Other',\n",
    "'TRLR PLT,':'Other',\n",
    "'SPEC':'Other',\n",
    "'99999':'Other'\n",
    "}\n",
    "data['VEHICLE TYPE CODE 1'] = data['VEHICLE TYPE CODE 1'].map(vehicle_mapping)"
   ]
  },
  {
   "cell_type": "code",
   "execution_count": 40,
   "id": "18fa35a1-a514-4855-af68-71339fe8ce33",
   "metadata": {
    "colab": {
     "base_uri": "https://localhost:8080/"
    },
    "executionInfo": {
     "elapsed": 453,
     "status": "ok",
     "timestamp": 1701370462126,
     "user": {
      "displayName": "vijay reddy",
      "userId": "14915251025245810636"
     },
     "user_tz": 300
    },
    "id": "18fa35a1-a514-4855-af68-71339fe8ce33",
    "outputId": "ca76b775-c779-4291-8416-53ab9ab7055f"
   },
   "outputs": [
    {
     "data": {
      "text/plain": [
       "array(['Light motor vehicle', nan, 'Trucks', 'public transportation',\n",
       "       'Bicycles', 'Emergency Vehicles', 'Utility vehicles', 'Other'],\n",
       "      dtype=object)"
      ]
     },
     "execution_count": 40,
     "metadata": {},
     "output_type": "execute_result"
    }
   ],
   "source": [
    "# Updated Vechicle Type\n",
    "data['VEHICLE TYPE CODE 1'].unique()"
   ]
  },
  {
   "cell_type": "code",
   "execution_count": 41,
   "id": "36dade73-e699-4c63-99cc-9a6cf864afcc",
   "metadata": {
    "colab": {
     "base_uri": "https://localhost:8080/"
    },
    "executionInfo": {
     "elapsed": 3510,
     "status": "ok",
     "timestamp": 1701370488677,
     "user": {
      "displayName": "vijay reddy",
      "userId": "14915251025245810636"
     },
     "user_tz": 300
    },
    "id": "36dade73-e699-4c63-99cc-9a6cf864afcc",
    "outputId": "d09bd30b-5e8f-44c3-dc11-487c5c16b97c"
   },
   "outputs": [
    {
     "data": {
      "text/plain": [
       "BOROUGH                          0\n",
       "LATITUDE                         0\n",
       "LONGITUDE                        0\n",
       "NUMBER OF PERSONS INJURED        0\n",
       "NUMBER OF PERSONS KILLED         0\n",
       "NUMBER OF PEDESTRIANS INJURED    0\n",
       "NUMBER OF PEDESTRIANS KILLED     0\n",
       "NUMBER OF CYCLIST INJURED        0\n",
       "NUMBER OF CYCLIST KILLED         0\n",
       "NUMBER OF MOTORIST INJURED       0\n",
       "NUMBER OF MOTORIST KILLED        0\n",
       "CONTRIBUTING FACTOR VEHICLE 1    0\n",
       "COLLISION_ID                     0\n",
       "VEHICLE TYPE CODE 1              0\n",
       "CRASH DATE TIME                  0\n",
       "Year                             0\n",
       "Month                            0\n",
       "dtype: int64"
      ]
     },
     "execution_count": 41,
     "metadata": {},
     "output_type": "execute_result"
    }
   ],
   "source": [
    "# Drop Null Values\n",
    "data.dropna(inplace=True)\n",
    "data.isna().sum()"
   ]
  },
  {
   "cell_type": "code",
   "execution_count": 42,
   "id": "4497efe7-e39f-4310-818b-65d19d0d07b8",
   "metadata": {
    "colab": {
     "base_uri": "https://localhost:8080/",
     "height": 842
    },
    "executionInfo": {
     "elapsed": 433,
     "status": "ok",
     "timestamp": 1701370504806,
     "user": {
      "displayName": "vijay reddy",
      "userId": "14915251025245810636"
     },
     "user_tz": 300
    },
    "id": "4497efe7-e39f-4310-818b-65d19d0d07b8",
    "outputId": "bc662c25-f580-4feb-9edd-e1d0c883d368"
   },
   "outputs": [
    {
     "data": {
      "text/html": [
       "<div>\n",
       "<style scoped>\n",
       "    .dataframe tbody tr th:only-of-type {\n",
       "        vertical-align: middle;\n",
       "    }\n",
       "\n",
       "    .dataframe tbody tr th {\n",
       "        vertical-align: top;\n",
       "    }\n",
       "\n",
       "    .dataframe thead th {\n",
       "        text-align: right;\n",
       "    }\n",
       "</style>\n",
       "<table border=\"1\" class=\"dataframe\">\n",
       "  <thead>\n",
       "    <tr style=\"text-align: right;\">\n",
       "      <th></th>\n",
       "      <th>BOROUGH</th>\n",
       "      <th>LATITUDE</th>\n",
       "      <th>LONGITUDE</th>\n",
       "      <th>NUMBER OF PERSONS INJURED</th>\n",
       "      <th>NUMBER OF PERSONS KILLED</th>\n",
       "      <th>NUMBER OF PEDESTRIANS INJURED</th>\n",
       "      <th>NUMBER OF PEDESTRIANS KILLED</th>\n",
       "      <th>NUMBER OF CYCLIST INJURED</th>\n",
       "      <th>NUMBER OF CYCLIST KILLED</th>\n",
       "      <th>NUMBER OF MOTORIST INJURED</th>\n",
       "      <th>NUMBER OF MOTORIST KILLED</th>\n",
       "      <th>CONTRIBUTING FACTOR VEHICLE 1</th>\n",
       "      <th>COLLISION_ID</th>\n",
       "      <th>VEHICLE TYPE CODE 1</th>\n",
       "      <th>CRASH DATE TIME</th>\n",
       "      <th>Year</th>\n",
       "      <th>Month</th>\n",
       "    </tr>\n",
       "  </thead>\n",
       "  <tbody>\n",
       "    <tr>\n",
       "      <th>0</th>\n",
       "      <td>BROOKLYN</td>\n",
       "      <td>40.667202</td>\n",
       "      <td>-73.866500</td>\n",
       "      <td>2.000000</td>\n",
       "      <td>0.000000</td>\n",
       "      <td>0</td>\n",
       "      <td>0</td>\n",
       "      <td>0</td>\n",
       "      <td>0</td>\n",
       "      <td>2</td>\n",
       "      <td>0</td>\n",
       "      <td>Driver Mistake</td>\n",
       "      <td>4455765</td>\n",
       "      <td>Light motor vehicle</td>\n",
       "      <td>2021-09-11 02:39:00</td>\n",
       "      <td>2021</td>\n",
       "      <td>9</td>\n",
       "    </tr>\n",
       "    <tr>\n",
       "      <th>1</th>\n",
       "      <td>BROOKLYN</td>\n",
       "      <td>40.667202</td>\n",
       "      <td>-73.866500</td>\n",
       "      <td>1.000000</td>\n",
       "      <td>0.000000</td>\n",
       "      <td>0</td>\n",
       "      <td>0</td>\n",
       "      <td>0</td>\n",
       "      <td>0</td>\n",
       "      <td>1</td>\n",
       "      <td>0</td>\n",
       "      <td>Unsafe Driving Conditions</td>\n",
       "      <td>4513547</td>\n",
       "      <td>Light motor vehicle</td>\n",
       "      <td>2022-03-26 11:45:00</td>\n",
       "      <td>2022</td>\n",
       "      <td>3</td>\n",
       "    </tr>\n",
       "    <tr>\n",
       "      <th>2</th>\n",
       "      <td>BROOKLYN</td>\n",
       "      <td>40.667202</td>\n",
       "      <td>-73.866500</td>\n",
       "      <td>0.000000</td>\n",
       "      <td>0.000000</td>\n",
       "      <td>0</td>\n",
       "      <td>0</td>\n",
       "      <td>0</td>\n",
       "      <td>0</td>\n",
       "      <td>0</td>\n",
       "      <td>0</td>\n",
       "      <td>Driver Mistake</td>\n",
       "      <td>4541903</td>\n",
       "      <td>Light motor vehicle</td>\n",
       "      <td>2022-06-29 06:55:00</td>\n",
       "      <td>2022</td>\n",
       "      <td>6</td>\n",
       "    </tr>\n",
       "    <tr>\n",
       "      <th>3</th>\n",
       "      <td>BROOKLYN</td>\n",
       "      <td>40.667202</td>\n",
       "      <td>-73.866500</td>\n",
       "      <td>0.000000</td>\n",
       "      <td>0.000000</td>\n",
       "      <td>0</td>\n",
       "      <td>0</td>\n",
       "      <td>0</td>\n",
       "      <td>0</td>\n",
       "      <td>0</td>\n",
       "      <td>0</td>\n",
       "      <td>Unspecified</td>\n",
       "      <td>4456314</td>\n",
       "      <td>Light motor vehicle</td>\n",
       "      <td>2021-09-11 09:35:00</td>\n",
       "      <td>2021</td>\n",
       "      <td>9</td>\n",
       "    </tr>\n",
       "    <tr>\n",
       "      <th>6</th>\n",
       "      <td>BROOKLYN</td>\n",
       "      <td>40.709183</td>\n",
       "      <td>-73.956825</td>\n",
       "      <td>0.000000</td>\n",
       "      <td>0.000000</td>\n",
       "      <td>0</td>\n",
       "      <td>0</td>\n",
       "      <td>0</td>\n",
       "      <td>0</td>\n",
       "      <td>0</td>\n",
       "      <td>0</td>\n",
       "      <td>Driver Mistake</td>\n",
       "      <td>4486555</td>\n",
       "      <td>Light motor vehicle</td>\n",
       "      <td>2021-12-14 17:05:00</td>\n",
       "      <td>2021</td>\n",
       "      <td>12</td>\n",
       "    </tr>\n",
       "    <tr>\n",
       "      <th>...</th>\n",
       "      <td>...</td>\n",
       "      <td>...</td>\n",
       "      <td>...</td>\n",
       "      <td>...</td>\n",
       "      <td>...</td>\n",
       "      <td>...</td>\n",
       "      <td>...</td>\n",
       "      <td>...</td>\n",
       "      <td>...</td>\n",
       "      <td>...</td>\n",
       "      <td>...</td>\n",
       "      <td>...</td>\n",
       "      <td>...</td>\n",
       "      <td>...</td>\n",
       "      <td>...</td>\n",
       "      <td>...</td>\n",
       "      <td>...</td>\n",
       "    </tr>\n",
       "    <tr>\n",
       "      <th>2026641</th>\n",
       "      <td>MANHATTAN</td>\n",
       "      <td>40.854310</td>\n",
       "      <td>-73.930090</td>\n",
       "      <td>1.000000</td>\n",
       "      <td>0.000000</td>\n",
       "      <td>1</td>\n",
       "      <td>0</td>\n",
       "      <td>0</td>\n",
       "      <td>0</td>\n",
       "      <td>0</td>\n",
       "      <td>0</td>\n",
       "      <td>Driver Mistake</td>\n",
       "      <td>4648255</td>\n",
       "      <td>Light motor vehicle</td>\n",
       "      <td>2023-06-16 00:00:00</td>\n",
       "      <td>2023</td>\n",
       "      <td>6</td>\n",
       "    </tr>\n",
       "    <tr>\n",
       "      <th>2026642</th>\n",
       "      <td>MANHATTAN</td>\n",
       "      <td>40.866806</td>\n",
       "      <td>-73.931010</td>\n",
       "      <td>0.000000</td>\n",
       "      <td>0.000000</td>\n",
       "      <td>0</td>\n",
       "      <td>0</td>\n",
       "      <td>0</td>\n",
       "      <td>0</td>\n",
       "      <td>0</td>\n",
       "      <td>0</td>\n",
       "      <td>Driver Mistake</td>\n",
       "      <td>4648110</td>\n",
       "      <td>Light motor vehicle</td>\n",
       "      <td>2023-07-03 18:05:00</td>\n",
       "      <td>2023</td>\n",
       "      <td>7</td>\n",
       "    </tr>\n",
       "    <tr>\n",
       "      <th>2026643</th>\n",
       "      <td>BRONX</td>\n",
       "      <td>40.844177</td>\n",
       "      <td>-73.902920</td>\n",
       "      <td>1.000000</td>\n",
       "      <td>0.000000</td>\n",
       "      <td>1</td>\n",
       "      <td>0</td>\n",
       "      <td>0</td>\n",
       "      <td>0</td>\n",
       "      <td>0</td>\n",
       "      <td>0</td>\n",
       "      <td>Unspecified</td>\n",
       "      <td>4648117</td>\n",
       "      <td>Light motor vehicle</td>\n",
       "      <td>2023-07-22 21:39:00</td>\n",
       "      <td>2023</td>\n",
       "      <td>7</td>\n",
       "    </tr>\n",
       "    <tr>\n",
       "      <th>2026645</th>\n",
       "      <td>QUEENS</td>\n",
       "      <td>40.691580</td>\n",
       "      <td>-73.793190</td>\n",
       "      <td>1.000000</td>\n",
       "      <td>0.000000</td>\n",
       "      <td>0</td>\n",
       "      <td>0</td>\n",
       "      <td>0</td>\n",
       "      <td>0</td>\n",
       "      <td>0</td>\n",
       "      <td>0</td>\n",
       "      <td>Driver Mistake</td>\n",
       "      <td>4648129</td>\n",
       "      <td>Light motor vehicle</td>\n",
       "      <td>2023-07-22 13:15:00</td>\n",
       "      <td>2023</td>\n",
       "      <td>7</td>\n",
       "    </tr>\n",
       "    <tr>\n",
       "      <th>2026646</th>\n",
       "      <td>QUEENS</td>\n",
       "      <td>40.700240</td>\n",
       "      <td>-73.792854</td>\n",
       "      <td>0.000000</td>\n",
       "      <td>0.000000</td>\n",
       "      <td>0</td>\n",
       "      <td>0</td>\n",
       "      <td>0</td>\n",
       "      <td>0</td>\n",
       "      <td>0</td>\n",
       "      <td>0</td>\n",
       "      <td>Unspecified</td>\n",
       "      <td>4647913</td>\n",
       "      <td>Light motor vehicle</td>\n",
       "      <td>2023-07-22 03:00:00</td>\n",
       "      <td>2023</td>\n",
       "      <td>7</td>\n",
       "    </tr>\n",
       "  </tbody>\n",
       "</table>\n",
       "<p>1183154 rows × 17 columns</p>\n",
       "</div>"
      ],
      "text/plain": [
       "           BOROUGH  LATITUDE  LONGITUDE  NUMBER OF PERSONS INJURED  \\\n",
       "0         BROOKLYN 40.667202 -73.866500                   2.000000   \n",
       "1         BROOKLYN 40.667202 -73.866500                   1.000000   \n",
       "2         BROOKLYN 40.667202 -73.866500                   0.000000   \n",
       "3         BROOKLYN 40.667202 -73.866500                   0.000000   \n",
       "6         BROOKLYN 40.709183 -73.956825                   0.000000   \n",
       "...            ...       ...        ...                        ...   \n",
       "2026641  MANHATTAN 40.854310 -73.930090                   1.000000   \n",
       "2026642  MANHATTAN 40.866806 -73.931010                   0.000000   \n",
       "2026643      BRONX 40.844177 -73.902920                   1.000000   \n",
       "2026645     QUEENS 40.691580 -73.793190                   1.000000   \n",
       "2026646     QUEENS 40.700240 -73.792854                   0.000000   \n",
       "\n",
       "         NUMBER OF PERSONS KILLED  NUMBER OF PEDESTRIANS INJURED  \\\n",
       "0                        0.000000                              0   \n",
       "1                        0.000000                              0   \n",
       "2                        0.000000                              0   \n",
       "3                        0.000000                              0   \n",
       "6                        0.000000                              0   \n",
       "...                           ...                            ...   \n",
       "2026641                  0.000000                              1   \n",
       "2026642                  0.000000                              0   \n",
       "2026643                  0.000000                              1   \n",
       "2026645                  0.000000                              0   \n",
       "2026646                  0.000000                              0   \n",
       "\n",
       "         NUMBER OF PEDESTRIANS KILLED  NUMBER OF CYCLIST INJURED  \\\n",
       "0                                   0                          0   \n",
       "1                                   0                          0   \n",
       "2                                   0                          0   \n",
       "3                                   0                          0   \n",
       "6                                   0                          0   \n",
       "...                               ...                        ...   \n",
       "2026641                             0                          0   \n",
       "2026642                             0                          0   \n",
       "2026643                             0                          0   \n",
       "2026645                             0                          0   \n",
       "2026646                             0                          0   \n",
       "\n",
       "         NUMBER OF CYCLIST KILLED  NUMBER OF MOTORIST INJURED  \\\n",
       "0                               0                           2   \n",
       "1                               0                           1   \n",
       "2                               0                           0   \n",
       "3                               0                           0   \n",
       "6                               0                           0   \n",
       "...                           ...                         ...   \n",
       "2026641                         0                           0   \n",
       "2026642                         0                           0   \n",
       "2026643                         0                           0   \n",
       "2026645                         0                           0   \n",
       "2026646                         0                           0   \n",
       "\n",
       "         NUMBER OF MOTORIST KILLED CONTRIBUTING FACTOR VEHICLE 1  \\\n",
       "0                                0                Driver Mistake   \n",
       "1                                0     Unsafe Driving Conditions   \n",
       "2                                0                Driver Mistake   \n",
       "3                                0                   Unspecified   \n",
       "6                                0                Driver Mistake   \n",
       "...                            ...                           ...   \n",
       "2026641                          0                Driver Mistake   \n",
       "2026642                          0                Driver Mistake   \n",
       "2026643                          0                   Unspecified   \n",
       "2026645                          0                Driver Mistake   \n",
       "2026646                          0                   Unspecified   \n",
       "\n",
       "         COLLISION_ID  VEHICLE TYPE CODE 1     CRASH DATE TIME  Year  Month  \n",
       "0             4455765  Light motor vehicle 2021-09-11 02:39:00  2021      9  \n",
       "1             4513547  Light motor vehicle 2022-03-26 11:45:00  2022      3  \n",
       "2             4541903  Light motor vehicle 2022-06-29 06:55:00  2022      6  \n",
       "3             4456314  Light motor vehicle 2021-09-11 09:35:00  2021      9  \n",
       "6             4486555  Light motor vehicle 2021-12-14 17:05:00  2021     12  \n",
       "...               ...                  ...                 ...   ...    ...  \n",
       "2026641       4648255  Light motor vehicle 2023-06-16 00:00:00  2023      6  \n",
       "2026642       4648110  Light motor vehicle 2023-07-03 18:05:00  2023      7  \n",
       "2026643       4648117  Light motor vehicle 2023-07-22 21:39:00  2023      7  \n",
       "2026645       4648129  Light motor vehicle 2023-07-22 13:15:00  2023      7  \n",
       "2026646       4647913  Light motor vehicle 2023-07-22 03:00:00  2023      7  \n",
       "\n",
       "[1183154 rows x 17 columns]"
      ]
     },
     "execution_count": 42,
     "metadata": {},
     "output_type": "execute_result"
    }
   ],
   "source": [
    "# View data\n",
    "data"
   ]
  },
  {
   "cell_type": "code",
   "execution_count": 43,
   "id": "059f9012-33d8-4f88-aed0-b17a4ed39f59",
   "metadata": {
    "executionInfo": {
     "elapsed": 382,
     "status": "ok",
     "timestamp": 1701370539739,
     "user": {
      "displayName": "vijay reddy",
      "userId": "14915251025245810636"
     },
     "user_tz": 300
    },
    "id": "059f9012-33d8-4f88-aed0-b17a4ed39f59"
   },
   "outputs": [],
   "source": [
    "# Create a new column Total_killed\n",
    "data[\"Total_killed\"] = data[[\"NUMBER OF PEDESTRIANS KILLED\", \"NUMBER OF CYCLIST KILLED\", \"NUMBER OF MOTORIST KILLED\", \"NUMBER OF PERSONS KILLED\"]].sum(axis = 1)"
   ]
  },
  {
   "cell_type": "code",
   "execution_count": 44,
   "id": "e893eee5-3ff2-42b6-b347-0ce9ab85167b",
   "metadata": {
    "executionInfo": {
     "elapsed": 537,
     "status": "ok",
     "timestamp": 1701370558006,
     "user": {
      "displayName": "vijay reddy",
      "userId": "14915251025245810636"
     },
     "user_tz": 300
    },
    "id": "e893eee5-3ff2-42b6-b347-0ce9ab85167b"
   },
   "outputs": [],
   "source": [
    "# Create a new column Total_injured\n",
    "data[\"Total_injured\"] = data[[\"NUMBER OF PEDESTRIANS INJURED\", \"NUMBER OF CYCLIST INJURED\", \"NUMBER OF MOTORIST INJURED\", \"NUMBER OF PERSONS INJURED\"]].sum(axis = 1)"
   ]
  },
  {
   "cell_type": "code",
   "execution_count": 45,
   "id": "540ea4ae-ed29-430d-b7eb-6a96fc5b2090",
   "metadata": {
    "executionInfo": {
     "elapsed": 482,
     "status": "ok",
     "timestamp": 1701370575918,
     "user": {
      "displayName": "vijay reddy",
      "userId": "14915251025245810636"
     },
     "user_tz": 300
    },
    "id": "540ea4ae-ed29-430d-b7eb-6a96fc5b2090"
   },
   "outputs": [],
   "source": [
    "# Drop redudant columns\n",
    "data.drop(columns = [\"NUMBER OF PEDESTRIANS KILLED\", \"NUMBER OF CYCLIST KILLED\", \"NUMBER OF MOTORIST KILLED\", \"NUMBER OF PERSONS KILLED\"], inplace = True)\n",
    "data.drop(columns= [\"NUMBER OF PEDESTRIANS INJURED\", \"NUMBER OF CYCLIST INJURED\", \"NUMBER OF MOTORIST INJURED\", \"NUMBER OF PERSONS INJURED\"], inplace = True)"
   ]
  },
  {
   "cell_type": "code",
   "execution_count": 46,
   "id": "1ff6900e-57a6-439a-b2c6-bd4b4836d16a",
   "metadata": {
    "colab": {
     "base_uri": "https://localhost:8080/",
     "height": 825
    },
    "executionInfo": {
     "elapsed": 154,
     "status": "ok",
     "timestamp": 1701370587633,
     "user": {
      "displayName": "vijay reddy",
      "userId": "14915251025245810636"
     },
     "user_tz": 300
    },
    "id": "1ff6900e-57a6-439a-b2c6-bd4b4836d16a",
    "outputId": "e7d28f3c-cd9f-4428-ab14-9666ddf5076a"
   },
   "outputs": [
    {
     "data": {
      "text/html": [
       "<div>\n",
       "<style scoped>\n",
       "    .dataframe tbody tr th:only-of-type {\n",
       "        vertical-align: middle;\n",
       "    }\n",
       "\n",
       "    .dataframe tbody tr th {\n",
       "        vertical-align: top;\n",
       "    }\n",
       "\n",
       "    .dataframe thead th {\n",
       "        text-align: right;\n",
       "    }\n",
       "</style>\n",
       "<table border=\"1\" class=\"dataframe\">\n",
       "  <thead>\n",
       "    <tr style=\"text-align: right;\">\n",
       "      <th></th>\n",
       "      <th>BOROUGH</th>\n",
       "      <th>LATITUDE</th>\n",
       "      <th>LONGITUDE</th>\n",
       "      <th>CONTRIBUTING FACTOR VEHICLE 1</th>\n",
       "      <th>COLLISION_ID</th>\n",
       "      <th>VEHICLE TYPE CODE 1</th>\n",
       "      <th>CRASH DATE TIME</th>\n",
       "      <th>Year</th>\n",
       "      <th>Month</th>\n",
       "      <th>Total_killed</th>\n",
       "      <th>Total_injured</th>\n",
       "    </tr>\n",
       "  </thead>\n",
       "  <tbody>\n",
       "    <tr>\n",
       "      <th>0</th>\n",
       "      <td>BROOKLYN</td>\n",
       "      <td>40.667202</td>\n",
       "      <td>-73.866500</td>\n",
       "      <td>Driver Mistake</td>\n",
       "      <td>4455765</td>\n",
       "      <td>Light motor vehicle</td>\n",
       "      <td>2021-09-11 02:39:00</td>\n",
       "      <td>2021</td>\n",
       "      <td>9</td>\n",
       "      <td>0.000000</td>\n",
       "      <td>4.000000</td>\n",
       "    </tr>\n",
       "    <tr>\n",
       "      <th>1</th>\n",
       "      <td>BROOKLYN</td>\n",
       "      <td>40.667202</td>\n",
       "      <td>-73.866500</td>\n",
       "      <td>Unsafe Driving Conditions</td>\n",
       "      <td>4513547</td>\n",
       "      <td>Light motor vehicle</td>\n",
       "      <td>2022-03-26 11:45:00</td>\n",
       "      <td>2022</td>\n",
       "      <td>3</td>\n",
       "      <td>0.000000</td>\n",
       "      <td>2.000000</td>\n",
       "    </tr>\n",
       "    <tr>\n",
       "      <th>2</th>\n",
       "      <td>BROOKLYN</td>\n",
       "      <td>40.667202</td>\n",
       "      <td>-73.866500</td>\n",
       "      <td>Driver Mistake</td>\n",
       "      <td>4541903</td>\n",
       "      <td>Light motor vehicle</td>\n",
       "      <td>2022-06-29 06:55:00</td>\n",
       "      <td>2022</td>\n",
       "      <td>6</td>\n",
       "      <td>0.000000</td>\n",
       "      <td>0.000000</td>\n",
       "    </tr>\n",
       "    <tr>\n",
       "      <th>3</th>\n",
       "      <td>BROOKLYN</td>\n",
       "      <td>40.667202</td>\n",
       "      <td>-73.866500</td>\n",
       "      <td>Unspecified</td>\n",
       "      <td>4456314</td>\n",
       "      <td>Light motor vehicle</td>\n",
       "      <td>2021-09-11 09:35:00</td>\n",
       "      <td>2021</td>\n",
       "      <td>9</td>\n",
       "      <td>0.000000</td>\n",
       "      <td>0.000000</td>\n",
       "    </tr>\n",
       "    <tr>\n",
       "      <th>6</th>\n",
       "      <td>BROOKLYN</td>\n",
       "      <td>40.709183</td>\n",
       "      <td>-73.956825</td>\n",
       "      <td>Driver Mistake</td>\n",
       "      <td>4486555</td>\n",
       "      <td>Light motor vehicle</td>\n",
       "      <td>2021-12-14 17:05:00</td>\n",
       "      <td>2021</td>\n",
       "      <td>12</td>\n",
       "      <td>0.000000</td>\n",
       "      <td>0.000000</td>\n",
       "    </tr>\n",
       "    <tr>\n",
       "      <th>...</th>\n",
       "      <td>...</td>\n",
       "      <td>...</td>\n",
       "      <td>...</td>\n",
       "      <td>...</td>\n",
       "      <td>...</td>\n",
       "      <td>...</td>\n",
       "      <td>...</td>\n",
       "      <td>...</td>\n",
       "      <td>...</td>\n",
       "      <td>...</td>\n",
       "      <td>...</td>\n",
       "    </tr>\n",
       "    <tr>\n",
       "      <th>2026641</th>\n",
       "      <td>MANHATTAN</td>\n",
       "      <td>40.854310</td>\n",
       "      <td>-73.930090</td>\n",
       "      <td>Driver Mistake</td>\n",
       "      <td>4648255</td>\n",
       "      <td>Light motor vehicle</td>\n",
       "      <td>2023-06-16 00:00:00</td>\n",
       "      <td>2023</td>\n",
       "      <td>6</td>\n",
       "      <td>0.000000</td>\n",
       "      <td>2.000000</td>\n",
       "    </tr>\n",
       "    <tr>\n",
       "      <th>2026642</th>\n",
       "      <td>MANHATTAN</td>\n",
       "      <td>40.866806</td>\n",
       "      <td>-73.931010</td>\n",
       "      <td>Driver Mistake</td>\n",
       "      <td>4648110</td>\n",
       "      <td>Light motor vehicle</td>\n",
       "      <td>2023-07-03 18:05:00</td>\n",
       "      <td>2023</td>\n",
       "      <td>7</td>\n",
       "      <td>0.000000</td>\n",
       "      <td>0.000000</td>\n",
       "    </tr>\n",
       "    <tr>\n",
       "      <th>2026643</th>\n",
       "      <td>BRONX</td>\n",
       "      <td>40.844177</td>\n",
       "      <td>-73.902920</td>\n",
       "      <td>Unspecified</td>\n",
       "      <td>4648117</td>\n",
       "      <td>Light motor vehicle</td>\n",
       "      <td>2023-07-22 21:39:00</td>\n",
       "      <td>2023</td>\n",
       "      <td>7</td>\n",
       "      <td>0.000000</td>\n",
       "      <td>2.000000</td>\n",
       "    </tr>\n",
       "    <tr>\n",
       "      <th>2026645</th>\n",
       "      <td>QUEENS</td>\n",
       "      <td>40.691580</td>\n",
       "      <td>-73.793190</td>\n",
       "      <td>Driver Mistake</td>\n",
       "      <td>4648129</td>\n",
       "      <td>Light motor vehicle</td>\n",
       "      <td>2023-07-22 13:15:00</td>\n",
       "      <td>2023</td>\n",
       "      <td>7</td>\n",
       "      <td>0.000000</td>\n",
       "      <td>1.000000</td>\n",
       "    </tr>\n",
       "    <tr>\n",
       "      <th>2026646</th>\n",
       "      <td>QUEENS</td>\n",
       "      <td>40.700240</td>\n",
       "      <td>-73.792854</td>\n",
       "      <td>Unspecified</td>\n",
       "      <td>4647913</td>\n",
       "      <td>Light motor vehicle</td>\n",
       "      <td>2023-07-22 03:00:00</td>\n",
       "      <td>2023</td>\n",
       "      <td>7</td>\n",
       "      <td>0.000000</td>\n",
       "      <td>0.000000</td>\n",
       "    </tr>\n",
       "  </tbody>\n",
       "</table>\n",
       "<p>1183154 rows × 11 columns</p>\n",
       "</div>"
      ],
      "text/plain": [
       "           BOROUGH  LATITUDE  LONGITUDE CONTRIBUTING FACTOR VEHICLE 1  \\\n",
       "0         BROOKLYN 40.667202 -73.866500                Driver Mistake   \n",
       "1         BROOKLYN 40.667202 -73.866500     Unsafe Driving Conditions   \n",
       "2         BROOKLYN 40.667202 -73.866500                Driver Mistake   \n",
       "3         BROOKLYN 40.667202 -73.866500                   Unspecified   \n",
       "6         BROOKLYN 40.709183 -73.956825                Driver Mistake   \n",
       "...            ...       ...        ...                           ...   \n",
       "2026641  MANHATTAN 40.854310 -73.930090                Driver Mistake   \n",
       "2026642  MANHATTAN 40.866806 -73.931010                Driver Mistake   \n",
       "2026643      BRONX 40.844177 -73.902920                   Unspecified   \n",
       "2026645     QUEENS 40.691580 -73.793190                Driver Mistake   \n",
       "2026646     QUEENS 40.700240 -73.792854                   Unspecified   \n",
       "\n",
       "         COLLISION_ID  VEHICLE TYPE CODE 1     CRASH DATE TIME  Year  Month  \\\n",
       "0             4455765  Light motor vehicle 2021-09-11 02:39:00  2021      9   \n",
       "1             4513547  Light motor vehicle 2022-03-26 11:45:00  2022      3   \n",
       "2             4541903  Light motor vehicle 2022-06-29 06:55:00  2022      6   \n",
       "3             4456314  Light motor vehicle 2021-09-11 09:35:00  2021      9   \n",
       "6             4486555  Light motor vehicle 2021-12-14 17:05:00  2021     12   \n",
       "...               ...                  ...                 ...   ...    ...   \n",
       "2026641       4648255  Light motor vehicle 2023-06-16 00:00:00  2023      6   \n",
       "2026642       4648110  Light motor vehicle 2023-07-03 18:05:00  2023      7   \n",
       "2026643       4648117  Light motor vehicle 2023-07-22 21:39:00  2023      7   \n",
       "2026645       4648129  Light motor vehicle 2023-07-22 13:15:00  2023      7   \n",
       "2026646       4647913  Light motor vehicle 2023-07-22 03:00:00  2023      7   \n",
       "\n",
       "         Total_killed  Total_injured  \n",
       "0            0.000000       4.000000  \n",
       "1            0.000000       2.000000  \n",
       "2            0.000000       0.000000  \n",
       "3            0.000000       0.000000  \n",
       "6            0.000000       0.000000  \n",
       "...               ...            ...  \n",
       "2026641      0.000000       2.000000  \n",
       "2026642      0.000000       0.000000  \n",
       "2026643      0.000000       2.000000  \n",
       "2026645      0.000000       1.000000  \n",
       "2026646      0.000000       0.000000  \n",
       "\n",
       "[1183154 rows x 11 columns]"
      ]
     },
     "execution_count": 46,
     "metadata": {},
     "output_type": "execute_result"
    }
   ],
   "source": [
    "# View updated data\n",
    "data"
   ]
  },
  {
   "cell_type": "code",
   "execution_count": 47,
   "id": "3aa08408-43b9-4fda-b3a4-ce84ee00e969",
   "metadata": {
    "executionInfo": {
     "elapsed": 206,
     "status": "ok",
     "timestamp": 1701370603435,
     "user": {
      "displayName": "vijay reddy",
      "userId": "14915251025245810636"
     },
     "user_tz": 300
    },
    "id": "3aa08408-43b9-4fda-b3a4-ce84ee00e969"
   },
   "outputs": [],
   "source": [
    "# Drop unwanted Columns\n",
    "data.drop(columns=[\"COLLISION_ID\"],inplace=True)"
   ]
  },
  {
   "cell_type": "code",
   "execution_count": 48,
   "id": "39be620c-e037-45f2-9bd7-e762f8ce9af4",
   "metadata": {
    "colab": {
     "base_uri": "https://localhost:8080/",
     "height": 825
    },
    "executionInfo": {
     "elapsed": 195,
     "status": "ok",
     "timestamp": 1701370641338,
     "user": {
      "displayName": "vijay reddy",
      "userId": "14915251025245810636"
     },
     "user_tz": 300
    },
    "id": "39be620c-e037-45f2-9bd7-e762f8ce9af4",
    "outputId": "5a5e6313-b323-42a2-9b28-102482d47868"
   },
   "outputs": [
    {
     "data": {
      "text/html": [
       "<div>\n",
       "<style scoped>\n",
       "    .dataframe tbody tr th:only-of-type {\n",
       "        vertical-align: middle;\n",
       "    }\n",
       "\n",
       "    .dataframe tbody tr th {\n",
       "        vertical-align: top;\n",
       "    }\n",
       "\n",
       "    .dataframe thead th {\n",
       "        text-align: right;\n",
       "    }\n",
       "</style>\n",
       "<table border=\"1\" class=\"dataframe\">\n",
       "  <thead>\n",
       "    <tr style=\"text-align: right;\">\n",
       "      <th></th>\n",
       "      <th>BOROUGH</th>\n",
       "      <th>LATITUDE</th>\n",
       "      <th>LONGITUDE</th>\n",
       "      <th>CONTRIBUTING FACTOR VEHICLE 1</th>\n",
       "      <th>VEHICLE TYPE CODE 1</th>\n",
       "      <th>CRASH DATE TIME</th>\n",
       "      <th>Year</th>\n",
       "      <th>Month</th>\n",
       "      <th>Total_killed</th>\n",
       "      <th>Total_injured</th>\n",
       "    </tr>\n",
       "  </thead>\n",
       "  <tbody>\n",
       "    <tr>\n",
       "      <th>0</th>\n",
       "      <td>BROOKLYN</td>\n",
       "      <td>40.667202</td>\n",
       "      <td>-73.866500</td>\n",
       "      <td>Driver Mistake</td>\n",
       "      <td>Light motor vehicle</td>\n",
       "      <td>2021-09-11 02:39:00</td>\n",
       "      <td>2021</td>\n",
       "      <td>9</td>\n",
       "      <td>0</td>\n",
       "      <td>4</td>\n",
       "    </tr>\n",
       "    <tr>\n",
       "      <th>1</th>\n",
       "      <td>BROOKLYN</td>\n",
       "      <td>40.667202</td>\n",
       "      <td>-73.866500</td>\n",
       "      <td>Unsafe Driving Conditions</td>\n",
       "      <td>Light motor vehicle</td>\n",
       "      <td>2022-03-26 11:45:00</td>\n",
       "      <td>2022</td>\n",
       "      <td>3</td>\n",
       "      <td>0</td>\n",
       "      <td>2</td>\n",
       "    </tr>\n",
       "    <tr>\n",
       "      <th>2</th>\n",
       "      <td>BROOKLYN</td>\n",
       "      <td>40.667202</td>\n",
       "      <td>-73.866500</td>\n",
       "      <td>Driver Mistake</td>\n",
       "      <td>Light motor vehicle</td>\n",
       "      <td>2022-06-29 06:55:00</td>\n",
       "      <td>2022</td>\n",
       "      <td>6</td>\n",
       "      <td>0</td>\n",
       "      <td>0</td>\n",
       "    </tr>\n",
       "    <tr>\n",
       "      <th>3</th>\n",
       "      <td>BROOKLYN</td>\n",
       "      <td>40.667202</td>\n",
       "      <td>-73.866500</td>\n",
       "      <td>Unspecified</td>\n",
       "      <td>Light motor vehicle</td>\n",
       "      <td>2021-09-11 09:35:00</td>\n",
       "      <td>2021</td>\n",
       "      <td>9</td>\n",
       "      <td>0</td>\n",
       "      <td>0</td>\n",
       "    </tr>\n",
       "    <tr>\n",
       "      <th>6</th>\n",
       "      <td>BROOKLYN</td>\n",
       "      <td>40.709183</td>\n",
       "      <td>-73.956825</td>\n",
       "      <td>Driver Mistake</td>\n",
       "      <td>Light motor vehicle</td>\n",
       "      <td>2021-12-14 17:05:00</td>\n",
       "      <td>2021</td>\n",
       "      <td>12</td>\n",
       "      <td>0</td>\n",
       "      <td>0</td>\n",
       "    </tr>\n",
       "    <tr>\n",
       "      <th>...</th>\n",
       "      <td>...</td>\n",
       "      <td>...</td>\n",
       "      <td>...</td>\n",
       "      <td>...</td>\n",
       "      <td>...</td>\n",
       "      <td>...</td>\n",
       "      <td>...</td>\n",
       "      <td>...</td>\n",
       "      <td>...</td>\n",
       "      <td>...</td>\n",
       "    </tr>\n",
       "    <tr>\n",
       "      <th>2026641</th>\n",
       "      <td>MANHATTAN</td>\n",
       "      <td>40.854310</td>\n",
       "      <td>-73.930090</td>\n",
       "      <td>Driver Mistake</td>\n",
       "      <td>Light motor vehicle</td>\n",
       "      <td>2023-06-16 00:00:00</td>\n",
       "      <td>2023</td>\n",
       "      <td>6</td>\n",
       "      <td>0</td>\n",
       "      <td>2</td>\n",
       "    </tr>\n",
       "    <tr>\n",
       "      <th>2026642</th>\n",
       "      <td>MANHATTAN</td>\n",
       "      <td>40.866806</td>\n",
       "      <td>-73.931010</td>\n",
       "      <td>Driver Mistake</td>\n",
       "      <td>Light motor vehicle</td>\n",
       "      <td>2023-07-03 18:05:00</td>\n",
       "      <td>2023</td>\n",
       "      <td>7</td>\n",
       "      <td>0</td>\n",
       "      <td>0</td>\n",
       "    </tr>\n",
       "    <tr>\n",
       "      <th>2026643</th>\n",
       "      <td>BRONX</td>\n",
       "      <td>40.844177</td>\n",
       "      <td>-73.902920</td>\n",
       "      <td>Unspecified</td>\n",
       "      <td>Light motor vehicle</td>\n",
       "      <td>2023-07-22 21:39:00</td>\n",
       "      <td>2023</td>\n",
       "      <td>7</td>\n",
       "      <td>0</td>\n",
       "      <td>2</td>\n",
       "    </tr>\n",
       "    <tr>\n",
       "      <th>2026645</th>\n",
       "      <td>QUEENS</td>\n",
       "      <td>40.691580</td>\n",
       "      <td>-73.793190</td>\n",
       "      <td>Driver Mistake</td>\n",
       "      <td>Light motor vehicle</td>\n",
       "      <td>2023-07-22 13:15:00</td>\n",
       "      <td>2023</td>\n",
       "      <td>7</td>\n",
       "      <td>0</td>\n",
       "      <td>1</td>\n",
       "    </tr>\n",
       "    <tr>\n",
       "      <th>2026646</th>\n",
       "      <td>QUEENS</td>\n",
       "      <td>40.700240</td>\n",
       "      <td>-73.792854</td>\n",
       "      <td>Unspecified</td>\n",
       "      <td>Light motor vehicle</td>\n",
       "      <td>2023-07-22 03:00:00</td>\n",
       "      <td>2023</td>\n",
       "      <td>7</td>\n",
       "      <td>0</td>\n",
       "      <td>0</td>\n",
       "    </tr>\n",
       "  </tbody>\n",
       "</table>\n",
       "<p>1183154 rows × 10 columns</p>\n",
       "</div>"
      ],
      "text/plain": [
       "           BOROUGH  LATITUDE  LONGITUDE CONTRIBUTING FACTOR VEHICLE 1  \\\n",
       "0         BROOKLYN 40.667202 -73.866500                Driver Mistake   \n",
       "1         BROOKLYN 40.667202 -73.866500     Unsafe Driving Conditions   \n",
       "2         BROOKLYN 40.667202 -73.866500                Driver Mistake   \n",
       "3         BROOKLYN 40.667202 -73.866500                   Unspecified   \n",
       "6         BROOKLYN 40.709183 -73.956825                Driver Mistake   \n",
       "...            ...       ...        ...                           ...   \n",
       "2026641  MANHATTAN 40.854310 -73.930090                Driver Mistake   \n",
       "2026642  MANHATTAN 40.866806 -73.931010                Driver Mistake   \n",
       "2026643      BRONX 40.844177 -73.902920                   Unspecified   \n",
       "2026645     QUEENS 40.691580 -73.793190                Driver Mistake   \n",
       "2026646     QUEENS 40.700240 -73.792854                   Unspecified   \n",
       "\n",
       "         VEHICLE TYPE CODE 1     CRASH DATE TIME  Year  Month  Total_killed  \\\n",
       "0        Light motor vehicle 2021-09-11 02:39:00  2021      9             0   \n",
       "1        Light motor vehicle 2022-03-26 11:45:00  2022      3             0   \n",
       "2        Light motor vehicle 2022-06-29 06:55:00  2022      6             0   \n",
       "3        Light motor vehicle 2021-09-11 09:35:00  2021      9             0   \n",
       "6        Light motor vehicle 2021-12-14 17:05:00  2021     12             0   \n",
       "...                      ...                 ...   ...    ...           ...   \n",
       "2026641  Light motor vehicle 2023-06-16 00:00:00  2023      6             0   \n",
       "2026642  Light motor vehicle 2023-07-03 18:05:00  2023      7             0   \n",
       "2026643  Light motor vehicle 2023-07-22 21:39:00  2023      7             0   \n",
       "2026645  Light motor vehicle 2023-07-22 13:15:00  2023      7             0   \n",
       "2026646  Light motor vehicle 2023-07-22 03:00:00  2023      7             0   \n",
       "\n",
       "         Total_injured  \n",
       "0                    4  \n",
       "1                    2  \n",
       "2                    0  \n",
       "3                    0  \n",
       "6                    0  \n",
       "...                ...  \n",
       "2026641              2  \n",
       "2026642              0  \n",
       "2026643              2  \n",
       "2026645              1  \n",
       "2026646              0  \n",
       "\n",
       "[1183154 rows x 10 columns]"
      ]
     },
     "execution_count": 48,
     "metadata": {},
     "output_type": "execute_result"
    }
   ],
   "source": [
    "# Change datatype of new columns created\n",
    "data['Total_killed'] = data['Total_killed'].astype('uint8')\n",
    "data['Total_injured'] = data['Total_injured'].astype('uint8')\n",
    "data"
   ]
  },
  {
   "cell_type": "code",
   "execution_count": 49,
   "id": "da0222ab-7e22-4593-b4c4-007433625b30",
   "metadata": {
    "executionInfo": {
     "elapsed": 260,
     "status": "ok",
     "timestamp": 1701370685822,
     "user": {
      "displayName": "vijay reddy",
      "userId": "14915251025245810636"
     },
     "user_tz": 300
    },
    "id": "da0222ab-7e22-4593-b4c4-007433625b30"
   },
   "outputs": [],
   "source": [
    "# Custom Categorical Mapping for Borough\n",
    "borough_mapping = {\n",
    "    'BROOKLYN': 0,\n",
    "    'MANHATTAN': 1,\n",
    "    'QUEENS': 2,\n",
    "    'BRONX': 3,\n",
    "    'STATEN ISLAND': 4\n",
    "}\n",
    "data['BOROUGH'] = data['BOROUGH'].map(borough_mapping)"
   ]
  },
  {
   "cell_type": "code",
   "execution_count": 50,
   "id": "d9b68db3-0524-481a-b4d7-ab610bc6ce96",
   "metadata": {
    "colab": {
     "base_uri": "https://localhost:8080/",
     "height": 825
    },
    "executionInfo": {
     "elapsed": 318,
     "status": "ok",
     "timestamp": 1701370700934,
     "user": {
      "displayName": "vijay reddy",
      "userId": "14915251025245810636"
     },
     "user_tz": 300
    },
    "id": "d9b68db3-0524-481a-b4d7-ab610bc6ce96",
    "outputId": "ba355544-7a11-458e-84e9-afcf108acc19"
   },
   "outputs": [
    {
     "data": {
      "text/html": [
       "<div>\n",
       "<style scoped>\n",
       "    .dataframe tbody tr th:only-of-type {\n",
       "        vertical-align: middle;\n",
       "    }\n",
       "\n",
       "    .dataframe tbody tr th {\n",
       "        vertical-align: top;\n",
       "    }\n",
       "\n",
       "    .dataframe thead th {\n",
       "        text-align: right;\n",
       "    }\n",
       "</style>\n",
       "<table border=\"1\" class=\"dataframe\">\n",
       "  <thead>\n",
       "    <tr style=\"text-align: right;\">\n",
       "      <th></th>\n",
       "      <th>BOROUGH</th>\n",
       "      <th>LATITUDE</th>\n",
       "      <th>LONGITUDE</th>\n",
       "      <th>CONTRIBUTING FACTOR VEHICLE 1</th>\n",
       "      <th>VEHICLE TYPE CODE 1</th>\n",
       "      <th>CRASH DATE TIME</th>\n",
       "      <th>Year</th>\n",
       "      <th>Month</th>\n",
       "      <th>Total_killed</th>\n",
       "      <th>Total_injured</th>\n",
       "    </tr>\n",
       "  </thead>\n",
       "  <tbody>\n",
       "    <tr>\n",
       "      <th>0</th>\n",
       "      <td>0</td>\n",
       "      <td>40.667202</td>\n",
       "      <td>-73.866500</td>\n",
       "      <td>Driver Mistake</td>\n",
       "      <td>Light motor vehicle</td>\n",
       "      <td>2021-09-11 02:39:00</td>\n",
       "      <td>2021</td>\n",
       "      <td>9</td>\n",
       "      <td>0</td>\n",
       "      <td>4</td>\n",
       "    </tr>\n",
       "    <tr>\n",
       "      <th>1</th>\n",
       "      <td>0</td>\n",
       "      <td>40.667202</td>\n",
       "      <td>-73.866500</td>\n",
       "      <td>Unsafe Driving Conditions</td>\n",
       "      <td>Light motor vehicle</td>\n",
       "      <td>2022-03-26 11:45:00</td>\n",
       "      <td>2022</td>\n",
       "      <td>3</td>\n",
       "      <td>0</td>\n",
       "      <td>2</td>\n",
       "    </tr>\n",
       "    <tr>\n",
       "      <th>2</th>\n",
       "      <td>0</td>\n",
       "      <td>40.667202</td>\n",
       "      <td>-73.866500</td>\n",
       "      <td>Driver Mistake</td>\n",
       "      <td>Light motor vehicle</td>\n",
       "      <td>2022-06-29 06:55:00</td>\n",
       "      <td>2022</td>\n",
       "      <td>6</td>\n",
       "      <td>0</td>\n",
       "      <td>0</td>\n",
       "    </tr>\n",
       "    <tr>\n",
       "      <th>3</th>\n",
       "      <td>0</td>\n",
       "      <td>40.667202</td>\n",
       "      <td>-73.866500</td>\n",
       "      <td>Unspecified</td>\n",
       "      <td>Light motor vehicle</td>\n",
       "      <td>2021-09-11 09:35:00</td>\n",
       "      <td>2021</td>\n",
       "      <td>9</td>\n",
       "      <td>0</td>\n",
       "      <td>0</td>\n",
       "    </tr>\n",
       "    <tr>\n",
       "      <th>6</th>\n",
       "      <td>0</td>\n",
       "      <td>40.709183</td>\n",
       "      <td>-73.956825</td>\n",
       "      <td>Driver Mistake</td>\n",
       "      <td>Light motor vehicle</td>\n",
       "      <td>2021-12-14 17:05:00</td>\n",
       "      <td>2021</td>\n",
       "      <td>12</td>\n",
       "      <td>0</td>\n",
       "      <td>0</td>\n",
       "    </tr>\n",
       "    <tr>\n",
       "      <th>...</th>\n",
       "      <td>...</td>\n",
       "      <td>...</td>\n",
       "      <td>...</td>\n",
       "      <td>...</td>\n",
       "      <td>...</td>\n",
       "      <td>...</td>\n",
       "      <td>...</td>\n",
       "      <td>...</td>\n",
       "      <td>...</td>\n",
       "      <td>...</td>\n",
       "    </tr>\n",
       "    <tr>\n",
       "      <th>2026641</th>\n",
       "      <td>1</td>\n",
       "      <td>40.854310</td>\n",
       "      <td>-73.930090</td>\n",
       "      <td>Driver Mistake</td>\n",
       "      <td>Light motor vehicle</td>\n",
       "      <td>2023-06-16 00:00:00</td>\n",
       "      <td>2023</td>\n",
       "      <td>6</td>\n",
       "      <td>0</td>\n",
       "      <td>2</td>\n",
       "    </tr>\n",
       "    <tr>\n",
       "      <th>2026642</th>\n",
       "      <td>1</td>\n",
       "      <td>40.866806</td>\n",
       "      <td>-73.931010</td>\n",
       "      <td>Driver Mistake</td>\n",
       "      <td>Light motor vehicle</td>\n",
       "      <td>2023-07-03 18:05:00</td>\n",
       "      <td>2023</td>\n",
       "      <td>7</td>\n",
       "      <td>0</td>\n",
       "      <td>0</td>\n",
       "    </tr>\n",
       "    <tr>\n",
       "      <th>2026643</th>\n",
       "      <td>3</td>\n",
       "      <td>40.844177</td>\n",
       "      <td>-73.902920</td>\n",
       "      <td>Unspecified</td>\n",
       "      <td>Light motor vehicle</td>\n",
       "      <td>2023-07-22 21:39:00</td>\n",
       "      <td>2023</td>\n",
       "      <td>7</td>\n",
       "      <td>0</td>\n",
       "      <td>2</td>\n",
       "    </tr>\n",
       "    <tr>\n",
       "      <th>2026645</th>\n",
       "      <td>2</td>\n",
       "      <td>40.691580</td>\n",
       "      <td>-73.793190</td>\n",
       "      <td>Driver Mistake</td>\n",
       "      <td>Light motor vehicle</td>\n",
       "      <td>2023-07-22 13:15:00</td>\n",
       "      <td>2023</td>\n",
       "      <td>7</td>\n",
       "      <td>0</td>\n",
       "      <td>1</td>\n",
       "    </tr>\n",
       "    <tr>\n",
       "      <th>2026646</th>\n",
       "      <td>2</td>\n",
       "      <td>40.700240</td>\n",
       "      <td>-73.792854</td>\n",
       "      <td>Unspecified</td>\n",
       "      <td>Light motor vehicle</td>\n",
       "      <td>2023-07-22 03:00:00</td>\n",
       "      <td>2023</td>\n",
       "      <td>7</td>\n",
       "      <td>0</td>\n",
       "      <td>0</td>\n",
       "    </tr>\n",
       "  </tbody>\n",
       "</table>\n",
       "<p>1183154 rows × 10 columns</p>\n",
       "</div>"
      ],
      "text/plain": [
       "         BOROUGH  LATITUDE  LONGITUDE CONTRIBUTING FACTOR VEHICLE 1  \\\n",
       "0              0 40.667202 -73.866500                Driver Mistake   \n",
       "1              0 40.667202 -73.866500     Unsafe Driving Conditions   \n",
       "2              0 40.667202 -73.866500                Driver Mistake   \n",
       "3              0 40.667202 -73.866500                   Unspecified   \n",
       "6              0 40.709183 -73.956825                Driver Mistake   \n",
       "...          ...       ...        ...                           ...   \n",
       "2026641        1 40.854310 -73.930090                Driver Mistake   \n",
       "2026642        1 40.866806 -73.931010                Driver Mistake   \n",
       "2026643        3 40.844177 -73.902920                   Unspecified   \n",
       "2026645        2 40.691580 -73.793190                Driver Mistake   \n",
       "2026646        2 40.700240 -73.792854                   Unspecified   \n",
       "\n",
       "         VEHICLE TYPE CODE 1     CRASH DATE TIME  Year  Month  Total_killed  \\\n",
       "0        Light motor vehicle 2021-09-11 02:39:00  2021      9             0   \n",
       "1        Light motor vehicle 2022-03-26 11:45:00  2022      3             0   \n",
       "2        Light motor vehicle 2022-06-29 06:55:00  2022      6             0   \n",
       "3        Light motor vehicle 2021-09-11 09:35:00  2021      9             0   \n",
       "6        Light motor vehicle 2021-12-14 17:05:00  2021     12             0   \n",
       "...                      ...                 ...   ...    ...           ...   \n",
       "2026641  Light motor vehicle 2023-06-16 00:00:00  2023      6             0   \n",
       "2026642  Light motor vehicle 2023-07-03 18:05:00  2023      7             0   \n",
       "2026643  Light motor vehicle 2023-07-22 21:39:00  2023      7             0   \n",
       "2026645  Light motor vehicle 2023-07-22 13:15:00  2023      7             0   \n",
       "2026646  Light motor vehicle 2023-07-22 03:00:00  2023      7             0   \n",
       "\n",
       "         Total_injured  \n",
       "0                    4  \n",
       "1                    2  \n",
       "2                    0  \n",
       "3                    0  \n",
       "6                    0  \n",
       "...                ...  \n",
       "2026641              2  \n",
       "2026642              0  \n",
       "2026643              2  \n",
       "2026645              1  \n",
       "2026646              0  \n",
       "\n",
       "[1183154 rows x 10 columns]"
      ]
     },
     "execution_count": 50,
     "metadata": {},
     "output_type": "execute_result"
    }
   ],
   "source": [
    "# View data\n",
    "data"
   ]
  },
  {
   "cell_type": "code",
   "execution_count": 51,
   "id": "1c7ff09d-a595-47d7-ae98-16c880231f38",
   "metadata": {
    "executionInfo": {
     "elapsed": 326,
     "status": "ok",
     "timestamp": 1701370776051,
     "user": {
      "displayName": "vijay reddy",
      "userId": "14915251025245810636"
     },
     "user_tz": 300
    },
    "id": "1c7ff09d-a595-47d7-ae98-16c880231f38"
   },
   "outputs": [],
   "source": [
    "# Custom Categorical Mapping for Vechicles\n",
    "vehicle_mapping = {\n",
    "    'Light motor vehicle': 1,\n",
    "    'Emergency Vehicles': 2,\n",
    "    'Trucks': 3,\n",
    "    'public transportation': 4,\n",
    "    'Other': 5,\n",
    "    'Utility vehicles': 6,\n",
    "    'Bicycles': 7\n",
    "}\n",
    "data['VEHICLE TYPE CODE 1'] = data['VEHICLE TYPE CODE 1'].map(vehicle_mapping)"
   ]
  },
  {
   "cell_type": "code",
   "execution_count": 52,
   "id": "8ef18728-bdfa-45d4-a8f0-b2cd7afd7eca",
   "metadata": {
    "colab": {
     "base_uri": "https://localhost:8080/",
     "height": 825
    },
    "executionInfo": {
     "elapsed": 171,
     "status": "ok",
     "timestamp": 1701370789184,
     "user": {
      "displayName": "vijay reddy",
      "userId": "14915251025245810636"
     },
     "user_tz": 300
    },
    "id": "8ef18728-bdfa-45d4-a8f0-b2cd7afd7eca",
    "outputId": "82fd1849-0375-42d3-93c8-bde44f9c11f3"
   },
   "outputs": [
    {
     "data": {
      "text/html": [
       "<div>\n",
       "<style scoped>\n",
       "    .dataframe tbody tr th:only-of-type {\n",
       "        vertical-align: middle;\n",
       "    }\n",
       "\n",
       "    .dataframe tbody tr th {\n",
       "        vertical-align: top;\n",
       "    }\n",
       "\n",
       "    .dataframe thead th {\n",
       "        text-align: right;\n",
       "    }\n",
       "</style>\n",
       "<table border=\"1\" class=\"dataframe\">\n",
       "  <thead>\n",
       "    <tr style=\"text-align: right;\">\n",
       "      <th></th>\n",
       "      <th>BOROUGH</th>\n",
       "      <th>LATITUDE</th>\n",
       "      <th>LONGITUDE</th>\n",
       "      <th>CONTRIBUTING FACTOR VEHICLE 1</th>\n",
       "      <th>VEHICLE TYPE CODE 1</th>\n",
       "      <th>CRASH DATE TIME</th>\n",
       "      <th>Year</th>\n",
       "      <th>Month</th>\n",
       "      <th>Total_killed</th>\n",
       "      <th>Total_injured</th>\n",
       "    </tr>\n",
       "  </thead>\n",
       "  <tbody>\n",
       "    <tr>\n",
       "      <th>0</th>\n",
       "      <td>0</td>\n",
       "      <td>40.667202</td>\n",
       "      <td>-73.866500</td>\n",
       "      <td>Driver Mistake</td>\n",
       "      <td>1</td>\n",
       "      <td>2021-09-11 02:39:00</td>\n",
       "      <td>2021</td>\n",
       "      <td>9</td>\n",
       "      <td>0</td>\n",
       "      <td>4</td>\n",
       "    </tr>\n",
       "    <tr>\n",
       "      <th>1</th>\n",
       "      <td>0</td>\n",
       "      <td>40.667202</td>\n",
       "      <td>-73.866500</td>\n",
       "      <td>Unsafe Driving Conditions</td>\n",
       "      <td>1</td>\n",
       "      <td>2022-03-26 11:45:00</td>\n",
       "      <td>2022</td>\n",
       "      <td>3</td>\n",
       "      <td>0</td>\n",
       "      <td>2</td>\n",
       "    </tr>\n",
       "    <tr>\n",
       "      <th>2</th>\n",
       "      <td>0</td>\n",
       "      <td>40.667202</td>\n",
       "      <td>-73.866500</td>\n",
       "      <td>Driver Mistake</td>\n",
       "      <td>1</td>\n",
       "      <td>2022-06-29 06:55:00</td>\n",
       "      <td>2022</td>\n",
       "      <td>6</td>\n",
       "      <td>0</td>\n",
       "      <td>0</td>\n",
       "    </tr>\n",
       "    <tr>\n",
       "      <th>3</th>\n",
       "      <td>0</td>\n",
       "      <td>40.667202</td>\n",
       "      <td>-73.866500</td>\n",
       "      <td>Unspecified</td>\n",
       "      <td>1</td>\n",
       "      <td>2021-09-11 09:35:00</td>\n",
       "      <td>2021</td>\n",
       "      <td>9</td>\n",
       "      <td>0</td>\n",
       "      <td>0</td>\n",
       "    </tr>\n",
       "    <tr>\n",
       "      <th>6</th>\n",
       "      <td>0</td>\n",
       "      <td>40.709183</td>\n",
       "      <td>-73.956825</td>\n",
       "      <td>Driver Mistake</td>\n",
       "      <td>1</td>\n",
       "      <td>2021-12-14 17:05:00</td>\n",
       "      <td>2021</td>\n",
       "      <td>12</td>\n",
       "      <td>0</td>\n",
       "      <td>0</td>\n",
       "    </tr>\n",
       "    <tr>\n",
       "      <th>...</th>\n",
       "      <td>...</td>\n",
       "      <td>...</td>\n",
       "      <td>...</td>\n",
       "      <td>...</td>\n",
       "      <td>...</td>\n",
       "      <td>...</td>\n",
       "      <td>...</td>\n",
       "      <td>...</td>\n",
       "      <td>...</td>\n",
       "      <td>...</td>\n",
       "    </tr>\n",
       "    <tr>\n",
       "      <th>2026641</th>\n",
       "      <td>1</td>\n",
       "      <td>40.854310</td>\n",
       "      <td>-73.930090</td>\n",
       "      <td>Driver Mistake</td>\n",
       "      <td>1</td>\n",
       "      <td>2023-06-16 00:00:00</td>\n",
       "      <td>2023</td>\n",
       "      <td>6</td>\n",
       "      <td>0</td>\n",
       "      <td>2</td>\n",
       "    </tr>\n",
       "    <tr>\n",
       "      <th>2026642</th>\n",
       "      <td>1</td>\n",
       "      <td>40.866806</td>\n",
       "      <td>-73.931010</td>\n",
       "      <td>Driver Mistake</td>\n",
       "      <td>1</td>\n",
       "      <td>2023-07-03 18:05:00</td>\n",
       "      <td>2023</td>\n",
       "      <td>7</td>\n",
       "      <td>0</td>\n",
       "      <td>0</td>\n",
       "    </tr>\n",
       "    <tr>\n",
       "      <th>2026643</th>\n",
       "      <td>3</td>\n",
       "      <td>40.844177</td>\n",
       "      <td>-73.902920</td>\n",
       "      <td>Unspecified</td>\n",
       "      <td>1</td>\n",
       "      <td>2023-07-22 21:39:00</td>\n",
       "      <td>2023</td>\n",
       "      <td>7</td>\n",
       "      <td>0</td>\n",
       "      <td>2</td>\n",
       "    </tr>\n",
       "    <tr>\n",
       "      <th>2026645</th>\n",
       "      <td>2</td>\n",
       "      <td>40.691580</td>\n",
       "      <td>-73.793190</td>\n",
       "      <td>Driver Mistake</td>\n",
       "      <td>1</td>\n",
       "      <td>2023-07-22 13:15:00</td>\n",
       "      <td>2023</td>\n",
       "      <td>7</td>\n",
       "      <td>0</td>\n",
       "      <td>1</td>\n",
       "    </tr>\n",
       "    <tr>\n",
       "      <th>2026646</th>\n",
       "      <td>2</td>\n",
       "      <td>40.700240</td>\n",
       "      <td>-73.792854</td>\n",
       "      <td>Unspecified</td>\n",
       "      <td>1</td>\n",
       "      <td>2023-07-22 03:00:00</td>\n",
       "      <td>2023</td>\n",
       "      <td>7</td>\n",
       "      <td>0</td>\n",
       "      <td>0</td>\n",
       "    </tr>\n",
       "  </tbody>\n",
       "</table>\n",
       "<p>1183154 rows × 10 columns</p>\n",
       "</div>"
      ],
      "text/plain": [
       "         BOROUGH  LATITUDE  LONGITUDE CONTRIBUTING FACTOR VEHICLE 1  \\\n",
       "0              0 40.667202 -73.866500                Driver Mistake   \n",
       "1              0 40.667202 -73.866500     Unsafe Driving Conditions   \n",
       "2              0 40.667202 -73.866500                Driver Mistake   \n",
       "3              0 40.667202 -73.866500                   Unspecified   \n",
       "6              0 40.709183 -73.956825                Driver Mistake   \n",
       "...          ...       ...        ...                           ...   \n",
       "2026641        1 40.854310 -73.930090                Driver Mistake   \n",
       "2026642        1 40.866806 -73.931010                Driver Mistake   \n",
       "2026643        3 40.844177 -73.902920                   Unspecified   \n",
       "2026645        2 40.691580 -73.793190                Driver Mistake   \n",
       "2026646        2 40.700240 -73.792854                   Unspecified   \n",
       "\n",
       "         VEHICLE TYPE CODE 1     CRASH DATE TIME  Year  Month  Total_killed  \\\n",
       "0                          1 2021-09-11 02:39:00  2021      9             0   \n",
       "1                          1 2022-03-26 11:45:00  2022      3             0   \n",
       "2                          1 2022-06-29 06:55:00  2022      6             0   \n",
       "3                          1 2021-09-11 09:35:00  2021      9             0   \n",
       "6                          1 2021-12-14 17:05:00  2021     12             0   \n",
       "...                      ...                 ...   ...    ...           ...   \n",
       "2026641                    1 2023-06-16 00:00:00  2023      6             0   \n",
       "2026642                    1 2023-07-03 18:05:00  2023      7             0   \n",
       "2026643                    1 2023-07-22 21:39:00  2023      7             0   \n",
       "2026645                    1 2023-07-22 13:15:00  2023      7             0   \n",
       "2026646                    1 2023-07-22 03:00:00  2023      7             0   \n",
       "\n",
       "         Total_injured  \n",
       "0                    4  \n",
       "1                    2  \n",
       "2                    0  \n",
       "3                    0  \n",
       "6                    0  \n",
       "...                ...  \n",
       "2026641              2  \n",
       "2026642              0  \n",
       "2026643              2  \n",
       "2026645              1  \n",
       "2026646              0  \n",
       "\n",
       "[1183154 rows x 10 columns]"
      ]
     },
     "execution_count": 52,
     "metadata": {},
     "output_type": "execute_result"
    }
   ],
   "source": [
    "# View data\n",
    "data"
   ]
  },
  {
   "cell_type": "code",
   "execution_count": 53,
   "id": "48423c61-642e-4960-9fbf-88ef33b49be4",
   "metadata": {
    "executionInfo": {
     "elapsed": 9232,
     "status": "ok",
     "timestamp": 1701370886489,
     "user": {
      "displayName": "vijay reddy",
      "userId": "14915251025245810636"
     },
     "user_tz": 300
    },
    "id": "48423c61-642e-4960-9fbf-88ef33b49be4"
   },
   "outputs": [],
   "source": [
    "# Save preprocessed data to csv file\n",
    "data.to_csv(\"vehicle_collisions_preprocessed.csv\", index=False)"
   ]
  },
  {
   "cell_type": "code",
   "execution_count": 54,
   "id": "1b251025",
   "metadata": {
    "executionInfo": {
     "elapsed": 1513,
     "status": "ok",
     "timestamp": 1701370901908,
     "user": {
      "displayName": "vijay reddy",
      "userId": "14915251025245810636"
     },
     "user_tz": 300
    },
    "id": "1b251025"
   },
   "outputs": [],
   "source": [
    "# necessary imports\n",
    "import numpy as np\n",
    "import pandas as pd\n",
    "import matplotlib.pyplot as plt\n",
    "import seaborn as sns"
   ]
  },
  {
   "cell_type": "code",
   "execution_count": 55,
   "id": "3wXLDyE0E82E",
   "metadata": {
    "executionInfo": {
     "elapsed": 403,
     "status": "ok",
     "timestamp": 1701370906029,
     "user": {
      "displayName": "vijay reddy",
      "userId": "14915251025245810636"
     },
     "user_tz": 300
    },
    "id": "3wXLDyE0E82E"
   },
   "outputs": [],
   "source": [
    "# Setting the path to drive. Leave empty if not executed in google colab\n",
    "path = ''"
   ]
  },
  {
   "cell_type": "code",
   "execution_count": 56,
   "id": "99ceb06a",
   "metadata": {
    "colab": {
     "base_uri": "https://localhost:8080/",
     "height": 825
    },
    "executionInfo": {
     "elapsed": 3816,
     "status": "ok",
     "timestamp": 1701370946141,
     "user": {
      "displayName": "vijay reddy",
      "userId": "14915251025245810636"
     },
     "user_tz": 300
    },
    "id": "99ceb06a",
    "outputId": "c74014b8-f126-4f85-df2e-6fce5e181922"
   },
   "outputs": [
    {
     "data": {
      "text/html": [
       "<div>\n",
       "<style scoped>\n",
       "    .dataframe tbody tr th:only-of-type {\n",
       "        vertical-align: middle;\n",
       "    }\n",
       "\n",
       "    .dataframe tbody tr th {\n",
       "        vertical-align: top;\n",
       "    }\n",
       "\n",
       "    .dataframe thead th {\n",
       "        text-align: right;\n",
       "    }\n",
       "</style>\n",
       "<table border=\"1\" class=\"dataframe\">\n",
       "  <thead>\n",
       "    <tr style=\"text-align: right;\">\n",
       "      <th></th>\n",
       "      <th>BOROUGH</th>\n",
       "      <th>LATITUDE</th>\n",
       "      <th>LONGITUDE</th>\n",
       "      <th>CONTRIBUTING FACTOR VEHICLE 1</th>\n",
       "      <th>VEHICLE TYPE CODE 1</th>\n",
       "      <th>CRASH DATE TIME</th>\n",
       "      <th>Year</th>\n",
       "      <th>Month</th>\n",
       "      <th>Total_killed</th>\n",
       "      <th>Total_injured</th>\n",
       "    </tr>\n",
       "  </thead>\n",
       "  <tbody>\n",
       "    <tr>\n",
       "      <th>0</th>\n",
       "      <td>0</td>\n",
       "      <td>40.667202</td>\n",
       "      <td>-73.866500</td>\n",
       "      <td>Driver Mistake</td>\n",
       "      <td>1</td>\n",
       "      <td>2021-09-11 02:39:00</td>\n",
       "      <td>2021</td>\n",
       "      <td>9</td>\n",
       "      <td>0</td>\n",
       "      <td>4</td>\n",
       "    </tr>\n",
       "    <tr>\n",
       "      <th>1</th>\n",
       "      <td>0</td>\n",
       "      <td>40.667202</td>\n",
       "      <td>-73.866500</td>\n",
       "      <td>Unsafe Driving Conditions</td>\n",
       "      <td>1</td>\n",
       "      <td>2022-03-26 11:45:00</td>\n",
       "      <td>2022</td>\n",
       "      <td>3</td>\n",
       "      <td>0</td>\n",
       "      <td>2</td>\n",
       "    </tr>\n",
       "    <tr>\n",
       "      <th>2</th>\n",
       "      <td>0</td>\n",
       "      <td>40.667202</td>\n",
       "      <td>-73.866500</td>\n",
       "      <td>Driver Mistake</td>\n",
       "      <td>1</td>\n",
       "      <td>2022-06-29 06:55:00</td>\n",
       "      <td>2022</td>\n",
       "      <td>6</td>\n",
       "      <td>0</td>\n",
       "      <td>0</td>\n",
       "    </tr>\n",
       "    <tr>\n",
       "      <th>3</th>\n",
       "      <td>0</td>\n",
       "      <td>40.667202</td>\n",
       "      <td>-73.866500</td>\n",
       "      <td>Unspecified</td>\n",
       "      <td>1</td>\n",
       "      <td>2021-09-11 09:35:00</td>\n",
       "      <td>2021</td>\n",
       "      <td>9</td>\n",
       "      <td>0</td>\n",
       "      <td>0</td>\n",
       "    </tr>\n",
       "    <tr>\n",
       "      <th>4</th>\n",
       "      <td>0</td>\n",
       "      <td>40.709183</td>\n",
       "      <td>-73.956825</td>\n",
       "      <td>Driver Mistake</td>\n",
       "      <td>1</td>\n",
       "      <td>2021-12-14 17:05:00</td>\n",
       "      <td>2021</td>\n",
       "      <td>12</td>\n",
       "      <td>0</td>\n",
       "      <td>0</td>\n",
       "    </tr>\n",
       "    <tr>\n",
       "      <th>...</th>\n",
       "      <td>...</td>\n",
       "      <td>...</td>\n",
       "      <td>...</td>\n",
       "      <td>...</td>\n",
       "      <td>...</td>\n",
       "      <td>...</td>\n",
       "      <td>...</td>\n",
       "      <td>...</td>\n",
       "      <td>...</td>\n",
       "      <td>...</td>\n",
       "    </tr>\n",
       "    <tr>\n",
       "      <th>1183149</th>\n",
       "      <td>1</td>\n",
       "      <td>40.854310</td>\n",
       "      <td>-73.930090</td>\n",
       "      <td>Driver Mistake</td>\n",
       "      <td>1</td>\n",
       "      <td>2023-06-16 00:00:00</td>\n",
       "      <td>2023</td>\n",
       "      <td>6</td>\n",
       "      <td>0</td>\n",
       "      <td>2</td>\n",
       "    </tr>\n",
       "    <tr>\n",
       "      <th>1183150</th>\n",
       "      <td>1</td>\n",
       "      <td>40.866806</td>\n",
       "      <td>-73.931010</td>\n",
       "      <td>Driver Mistake</td>\n",
       "      <td>1</td>\n",
       "      <td>2023-07-03 18:05:00</td>\n",
       "      <td>2023</td>\n",
       "      <td>7</td>\n",
       "      <td>0</td>\n",
       "      <td>0</td>\n",
       "    </tr>\n",
       "    <tr>\n",
       "      <th>1183151</th>\n",
       "      <td>3</td>\n",
       "      <td>40.844177</td>\n",
       "      <td>-73.902920</td>\n",
       "      <td>Unspecified</td>\n",
       "      <td>1</td>\n",
       "      <td>2023-07-22 21:39:00</td>\n",
       "      <td>2023</td>\n",
       "      <td>7</td>\n",
       "      <td>0</td>\n",
       "      <td>2</td>\n",
       "    </tr>\n",
       "    <tr>\n",
       "      <th>1183152</th>\n",
       "      <td>2</td>\n",
       "      <td>40.691580</td>\n",
       "      <td>-73.793190</td>\n",
       "      <td>Driver Mistake</td>\n",
       "      <td>1</td>\n",
       "      <td>2023-07-22 13:15:00</td>\n",
       "      <td>2023</td>\n",
       "      <td>7</td>\n",
       "      <td>0</td>\n",
       "      <td>1</td>\n",
       "    </tr>\n",
       "    <tr>\n",
       "      <th>1183153</th>\n",
       "      <td>2</td>\n",
       "      <td>40.700240</td>\n",
       "      <td>-73.792854</td>\n",
       "      <td>Unspecified</td>\n",
       "      <td>1</td>\n",
       "      <td>2023-07-22 03:00:00</td>\n",
       "      <td>2023</td>\n",
       "      <td>7</td>\n",
       "      <td>0</td>\n",
       "      <td>0</td>\n",
       "    </tr>\n",
       "  </tbody>\n",
       "</table>\n",
       "<p>1183154 rows × 10 columns</p>\n",
       "</div>"
      ],
      "text/plain": [
       "         BOROUGH  LATITUDE  LONGITUDE CONTRIBUTING FACTOR VEHICLE 1  \\\n",
       "0              0 40.667202 -73.866500                Driver Mistake   \n",
       "1              0 40.667202 -73.866500     Unsafe Driving Conditions   \n",
       "2              0 40.667202 -73.866500                Driver Mistake   \n",
       "3              0 40.667202 -73.866500                   Unspecified   \n",
       "4              0 40.709183 -73.956825                Driver Mistake   \n",
       "...          ...       ...        ...                           ...   \n",
       "1183149        1 40.854310 -73.930090                Driver Mistake   \n",
       "1183150        1 40.866806 -73.931010                Driver Mistake   \n",
       "1183151        3 40.844177 -73.902920                   Unspecified   \n",
       "1183152        2 40.691580 -73.793190                Driver Mistake   \n",
       "1183153        2 40.700240 -73.792854                   Unspecified   \n",
       "\n",
       "         VEHICLE TYPE CODE 1      CRASH DATE TIME  Year  Month  Total_killed  \\\n",
       "0                          1  2021-09-11 02:39:00  2021      9             0   \n",
       "1                          1  2022-03-26 11:45:00  2022      3             0   \n",
       "2                          1  2022-06-29 06:55:00  2022      6             0   \n",
       "3                          1  2021-09-11 09:35:00  2021      9             0   \n",
       "4                          1  2021-12-14 17:05:00  2021     12             0   \n",
       "...                      ...                  ...   ...    ...           ...   \n",
       "1183149                    1  2023-06-16 00:00:00  2023      6             0   \n",
       "1183150                    1  2023-07-03 18:05:00  2023      7             0   \n",
       "1183151                    1  2023-07-22 21:39:00  2023      7             0   \n",
       "1183152                    1  2023-07-22 13:15:00  2023      7             0   \n",
       "1183153                    1  2023-07-22 03:00:00  2023      7             0   \n",
       "\n",
       "         Total_injured  \n",
       "0                    4  \n",
       "1                    2  \n",
       "2                    0  \n",
       "3                    0  \n",
       "4                    0  \n",
       "...                ...  \n",
       "1183149              2  \n",
       "1183150              0  \n",
       "1183151              2  \n",
       "1183152              1  \n",
       "1183153              0  \n",
       "\n",
       "[1183154 rows x 10 columns]"
      ]
     },
     "execution_count": 56,
     "metadata": {},
     "output_type": "execute_result"
    }
   ],
   "source": [
    "# Read preprocessed data\n",
    "df = pd.read_csv(path+\"vehicle_collisions_preprocessed.csv\")\n",
    "df"
   ]
  },
  {
   "cell_type": "code",
   "execution_count": 57,
   "id": "bc1bea85",
   "metadata": {
    "executionInfo": {
     "elapsed": 908,
     "status": "ok",
     "timestamp": 1701371017688,
     "user": {
      "displayName": "vijay reddy",
      "userId": "14915251025245810636"
     },
     "user_tz": 300
    },
    "id": "bc1bea85"
   },
   "outputs": [],
   "source": [
    "# Get Crash Date Time\n",
    "df[\"CRASH DATE TIME\"] = pd.to_datetime(df[\"CRASH DATE TIME\"]).dt.time"
   ]
  },
  {
   "cell_type": "code",
   "execution_count": 58,
   "id": "4103db80",
   "metadata": {
    "executionInfo": {
     "elapsed": 1018,
     "status": "ok",
     "timestamp": 1701371030442,
     "user": {
      "displayName": "vijay reddy",
      "userId": "14915251025245810636"
     },
     "user_tz": 300
    },
    "id": "4103db80"
   },
   "outputs": [],
   "source": [
    "# Define time ranges (in this example, we use 8-hour ranges)\n",
    "time_ranges = [pd.to_datetime('04:00:00').time(), pd.to_datetime('12:00:00').time(), pd.to_datetime('19:00:00').time()]\n",
    "\n",
    "# Create labels for the time ranges\n",
    "labels = [\"Night\", \"Early-morning\", \"Afternoon-Evening\"]\n",
    "\n",
    "# Function to categorize time into ranges\n",
    "def categorize_time(time):\n",
    "    for i, range_end in enumerate(time_ranges):\n",
    "        if time <= range_end:\n",
    "            return labels[i]\n",
    "    return labels[0]  # If the time is after the last range\n",
    "\n",
    "# Apply the categorization function to create the 'time_range' column\n",
    "df['CRASH DATE TIME'] = df[\"CRASH DATE TIME\"].apply(categorize_time)"
   ]
  },
  {
   "cell_type": "code",
   "execution_count": 59,
   "id": "06032903",
   "metadata": {
    "colab": {
     "base_uri": "https://localhost:8080/"
    },
    "executionInfo": {
     "elapsed": 170,
     "status": "ok",
     "timestamp": 1701371064158,
     "user": {
      "displayName": "vijay reddy",
      "userId": "14915251025245810636"
     },
     "user_tz": 300
    },
    "id": "06032903",
    "outputId": "44339401-c7c6-4677-f211-a5d007e9dc71"
   },
   "outputs": [
    {
     "data": {
      "text/plain": [
       "array(['Night', 'Early-morning', 'Afternoon-Evening'], dtype=object)"
      ]
     },
     "execution_count": 59,
     "metadata": {},
     "output_type": "execute_result"
    }
   ],
   "source": [
    "# View updated Crash Date Time\n",
    "df[\"CRASH DATE TIME\"].unique()"
   ]
  },
  {
   "cell_type": "code",
   "execution_count": 60,
   "id": "8038c751",
   "metadata": {
    "executionInfo": {
     "elapsed": 333,
     "status": "ok",
     "timestamp": 1701371083105,
     "user": {
      "displayName": "vijay reddy",
      "userId": "14915251025245810636"
     },
     "user_tz": 300
    },
    "id": "8038c751"
   },
   "outputs": [
    {
     "data": {
      "text/plain": [
       "array([0, 1, 2], dtype=int64)"
      ]
     },
     "execution_count": 60,
     "metadata": {},
     "output_type": "execute_result"
    }
   ],
   "source": [
    "# Convert crash time to Categorical Data\n",
    "time_category_mapping = {\n",
    "    'Night': 0,\n",
    "    'Early-morning': 1,\n",
    "    'Afternoon-Evening': 2\n",
    "}\n",
    "\n",
    "df['CRASH DATE TIME_cat'] = df['CRASH DATE TIME'].map(time_category_mapping)\n",
    "df['CRASH DATE TIME_cat'].unique()"
   ]
  },
  {
   "cell_type": "code",
   "execution_count": 61,
   "id": "34411d1a",
   "metadata": {
    "colab": {
     "base_uri": "https://localhost:8080/"
    },
    "executionInfo": {
     "elapsed": 206,
     "status": "ok",
     "timestamp": 1701371137362,
     "user": {
      "displayName": "vijay reddy",
      "userId": "14915251025245810636"
     },
     "user_tz": 300
    },
    "id": "34411d1a",
    "outputId": "db8f2ea2-b1a7-43fc-df6a-4b2299b42b82"
   },
   "outputs": [
    {
     "data": {
      "text/plain": [
       "Index(['BOROUGH', 'LATITUDE', 'LONGITUDE', 'CONTRIBUTING FACTOR VEHICLE 1',\n",
       "       'VEHICLE TYPE CODE 1', 'CRASH DATE TIME', 'Year', 'Month',\n",
       "       'Total_killed', 'Total_injured', 'CRASH DATE TIME_cat'],\n",
       "      dtype='object')"
      ]
     },
     "execution_count": 61,
     "metadata": {},
     "output_type": "execute_result"
    }
   ],
   "source": [
    "# View columns\n",
    "df.columns"
   ]
  },
  {
   "cell_type": "code",
   "execution_count": 62,
   "id": "6293bb31",
   "metadata": {
    "executionInfo": {
     "elapsed": 1458,
     "status": "ok",
     "timestamp": 1701371181282,
     "user": {
      "displayName": "vijay reddy",
      "userId": "14915251025245810636"
     },
     "user_tz": 300
    },
    "id": "6293bb31"
   },
   "outputs": [],
   "source": [
    "# Drop Null values if any\n",
    "df.dropna(inplace = True)"
   ]
  },
  {
   "cell_type": "code",
   "execution_count": 63,
   "id": "7a126f49",
   "metadata": {
    "executionInfo": {
     "elapsed": 1154,
     "status": "ok",
     "timestamp": 1701371243843,
     "user": {
      "displayName": "vijay reddy",
      "userId": "14915251025245810636"
     },
     "user_tz": 300
    },
    "id": "7a126f49"
   },
   "outputs": [
    {
     "data": {
      "text/plain": [
       "array([0, 1, 2, 3, 4, 5, 6, 7, 8, 9], dtype=int64)"
      ]
     },
     "execution_count": 63,
     "metadata": {},
     "output_type": "execute_result"
    }
   ],
   "source": [
    "# Categorical Encoding of Contribuing Factor\n",
    "contribution_factor_encoder = {\n",
    "    'Driver Mistake': 0, \n",
    "    'Unsafe Driving Conditions': 1, \n",
    "    'Unspecified': 2, \n",
    "    'Crash Affect': 3, \n",
    "    'Vehicle Defects': 4, \n",
    "    'Oversized Vehicle': 5, \n",
    "    'Pedestrian Mistake': 6, \n",
    "    'Drugs or Alcohol': 7, \n",
    "    'Animals Action': 8, \n",
    "    'Vehicle Vandalism': 9\n",
    "}\n",
    "\n",
    "# Maintain reverse maps to track back the required class\n",
    "reverse_contribution_factor_mapping = {}\n",
    "\n",
    "for k,v in contribution_factor_encoder.items():\n",
    "    reverse_contribution_factor_mapping[v] = k\n",
    "\n",
    "\n",
    "df['CONTRIBUTING FACTOR VEHICLE cat'] = df['CONTRIBUTING FACTOR VEHICLE 1'].map(contribution_factor_encoder)\n",
    "df['CONTRIBUTING FACTOR VEHICLE cat'].unique()"
   ]
  },
  {
   "cell_type": "code",
   "execution_count": 64,
   "id": "0a321d50",
   "metadata": {
    "executionInfo": {
     "elapsed": 311,
     "status": "ok",
     "timestamp": 1701371280508,
     "user": {
      "displayName": "vijay reddy",
      "userId": "14915251025245810636"
     },
     "user_tz": 300
    },
    "id": "0a321d50"
   },
   "outputs": [],
   "source": [
    "# Select correlated features\n",
    "features = ['VEHICLE TYPE CODE 1', 'CRASH DATE TIME_cat', 'Total_injured', 'Total_killed']"
   ]
  },
  {
   "cell_type": "code",
   "execution_count": 65,
   "id": "8d5aba45",
   "metadata": {
    "colab": {
     "base_uri": "https://localhost:8080/",
     "height": 810
    },
    "executionInfo": {
     "elapsed": 2237,
     "status": "ok",
     "timestamp": 1701371302481,
     "user": {
      "displayName": "vijay reddy",
      "userId": "14915251025245810636"
     },
     "user_tz": 300
    },
    "id": "8d5aba45",
    "outputId": "d09d6ac1-4c9c-4174-ad1b-65d7fef0825a"
   },
   "outputs": [
    {
     "data": {
      "image/png": "[encoded data removed]",
      "text/plain": [
       "<Figure size 1200x1000 with 2 Axes>"
      ]
     },
     "metadata": {},
     "output_type": "display_data"
    }
   ],
   "source": [
    "# plot confusion matrix\n",
    "plt.figure(figsize=(12, 10))\n",
    "sns.heatmap(df[features].corr(), annot=True, cmap=\"coolwarm\", linewidths=.5)\n",
    "plt.show()"
   ]
  },
  {
   "cell_type": "markdown",
   "id": "14d9717b",
   "metadata": {
    "id": "14d9717b"
   },
   "source": [
    "# Kmeans Clustering"
   ]
  },
  {
   "cell_type": "code",
   "execution_count": 66,
   "id": "823aa052",
   "metadata": {
    "colab": {
     "base_uri": "https://localhost:8080/"
    },
    "executionInfo": {
     "elapsed": 141,
     "status": "ok",
     "timestamp": 1701371318637,
     "user": {
      "displayName": "vijay reddy",
      "userId": "14915251025245810636"
     },
     "user_tz": 300
    },
    "id": "823aa052",
    "outputId": "049f0666-244d-441b-fe49-955c7ba03833"
   },
   "outputs": [
    {
     "data": {
      "text/html": [
       "<div>\n",
       "<style scoped>\n",
       "    .dataframe tbody tr th:only-of-type {\n",
       "        vertical-align: middle;\n",
       "    }\n",
       "\n",
       "    .dataframe tbody tr th {\n",
       "        vertical-align: top;\n",
       "    }\n",
       "\n",
       "    .dataframe thead th {\n",
       "        text-align: right;\n",
       "    }\n",
       "</style>\n",
       "<table border=\"1\" class=\"dataframe\">\n",
       "  <thead>\n",
       "    <tr style=\"text-align: right;\">\n",
       "      <th></th>\n",
       "      <th>VEHICLE TYPE CODE 1</th>\n",
       "      <th>CRASH DATE TIME_cat</th>\n",
       "      <th>Total_injured</th>\n",
       "      <th>Total_killed</th>\n",
       "    </tr>\n",
       "  </thead>\n",
       "  <tbody>\n",
       "    <tr>\n",
       "      <th>0</th>\n",
       "      <td>1</td>\n",
       "      <td>0</td>\n",
       "      <td>400</td>\n",
       "      <td>0</td>\n",
       "    </tr>\n",
       "    <tr>\n",
       "      <th>1</th>\n",
       "      <td>1</td>\n",
       "      <td>1</td>\n",
       "      <td>200</td>\n",
       "      <td>0</td>\n",
       "    </tr>\n",
       "    <tr>\n",
       "      <th>2</th>\n",
       "      <td>1</td>\n",
       "      <td>1</td>\n",
       "      <td>0</td>\n",
       "      <td>0</td>\n",
       "    </tr>\n",
       "    <tr>\n",
       "      <th>3</th>\n",
       "      <td>1</td>\n",
       "      <td>1</td>\n",
       "      <td>0</td>\n",
       "      <td>0</td>\n",
       "    </tr>\n",
       "    <tr>\n",
       "      <th>4</th>\n",
       "      <td>1</td>\n",
       "      <td>2</td>\n",
       "      <td>0</td>\n",
       "      <td>0</td>\n",
       "    </tr>\n",
       "    <tr>\n",
       "      <th>...</th>\n",
       "      <td>...</td>\n",
       "      <td>...</td>\n",
       "      <td>...</td>\n",
       "      <td>...</td>\n",
       "    </tr>\n",
       "    <tr>\n",
       "      <th>1183149</th>\n",
       "      <td>1</td>\n",
       "      <td>0</td>\n",
       "      <td>200</td>\n",
       "      <td>0</td>\n",
       "    </tr>\n",
       "    <tr>\n",
       "      <th>1183150</th>\n",
       "      <td>1</td>\n",
       "      <td>2</td>\n",
       "      <td>0</td>\n",
       "      <td>0</td>\n",
       "    </tr>\n",
       "    <tr>\n",
       "      <th>1183151</th>\n",
       "      <td>1</td>\n",
       "      <td>0</td>\n",
       "      <td>200</td>\n",
       "      <td>0</td>\n",
       "    </tr>\n",
       "    <tr>\n",
       "      <th>1183152</th>\n",
       "      <td>1</td>\n",
       "      <td>2</td>\n",
       "      <td>100</td>\n",
       "      <td>0</td>\n",
       "    </tr>\n",
       "    <tr>\n",
       "      <th>1183153</th>\n",
       "      <td>1</td>\n",
       "      <td>0</td>\n",
       "      <td>0</td>\n",
       "      <td>0</td>\n",
       "    </tr>\n",
       "  </tbody>\n",
       "</table>\n",
       "<p>1183154 rows × 4 columns</p>\n",
       "</div>"
      ],
      "text/plain": [
       "         VEHICLE TYPE CODE 1  CRASH DATE TIME_cat  Total_injured  Total_killed\n",
       "0                          1                    0            400             0\n",
       "1                          1                    1            200             0\n",
       "2                          1                    1              0             0\n",
       "3                          1                    1              0             0\n",
       "4                          1                    2              0             0\n",
       "...                      ...                  ...            ...           ...\n",
       "1183149                    1                    0            200             0\n",
       "1183150                    1                    2              0             0\n",
       "1183151                    1                    0            200             0\n",
       "1183152                    1                    2            100             0\n",
       "1183153                    1                    0              0             0\n",
       "\n",
       "[1183154 rows x 4 columns]"
      ]
     },
     "execution_count": 66,
     "metadata": {},
     "output_type": "execute_result"
    }
   ],
   "source": [
    "# Initialize random weight\n",
    "weights = np.array([1,1,100,80])\n",
    "weighted_X = df[features]*weights\n",
    "weighted_X"
   ]
  },
  {
   "cell_type": "code",
   "execution_count": 67,
   "id": "86f0a18d",
   "metadata": {
    "executionInfo": {
     "elapsed": 4107,
     "status": "ok",
     "timestamp": 1701371331271,
     "user": {
      "displayName": "vijay reddy",
      "userId": "14915251025245810636"
     },
     "user_tz": 300
    },
    "id": "86f0a18d"
   },
   "outputs": [],
   "source": [
    "# Applying kmeans model\n",
    "from sklearn.cluster import KMeans\n",
    "\n",
    "kmeans = KMeans(n_clusters=3, random_state=42)\n",
    "kmeans.fit(weighted_X)\n",
    "clusters = kmeans.labels_"
   ]
  },
  {
   "cell_type": "code",
   "execution_count": 68,
   "id": "f28ce82a",
   "metadata": {},
   "outputs": [],
   "source": [
    "# Create the Severity column\n",
    "df['severity'] = pd.Series(clusters).values"
   ]
  },
  {
   "cell_type": "code",
   "execution_count": 69,
   "id": "e087463b",
   "metadata": {
    "executionInfo": {
     "elapsed": 182,
     "status": "ok",
     "timestamp": 1701371339281,
     "user": {
      "displayName": "vijay reddy",
      "userId": "14915251025245810636"
     },
     "user_tz": 300
    },
    "id": "e087463b"
   },
   "outputs": [],
   "source": [
    "# Get the centrois\n",
    "centroids = kmeans.cluster_centers_"
   ]
  },
  {
   "cell_type": "code",
   "execution_count": 70,
   "id": "2d03fce2",
   "metadata": {
    "colab": {
     "base_uri": "https://localhost:8080/",
     "height": 226
    },
    "executionInfo": {
     "elapsed": 415,
     "status": "ok",
     "timestamp": 1701371350772,
     "user": {
      "displayName": "vijay reddy",
      "userId": "14915251025245810636"
     },
     "user_tz": 300
    },
    "id": "2d03fce2",
    "outputId": "f465384d-6be4-4e3c-98e4-63ef914b584a"
   },
   "outputs": [
    {
     "data": {
      "text/html": [
       "<div>\n",
       "<style scoped>\n",
       "    .dataframe tbody tr th:only-of-type {\n",
       "        vertical-align: middle;\n",
       "    }\n",
       "\n",
       "    .dataframe tbody tr th {\n",
       "        vertical-align: top;\n",
       "    }\n",
       "\n",
       "    .dataframe thead tr th {\n",
       "        text-align: left;\n",
       "    }\n",
       "\n",
       "    .dataframe thead tr:last-of-type th {\n",
       "        text-align: right;\n",
       "    }\n",
       "</style>\n",
       "<table border=\"1\" class=\"dataframe\">\n",
       "  <thead>\n",
       "    <tr>\n",
       "      <th></th>\n",
       "      <th colspan=\"8\" halign=\"left\">Total_killed</th>\n",
       "      <th colspan=\"8\" halign=\"left\">Total_injured</th>\n",
       "    </tr>\n",
       "    <tr>\n",
       "      <th></th>\n",
       "      <th>count</th>\n",
       "      <th>mean</th>\n",
       "      <th>std</th>\n",
       "      <th>min</th>\n",
       "      <th>25%</th>\n",
       "      <th>50%</th>\n",
       "      <th>75%</th>\n",
       "      <th>max</th>\n",
       "      <th>count</th>\n",
       "      <th>mean</th>\n",
       "      <th>std</th>\n",
       "      <th>min</th>\n",
       "      <th>25%</th>\n",
       "      <th>50%</th>\n",
       "      <th>75%</th>\n",
       "      <th>max</th>\n",
       "    </tr>\n",
       "    <tr>\n",
       "      <th>severity</th>\n",
       "      <th></th>\n",
       "      <th></th>\n",
       "      <th></th>\n",
       "      <th></th>\n",
       "      <th></th>\n",
       "      <th></th>\n",
       "      <th></th>\n",
       "      <th></th>\n",
       "      <th></th>\n",
       "      <th></th>\n",
       "      <th></th>\n",
       "      <th></th>\n",
       "      <th></th>\n",
       "      <th></th>\n",
       "      <th></th>\n",
       "      <th></th>\n",
       "    </tr>\n",
       "  </thead>\n",
       "  <tbody>\n",
       "    <tr>\n",
       "      <th>0</th>\n",
       "      <td>898386.000000</td>\n",
       "      <td>0.002996</td>\n",
       "      <td>0.079177</td>\n",
       "      <td>0.000000</td>\n",
       "      <td>0.000000</td>\n",
       "      <td>0.000000</td>\n",
       "      <td>0.000000</td>\n",
       "      <td>8.000000</td>\n",
       "      <td>898386.000000</td>\n",
       "      <td>0.005974</td>\n",
       "      <td>0.077061</td>\n",
       "      <td>0.000000</td>\n",
       "      <td>0.000000</td>\n",
       "      <td>0.000000</td>\n",
       "      <td>0.000000</td>\n",
       "      <td>1.000000</td>\n",
       "    </tr>\n",
       "    <tr>\n",
       "      <th>1</th>\n",
       "      <td>262105.000000</td>\n",
       "      <td>0.002922</td>\n",
       "      <td>0.080245</td>\n",
       "      <td>0.000000</td>\n",
       "      <td>0.000000</td>\n",
       "      <td>0.000000</td>\n",
       "      <td>0.000000</td>\n",
       "      <td>6.000000</td>\n",
       "      <td>262105.000000</td>\n",
       "      <td>2.329440</td>\n",
       "      <td>0.741312</td>\n",
       "      <td>2.000000</td>\n",
       "      <td>2.000000</td>\n",
       "      <td>2.000000</td>\n",
       "      <td>2.000000</td>\n",
       "      <td>4.000000</td>\n",
       "    </tr>\n",
       "    <tr>\n",
       "      <th>2</th>\n",
       "      <td>22663.000000</td>\n",
       "      <td>0.010855</td>\n",
       "      <td>0.177417</td>\n",
       "      <td>0.000000</td>\n",
       "      <td>0.000000</td>\n",
       "      <td>0.000000</td>\n",
       "      <td>0.000000</td>\n",
       "      <td>8.000000</td>\n",
       "      <td>22663.000000</td>\n",
       "      <td>7.385518</td>\n",
       "      <td>2.697177</td>\n",
       "      <td>5.000000</td>\n",
       "      <td>6.000000</td>\n",
       "      <td>6.000000</td>\n",
       "      <td>8.000000</td>\n",
       "      <td>80.000000</td>\n",
       "    </tr>\n",
       "  </tbody>\n",
       "</table>\n",
       "</div>"
      ],
      "text/plain": [
       "          Total_killed                                                        \\\n",
       "                 count     mean      std      min      25%      50%      75%   \n",
       "severity                                                                       \n",
       "0        898386.000000 0.002996 0.079177 0.000000 0.000000 0.000000 0.000000   \n",
       "1        262105.000000 0.002922 0.080245 0.000000 0.000000 0.000000 0.000000   \n",
       "2         22663.000000 0.010855 0.177417 0.000000 0.000000 0.000000 0.000000   \n",
       "\n",
       "                  Total_injured                                               \\\n",
       "              max         count     mean      std      min      25%      50%   \n",
       "severity                                                                       \n",
       "0        8.000000 898386.000000 0.005974 0.077061 0.000000 0.000000 0.000000   \n",
       "1        6.000000 262105.000000 2.329440 0.741312 2.000000 2.000000 2.000000   \n",
       "2        8.000000  22663.000000 7.385518 2.697177 5.000000 6.000000 6.000000   \n",
       "\n",
       "                             \n",
       "              75%       max  \n",
       "severity                     \n",
       "0        0.000000  1.000000  \n",
       "1        2.000000  4.000000  \n",
       "2        8.000000 80.000000  "
      ]
     },
     "execution_count": 70,
     "metadata": {},
     "output_type": "execute_result"
    }
   ],
   "source": [
    "# Check distribution of Severity w.r.t toal_killed and total_injured\n",
    "df.groupby('severity')[['Total_killed', 'Total_injured']].describe()"
   ]
  },
  {
   "cell_type": "code",
   "execution_count": 71,
   "id": "62376b70",
   "metadata": {
    "executionInfo": {
     "elapsed": 196,
     "status": "ok",
     "timestamp": 1701371358333,
     "user": {
      "displayName": "vijay reddy",
      "userId": "14915251025245810636"
     },
     "user_tz": 300
    },
    "id": "62376b70"
   },
   "outputs": [
    {
     "name": "stdout",
     "output_type": "stream",
     "text": [
      "{'Mild': 0, 'Moderate': 1, 'Severe': 2}\n"
     ]
    }
   ],
   "source": [
    "'''\n",
    "Assigning custom mapping based on mean\n",
    "If mean is high, accident is severe\n",
    "if mean is low, accident is mild\n",
    "else accident is moderate\n",
    "'''\n",
    "severity_mapping = {0:\"Mild\", 1:\"Moderate\", 2:\"Severe\"}\n",
    "reverse_severity_mapping = {}\n",
    "for k,v in severity_mapping.items():\n",
    "    reverse_severity_mapping[v] = k\n",
    "\n",
    "print(reverse_severity_mapping)"
   ]
  },
  {
   "cell_type": "code",
   "execution_count": 75,
   "id": "f7f99f3d",
   "metadata": {
    "colab": {
     "base_uri": "https://localhost:8080/",
     "height": 472
    },
    "executionInfo": {
     "elapsed": 36065,
     "status": "ok",
     "timestamp": 1701371408306,
     "user": {
      "displayName": "vijay reddy",
      "userId": "14915251025245810636"
     },
     "user_tz": 300
    },
    "id": "f7f99f3d",
    "outputId": "3372363f-aa1b-4f86-d447-436a50307831"
   },
   "outputs": [],
   "source": [
    "# Assuming centroids is a 2D array with the coordinates of the centroids\n",
    "from sklearn.decomposition import PCA\n",
    "pca = PCA(n_components=2)\n",
    "X_pca = pca.fit_transform(weighted_X)"
   ]
  },
  {
   "cell_type": "markdown",
   "id": "2bfda4ee",
   "metadata": {
    "id": "2bfda4ee"
   },
   "source": [
    "# Naive Bayes"
   ]
  },
  {
   "cell_type": "code",
   "execution_count": 77,
   "id": "4dc1b284",
   "metadata": {
    "id": "4dc1b284"
   },
   "outputs": [],
   "source": [
    "from sklearn.naive_bayes import GaussianNB\n",
    "from sklearn.metrics import confusion_matrix, accuracy_score, classification_report\n",
    "from sklearn.model_selection import train_test_split"
   ]
  },
  {
   "cell_type": "code",
   "execution_count": 78,
   "id": "a0c375ba",
   "metadata": {},
   "outputs": [
    {
     "data": {
      "image/png": "[encoded data removed]",
      "text/plain": [
       "<Figure size 640x480 with 1 Axes>"
      ]
     },
     "metadata": {},
     "output_type": "display_data"
    }
   ],
   "source": [
    "# Visualize the class count\n",
    "\n",
    "classes = [0,1,2]\n",
    "counts = [(df['severity'] == 0).sum(), (df['severity'] == 1).sum(), (df['severity'] == 2).sum()]\n",
    "plt.bar(classes, counts, color=['red', 'blue', 'green'])\n",
    "plt.xlabel('Class')\n",
    "plt.ylabel('Count')\n",
    "plt.title('Distribution of Classes')\n",
    "plt.xticks(classes, ['Mild', 'Severe', 'Moderate'])\n",
    "plt.show()"
   ]
  },
  {
   "cell_type": "code",
   "execution_count": 79,
   "id": "b180531f",
   "metadata": {},
   "outputs": [],
   "source": [
    "'''\n",
    "Class distribution is imbalanced.\n",
    "Let us use SMOTE to oversample the minority class i.e class-1\n",
    "'''\n",
    "from imblearn.over_sampling import SMOTE\n",
    "# Call SMOTE model\n",
    "sm = SMOTE(random_state=42)\n",
    "\n",
    "# Deciding features and labels\n",
    "X = df[['LATITUDE', 'LONGITUDE', 'BOROUGH', 'CRASH DATE TIME_cat', 'Total_injured', 'Total_killed', 'CONTRIBUTING FACTOR VEHICLE cat']]\n",
    "y = df['severity']\n",
    "\n",
    "# oversample the data\n",
    "X_resampled, y_resampled = sm.fit_resample(X, y)\n",
    "\n",
    "# Append it back to original data\n",
    "df = pd.concat([X_resampled, pd.DataFrame(y_resampled, columns=['severity'])], axis=1)"
   ]
  },
  {
   "cell_type": "code",
   "execution_count": 80,
   "id": "20ee63b4",
   "metadata": {},
   "outputs": [
    {
     "data": {
      "image/png": "[encoded data removed]",
      "text/plain": [
       "<Figure size 640x480 with 1 Axes>"
      ]
     },
     "metadata": {},
     "output_type": "display_data"
    }
   ],
   "source": [
    "# Visualize the class count\n",
    "\n",
    "classes = [0,1,2]\n",
    "counts = [(df['severity'] == 0).sum(), (df['severity'] == 1).sum(), (df['severity'] == 2).sum()]\n",
    "plt.bar(classes, counts, color=['red', 'blue', 'green'])\n",
    "plt.xlabel('Class')\n",
    "plt.ylabel('Count')\n",
    "plt.title('Distribution of Classes')\n",
    "plt.xticks(classes, ['Mild', 'Moderate', 'Severe'])\n",
    "plt.show()"
   ]
  },
  {
   "cell_type": "code",
   "execution_count": 81,
   "id": "62b6100d",
   "metadata": {
    "id": "62b6100d",
    "outputId": "8eac84d4-f346-4a1c-d556-6682871d3c77"
   },
   "outputs": [
    {
     "name": "stdout",
     "output_type": "stream",
     "text": [
      "Accuracy: 0.9818415233232907\n",
      "Classification Report:               precision    recall  f1-score   support\n",
      "\n",
      "           0       1.00      0.99      1.00    179613\n",
      "           1       0.99      0.95      0.97    179444\n",
      "           2       0.95      1.00      0.98    179975\n",
      "\n",
      "    accuracy                           0.98    539032\n",
      "   macro avg       0.98      0.98      0.98    539032\n",
      "weighted avg       0.98      0.98      0.98    539032\n",
      "\n"
     ]
    }
   ],
   "source": [
    "# Apply naive-bayes model\n",
    "\n",
    "features = ['BOROUGH', 'CRASH DATE TIME_cat', 'Total_injured', 'Total_killed', 'CONTRIBUTING FACTOR VEHICLE cat']\n",
    "X = df[features]\n",
    "y = df['severity']\n",
    "X_train, X_test, y_train, y_test = train_test_split(X, y, test_size=0.2, random_state=42)\n",
    "\n",
    "model = GaussianNB()\n",
    "model.fit(X_train, y_train)\n",
    "\n",
    "y_pred = model.predict(X_test)\n",
    "\n",
    "# Getting Accuracies and classification report\n",
    "accuracy = accuracy_score(y_test, y_pred)\n",
    "report = classification_report(y_test, y_pred)\n",
    "\n",
    "print(f'Accuracy: {accuracy}')\n",
    "print('Classification Report:', report)"
   ]
  },
  {
   "cell_type": "code",
   "execution_count": 82,
   "id": "50fa2f4c",
   "metadata": {
    "id": "50fa2f4c",
    "outputId": "8b005f58-aa7d-4416-8e49-a4274004ab29"
   },
   "outputs": [
    {
     "data": {
      "image/png": "[encoded data removed]",
      "text/plain": [
       "<Figure size 800x600 with 2 Axes>"
      ]
     },
     "metadata": {},
     "output_type": "display_data"
    }
   ],
   "source": [
    "# Plot the Confusion Matrix\n",
    "\n",
    "conf_matrix = confusion_matrix(y_test, y_pred)\n",
    "plt.figure(figsize=(8, 6))\n",
    "sns.heatmap(conf_matrix, annot=True, fmt='d', cmap='Blues', xticklabels=['Predicted 1', 'Predicted 2', 'Predicted 3'], yticklabels=['Actual 1', 'Actual 2', 'Actual 3'])\n",
    "plt.xlabel('Predicted')\n",
    "plt.ylabel('Actual')\n",
    "plt.title('Confusion Matrix')\n",
    "plt.show()"
   ]
  },
  {
   "cell_type": "code",
   "execution_count": 83,
   "id": "d5dd7426",
   "metadata": {
    "id": "d5dd7426"
   },
   "outputs": [],
   "source": [
    "# Save the model\n",
    "import pickle\n",
    "nb_data = {\"model\": model, \"borough_mapping\": borough_mapping, \"time_category_mapping\": time_category_mapping, \"contribution_factor_encoder\": contribution_factor_encoder, \"factor_mapping\": factor_mapping, \"severity_mapping\": severity_mapping}\n",
    "\n",
    "with open('naive_bayes_model.pkl', 'wb') as file:\n",
    "    pickle.dump(nb_data, file)"
   ]
  },
  {
   "cell_type": "markdown",
   "id": "6fd4549b",
   "metadata": {
    "id": "6fd4549b"
   },
   "source": [
    "# Support Vector Machines"
   ]
  },
  {
   "cell_type": "code",
   "execution_count": null,
   "id": "65d1e0ad",
   "metadata": {
    "id": "65d1e0ad"
   },
   "outputs": [],
   "source": [
    "from sklearn.svm import SVC\n",
    "from sklearn.preprocessing import LabelEncoder\n",
    "from sklearn.metrics import classification_report, accuracy_score\n",
    "from sklearn.model_selection import train_test_split"
   ]
  },
  {
   "cell_type": "code",
   "execution_count": null,
   "id": "72557e68",
   "metadata": {
    "colab": {
     "base_uri": "https://localhost:8080/"
    },
    "id": "72557e68",
    "outputId": "d1f3d4c6-a99d-4f6f-d5a5-90f574605c49"
   },
   "outputs": [
    {
     "data": {
      "text/plain": [
       "0         2\n",
       "1         2\n",
       "2         2\n",
       "3         0\n",
       "4         2\n",
       "         ..\n",
       "879437    1\n",
       "879438    2\n",
       "879439    2\n",
       "879440    0\n",
       "879441    0\n",
       "Name: severity_encoded, Length: 879442, dtype: int64"
      ]
     },
     "execution_count": 36,
     "metadata": {},
     "output_type": "execute_result"
    }
   ],
   "source": [
    "features = ['BOROUGH', 'CRASH DATE TIME_cat', 'Total_injured', 'Total_killed', 'CONTRIBUTING FACTOR VEHICLE cat']\n",
    "\n",
    "# Convert Categorical data to numeric\n",
    "le = LabelEncoder()\n",
    "df['severity_encoded'] = le.fit_transform(df['severity'])\n",
    "df['severity_encoded']"
   ]
  },
  {
   "cell_type": "code",
   "execution_count": null,
   "id": "d6NGyyYU78OC",
   "metadata": {
    "id": "d6NGyyYU78OC"
   },
   "outputs": [],
   "source": [
    "from sklearn.preprocessing import StandardScaler\n",
    "X = df[features]\n",
    "y = df['severity_encoded']\n",
    "X_train, X_test, y_train, y_test = train_test_split(X, y, test_size=0.2, random_state=42)\n",
    "\n",
    "scaler = StandardScaler()\n",
    "X_train_scaled = scaler.fit_transform(X_train)\n",
    "X_test_scaled = scaler.transform(X_test)\n",
    "\n",
    "n_components = 2\n",
    "pca = PCA(n_components=n_components)\n",
    "X_train_pca = pca.fit_transform(X_train_scaled)\n",
    "X_test_pca = pca.transform(X_test_scaled)"
   ]
  },
  {
   "cell_type": "code",
   "execution_count": null,
   "id": "a511aa59-3dfd-43f2-b352-cde0a86b5059",
   "metadata": {
    "id": "a511aa59-3dfd-43f2-b352-cde0a86b5059"
   },
   "outputs": [],
   "source": [
    "svc = SVC(kernel='linear', C=1, decision_function_shape='ovr', random_state=42)\n",
    "svc.fit(X_train_pca, y_train)\n",
    "\n",
    "y_pred = svc.predict(X_test_pca)"
   ]
  },
  {
   "cell_type": "code",
   "execution_count": null,
   "id": "n1HC52lY8JzN",
   "metadata": {
    "colab": {
     "base_uri": "https://localhost:8080/"
    },
    "id": "n1HC52lY8JzN",
    "outputId": "9d1bcd3f-8635-4b8b-fc96-4c82b83658e3"
   },
   "outputs": [
    {
     "name": "stdout",
     "output_type": "stream",
     "text": [
      "Accuracy: 0.9208591782317257\n",
      "Classification Report:               precision    recall  f1-score   support\n",
      "\n",
      "           0       0.92      0.99      0.95     94137\n",
      "           1       0.00      0.00      0.00     11614\n",
      "           2       0.92      0.98      0.95     70138\n",
      "\n",
      "    accuracy                           0.92    175889\n",
      "   macro avg       0.61      0.66      0.63    175889\n",
      "weighted avg       0.86      0.92      0.89    175889\n",
      "\n"
     ]
    },
    {
     "name": "stderr",
     "output_type": "stream",
     "text": [
      "/usr/local/lib/python3.10/dist-packages/sklearn/metrics/_classification.py:1344: UndefinedMetricWarning: Precision and F-score are ill-defined and being set to 0.0 in labels with no predicted samples. Use `zero_division` parameter to control this behavior.\n",
      "  _warn_prf(average, modifier, msg_start, len(result))\n",
      "/usr/local/lib/python3.10/dist-packages/sklearn/metrics/_classification.py:1344: UndefinedMetricWarning: Precision and F-score are ill-defined and being set to 0.0 in labels with no predicted samples. Use `zero_division` parameter to control this behavior.\n",
      "  _warn_prf(average, modifier, msg_start, len(result))\n",
      "/usr/local/lib/python3.10/dist-packages/sklearn/metrics/_classification.py:1344: UndefinedMetricWarning: Precision and F-score are ill-defined and being set to 0.0 in labels with no predicted samples. Use `zero_division` parameter to control this behavior.\n",
      "  _warn_prf(average, modifier, msg_start, len(result))\n"
     ]
    }
   ],
   "source": [
    "accuracy = accuracy_score(y_test, y_pred)\n",
    "report = classification_report(y_test, y_pred)\n",
    "\n",
    "print(f'Accuracy: {accuracy}')\n",
    "print('Classification Report:', report)"
   ]
  },
  {
   "cell_type": "code",
   "execution_count": null,
   "id": "5bb9e194",
   "metadata": {
    "colab": {
     "base_uri": "https://localhost:8080/",
     "height": 718
    },
    "id": "5bb9e194",
    "outputId": "2b4e43a1-e4ab-4d40-82e4-32b58dfde91a"
   },
   "outputs": [
    {
     "data": {
      "image/png": "[encoded data removed]",
      "text/plain": [
       "<Figure size 1000x800 with 1 Axes>"
      ]
     },
     "metadata": {},
     "output_type": "display_data"
    }
   ],
   "source": [
    "# plot\n",
    "from mlxtend.plotting import plot_decision_regions\n",
    "\n",
    "plt.figure(figsize=(10, 8))\n",
    "plot_decision_regions(X_train_pca, y_train.values, clf=svc, legend=2)\n",
    "plt.xlabel('Principal Component 1')\n",
    "plt.ylabel('Principal Component 2')\n",
    "plt.title('Decision Boundary after PCA')\n",
    "plt.show()"
   ]
  },
  {
   "cell_type": "markdown",
   "id": "bcd34300",
   "metadata": {
    "id": "bcd34300"
   },
   "source": [
    "# KNN Classifier"
   ]
  },
  {
   "cell_type": "code",
   "execution_count": 170,
   "id": "7db7a55a",
   "metadata": {
    "id": "7db7a55a"
   },
   "outputs": [],
   "source": [
    "from sklearn.neighbors import KNeighborsClassifier"
   ]
  },
  {
   "cell_type": "code",
   "execution_count": 171,
   "id": "9823cc21",
   "metadata": {
    "id": "9823cc21",
    "outputId": "aeed97eb-d93e-4850-b51a-51e93161b0bb"
   },
   "outputs": [
    {
     "name": "stderr",
     "output_type": "stream",
     "text": [
      "c:\\Users\\reddy\\AppData\\Local\\Programs\\Python\\Python310\\lib\\site-packages\\sklearn\\metrics\\_classification.py:1469: UndefinedMetricWarning: Precision and F-score are ill-defined and being set to 0.0 in labels with no predicted samples. Use `zero_division` parameter to control this behavior.\n",
      "  _warn_prf(average, modifier, msg_start, len(result))\n",
      "c:\\Users\\reddy\\AppData\\Local\\Programs\\Python\\Python310\\lib\\site-packages\\sklearn\\metrics\\_classification.py:1469: UndefinedMetricWarning: Precision and F-score are ill-defined and being set to 0.0 in labels with no predicted samples. Use `zero_division` parameter to control this behavior.\n",
      "  _warn_prf(average, modifier, msg_start, len(result))\n",
      "c:\\Users\\reddy\\AppData\\Local\\Programs\\Python\\Python310\\lib\\site-packages\\sklearn\\metrics\\_classification.py:1469: UndefinedMetricWarning: Precision and F-score are ill-defined and being set to 0.0 in labels with no predicted samples. Use `zero_division` parameter to control this behavior.\n",
      "  _warn_prf(average, modifier, msg_start, len(result))\n"
     ]
    },
    {
     "name": "stdout",
     "output_type": "stream",
     "text": [
      "Accuracy: 0.7279623473188975\n",
      "Classification Report:               precision    recall  f1-score   support\n",
      "\n",
      "           0       0.77      0.89      0.83    360050\n",
      "           1       0.45      0.15      0.22     11873\n",
      "           2       0.59      0.48      0.53    135348\n",
      "           3       0.59      0.14      0.22      8689\n",
      "           4       0.62      0.16      0.25      5412\n",
      "           5       0.17      0.00      0.01      1590\n",
      "           6       0.43      0.09      0.15      5195\n",
      "           7       0.67      0.24      0.35     10537\n",
      "           8       0.33      0.02      0.04       318\n",
      "           9       0.00      0.00      0.00        20\n",
      "\n",
      "    accuracy                           0.73    539032\n",
      "   macro avg       0.46      0.22      0.26    539032\n",
      "weighted avg       0.71      0.73      0.70    539032\n",
      "\n"
     ]
    }
   ],
   "source": [
    "#df['severity cat'] = df['severity'].map({\"mild\": 0, \"severe\": 1,\"moderate\": 2})\n",
    "\n",
    "features = ['severity', 'LATITUDE', 'LONGITUDE', 'BOROUGH', 'CRASH DATE TIME_cat', 'Total_injured', 'Total_killed']\n",
    "X = df[features]\n",
    "y = df['CONTRIBUTING FACTOR VEHICLE cat']\n",
    "X_train, X_test, y_train, y_test = train_test_split(X, y, test_size=0.2, random_state=42)\n",
    "\n",
    "model = KNeighborsClassifier(n_neighbors=5)\n",
    "model.fit(X_train, y_train)\n",
    "\n",
    "y_pred = model.predict(X_test)\n",
    "\n",
    "accuracy = accuracy_score(y_test, y_pred)\n",
    "report = classification_report(y_test, y_pred)\n",
    "\n",
    "print(f'Accuracy: {accuracy}')\n",
    "print('Classification Report:', report)"
   ]
  },
  {
   "cell_type": "code",
   "execution_count": 172,
   "id": "1d1fd98a",
   "metadata": {
    "id": "1d1fd98a",
    "outputId": "92a6226c-038b-49b4-c749-e31f67dc0ee9"
   },
   "outputs": [
    {
     "data": {
      "image/png": "[encoded data removed]",
      "text/plain": [
       "<Figure size 800x600 with 1 Axes>"
      ]
     },
     "metadata": {},
     "output_type": "display_data"
    }
   ],
   "source": [
    "class_counts = y_train.value_counts()\n",
    "\n",
    "plt.figure(figsize=(8, 6))\n",
    "plt.bar(class_counts.index, class_counts.values, color='skyblue')\n",
    "plt.xlabel('Class')\n",
    "plt.ylabel('Frequency')\n",
    "plt.title('Class Distribution')\n",
    "plt.show()"
   ]
  },
  {
   "cell_type": "code",
   "execution_count": 177,
   "id": "27306303",
   "metadata": {},
   "outputs": [],
   "source": [
    "knn_data = {'model': model, 'borough_mapping': borough_mapping, 'time_category_mapping': time_category_mapping, 'reverse_contribution_factor_mapping': reverse_contribution_factor_mapping, 'reverse_severity_mapping': reverse_severity_mapping}\n",
    "\n",
    "with open('knn_model.pkl', 'wb') as file:\n",
    "    pickle.dump(knn_data, file)"
   ]
  },
  {
   "cell_type": "markdown",
   "id": "8cd6088a",
   "metadata": {
    "id": "8cd6088a"
   },
   "source": [
    "# Random Forest Classifier"
   ]
  },
  {
   "cell_type": "code",
   "execution_count": 117,
   "id": "c6d8e38a",
   "metadata": {
    "id": "c6d8e38a"
   },
   "outputs": [],
   "source": [
    "from sklearn.preprocessing import LabelEncoder\n",
    "from sklearn.ensemble import RandomForestClassifier"
   ]
  },
  {
   "cell_type": "code",
   "execution_count": 118,
   "id": "7ed7f8e7",
   "metadata": {
    "id": "7ed7f8e7",
    "outputId": "0b1f6f03-04dc-4734-ac5b-380e24d8f35c"
   },
   "outputs": [
    {
     "data": {
      "text/html": [
       "<div>\n",
       "<style scoped>\n",
       "    .dataframe tbody tr th:only-of-type {\n",
       "        vertical-align: middle;\n",
       "    }\n",
       "\n",
       "    .dataframe tbody tr th {\n",
       "        vertical-align: top;\n",
       "    }\n",
       "\n",
       "    .dataframe thead th {\n",
       "        text-align: right;\n",
       "    }\n",
       "</style>\n",
       "<table border=\"1\" class=\"dataframe\">\n",
       "  <thead>\n",
       "    <tr style=\"text-align: right;\">\n",
       "      <th></th>\n",
       "      <th>CONTRIBUTING FACTOR VEHICLE MODIFIED</th>\n",
       "      <th>severity cat</th>\n",
       "      <th>LATITUDE</th>\n",
       "      <th>LONGITUDE</th>\n",
       "      <th>BOROUGH</th>\n",
       "      <th>CRASH DATE TIME_cat</th>\n",
       "      <th>Total_injured</th>\n",
       "      <th>Total_killed</th>\n",
       "    </tr>\n",
       "  </thead>\n",
       "  <tbody>\n",
       "    <tr>\n",
       "      <th>CONTRIBUTING FACTOR VEHICLE MODIFIED</th>\n",
       "      <td>1.000000</td>\n",
       "      <td>-0.026654</td>\n",
       "      <td>0.001053</td>\n",
       "      <td>0.000777</td>\n",
       "      <td>0.029244</td>\n",
       "      <td>-0.019411</td>\n",
       "      <td>0.044952</td>\n",
       "      <td>0.004982</td>\n",
       "    </tr>\n",
       "    <tr>\n",
       "      <th>severity cat</th>\n",
       "      <td>-0.026654</td>\n",
       "      <td>1.000000</td>\n",
       "      <td>0.000604</td>\n",
       "      <td>-0.003385</td>\n",
       "      <td>-0.206206</td>\n",
       "      <td>-0.401063</td>\n",
       "      <td>0.307135</td>\n",
       "      <td>0.028408</td>\n",
       "    </tr>\n",
       "    <tr>\n",
       "      <th>LATITUDE</th>\n",
       "      <td>0.001053</td>\n",
       "      <td>0.000604</td>\n",
       "      <td>1.000000</td>\n",
       "      <td>-0.964043</td>\n",
       "      <td>-0.011309</td>\n",
       "      <td>0.001225</td>\n",
       "      <td>-0.006949</td>\n",
       "      <td>0.000129</td>\n",
       "    </tr>\n",
       "    <tr>\n",
       "      <th>LONGITUDE</th>\n",
       "      <td>0.000777</td>\n",
       "      <td>-0.003385</td>\n",
       "      <td>-0.964043</td>\n",
       "      <td>1.000000</td>\n",
       "      <td>0.026546</td>\n",
       "      <td>-0.002419</td>\n",
       "      <td>0.007682</td>\n",
       "      <td>-0.000035</td>\n",
       "    </tr>\n",
       "    <tr>\n",
       "      <th>BOROUGH</th>\n",
       "      <td>0.029244</td>\n",
       "      <td>-0.206206</td>\n",
       "      <td>-0.011309</td>\n",
       "      <td>0.026546</td>\n",
       "      <td>1.000000</td>\n",
       "      <td>0.012815</td>\n",
       "      <td>-0.014896</td>\n",
       "      <td>-0.001985</td>\n",
       "    </tr>\n",
       "    <tr>\n",
       "      <th>CRASH DATE TIME_cat</th>\n",
       "      <td>-0.019411</td>\n",
       "      <td>-0.401063</td>\n",
       "      <td>0.001225</td>\n",
       "      <td>-0.002419</td>\n",
       "      <td>0.012815</td>\n",
       "      <td>1.000000</td>\n",
       "      <td>-0.046882</td>\n",
       "      <td>-0.015919</td>\n",
       "    </tr>\n",
       "    <tr>\n",
       "      <th>Total_injured</th>\n",
       "      <td>0.044952</td>\n",
       "      <td>0.307135</td>\n",
       "      <td>-0.006949</td>\n",
       "      <td>0.007682</td>\n",
       "      <td>-0.014896</td>\n",
       "      <td>-0.046882</td>\n",
       "      <td>1.000000</td>\n",
       "      <td>0.018335</td>\n",
       "    </tr>\n",
       "    <tr>\n",
       "      <th>Total_killed</th>\n",
       "      <td>0.004982</td>\n",
       "      <td>0.028408</td>\n",
       "      <td>0.000129</td>\n",
       "      <td>-0.000035</td>\n",
       "      <td>-0.001985</td>\n",
       "      <td>-0.015919</td>\n",
       "      <td>0.018335</td>\n",
       "      <td>1.000000</td>\n",
       "    </tr>\n",
       "  </tbody>\n",
       "</table>\n",
       "</div>"
      ],
      "text/plain": [
       "                                      CONTRIBUTING FACTOR VEHICLE MODIFIED  \\\n",
       "CONTRIBUTING FACTOR VEHICLE MODIFIED                              1.000000   \n",
       "severity cat                                                     -0.026654   \n",
       "LATITUDE                                                          0.001053   \n",
       "LONGITUDE                                                         0.000777   \n",
       "BOROUGH                                                           0.029244   \n",
       "CRASH DATE TIME_cat                                              -0.019411   \n",
       "Total_injured                                                     0.044952   \n",
       "Total_killed                                                      0.004982   \n",
       "\n",
       "                                      severity cat  LATITUDE  LONGITUDE  \\\n",
       "CONTRIBUTING FACTOR VEHICLE MODIFIED     -0.026654  0.001053   0.000777   \n",
       "severity cat                              1.000000  0.000604  -0.003385   \n",
       "LATITUDE                                  0.000604  1.000000  -0.964043   \n",
       "LONGITUDE                                -0.003385 -0.964043   1.000000   \n",
       "BOROUGH                                  -0.206206 -0.011309   0.026546   \n",
       "CRASH DATE TIME_cat                      -0.401063  0.001225  -0.002419   \n",
       "Total_injured                             0.307135 -0.006949   0.007682   \n",
       "Total_killed                              0.028408  0.000129  -0.000035   \n",
       "\n",
       "                                       BOROUGH  CRASH DATE TIME_cat  \\\n",
       "CONTRIBUTING FACTOR VEHICLE MODIFIED  0.029244            -0.019411   \n",
       "severity cat                         -0.206206            -0.401063   \n",
       "LATITUDE                             -0.011309             0.001225   \n",
       "LONGITUDE                             0.026546            -0.002419   \n",
       "BOROUGH                               1.000000             0.012815   \n",
       "CRASH DATE TIME_cat                   0.012815             1.000000   \n",
       "Total_injured                        -0.014896            -0.046882   \n",
       "Total_killed                         -0.001985            -0.015919   \n",
       "\n",
       "                                      Total_injured  Total_killed  \n",
       "CONTRIBUTING FACTOR VEHICLE MODIFIED       0.044952      0.004982  \n",
       "severity cat                               0.307135      0.028408  \n",
       "LATITUDE                                  -0.006949      0.000129  \n",
       "LONGITUDE                                  0.007682     -0.000035  \n",
       "BOROUGH                                   -0.014896     -0.001985  \n",
       "CRASH DATE TIME_cat                       -0.046882     -0.015919  \n",
       "Total_injured                              1.000000      0.018335  \n",
       "Total_killed                               0.018335      1.000000  "
      ]
     },
     "execution_count": 118,
     "metadata": {},
     "output_type": "execute_result"
    }
   ],
   "source": [
    "df[['CONTRIBUTING FACTOR VEHICLE MODIFIED', 'severity cat', 'LATITUDE', 'LONGITUDE', 'BOROUGH', 'CRASH DATE TIME_cat', 'Total_injured', 'Total_killed']].corr()"
   ]
  },
  {
   "cell_type": "code",
   "execution_count": 119,
   "id": "3a37a877",
   "metadata": {},
   "outputs": [
    {
     "data": {
      "text/plain": [
       "array([0, 1, 2], dtype=int64)"
      ]
     },
     "execution_count": 119,
     "metadata": {},
     "output_type": "execute_result"
    }
   ],
   "source": [
    "df['CONTRIBUTING FACTOR VEHICLE MODIFIED'].unique()"
   ]
  },
  {
   "cell_type": "code",
   "execution_count": 120,
   "id": "7067d4e1",
   "metadata": {
    "id": "7067d4e1",
    "outputId": "2f327cab-a608-427f-994d-559bbc75abe2"
   },
   "outputs": [
    {
     "name": "stdout",
     "output_type": "stream",
     "text": [
      "Accuracy: 0.8859905963420112\n",
      "Classification Report:\n",
      "              precision    recall  f1-score   support\n",
      "\n",
      "           0       0.89      1.00      0.94    155843\n",
      "           1       0.45      0.00      0.00      7768\n",
      "           2       0.24      0.00      0.00     12278\n",
      "\n",
      "    accuracy                           0.89    175889\n",
      "   macro avg       0.52      0.33      0.32    175889\n",
      "weighted avg       0.82      0.89      0.83    175889\n",
      "\n"
     ]
    }
   ],
   "source": [
    "features = ['severity cat', 'BOROUGH', 'CRASH DATE TIME_cat', 'Total_injured', 'Total_killed']\n",
    "X = df[features]\n",
    "y = df['CONTRIBUTING FACTOR VEHICLE MODIFIED']\n",
    "X_train, X_test, y_train, y_test = train_test_split(X, y, test_size=0.2, random_state=42)\n",
    "\n",
    "model = RandomForestClassifier()\n",
    "model.fit(X_train, y_train)\n",
    "\n",
    "y_pred = model.predict(X_test)\n",
    "accuracy = accuracy_score(y_test, y_pred)\n",
    "classification_rep = classification_report(y_test, y_pred)\n",
    "\n",
    "print(\"Accuracy:\", accuracy)\n",
    "print(\"Classification Report:\")\n",
    "print(classification_rep)"
   ]
  },
  {
   "cell_type": "code",
   "execution_count": 121,
   "id": "51308350",
   "metadata": {
    "id": "51308350",
    "outputId": "71e03115-5721-4fdc-990a-d4822c367903"
   },
   "outputs": [
    {
     "data": {
      "image/png": "[encoded data removed]",
      "text/plain": [
       "<Figure size 1000x600 with 1 Axes>"
      ]
     },
     "metadata": {},
     "output_type": "display_data"
    }
   ],
   "source": [
    "feature_importance = model.feature_importances_\n",
    "feature_names = X.columns\n",
    "sorted_idx = feature_importance.argsort()[::-1]\n",
    "sorted_feature_names = feature_names[sorted_idx]\n",
    "\n",
    "plt.figure(figsize=(10, 6))\n",
    "plt.barh(sorted_feature_names, feature_importance[sorted_idx], align='center')\n",
    "plt.xlabel('Relative Importance')\n",
    "plt.title('Feature Importance')\n",
    "plt.show()"
   ]
  },
  {
   "cell_type": "markdown",
   "id": "41cc6d4c",
   "metadata": {
    "id": "41cc6d4c"
   },
   "source": [
    "# XGBoost (eXtreme Gradient Boosting)"
   ]
  },
  {
   "cell_type": "code",
   "execution_count": null,
   "id": "38379bc9",
   "metadata": {
    "id": "38379bc9",
    "outputId": "529c646c-b868-4698-9e6b-4787ae98dbc9"
   },
   "outputs": [
    {
     "name": "stdout",
     "output_type": "stream",
     "text": [
      "Collecting xgboost\n",
      "  Downloading xgboost-2.0.1-py3-none-macosx_12_0_arm64.whl.metadata (2.0 kB)\n",
      "Requirement already satisfied: numpy in ./anaconda3/lib/python3.11/site-packages (from xgboost) (1.26.1)\n",
      "Requirement already satisfied: scipy in ./anaconda3/lib/python3.11/site-packages (from xgboost) (1.11.1)\n",
      "Downloading xgboost-2.0.1-py3-none-macosx_12_0_arm64.whl (1.9 MB)\n",
      "\u001b[2K   \u001b[90m━━━━━━━━━━━━━━━━━━━━━━━━━━━━━━━━━━━━━━━━\u001b[0m \u001b[32m1.9/1.9 MB\u001b[0m \u001b[31m12.6 MB/s\u001b[0m eta \u001b[36m0:00:00\u001b[0m00:01\u001b[0m0:01\u001b[0m\n",
      "\u001b[?25hInstalling collected packages: xgboost\n",
      "Successfully installed xgboost-2.0.1\n"
     ]
    }
   ],
   "source": [
    "!pip install xgboost"
   ]
  },
  {
   "cell_type": "code",
   "execution_count": null,
   "id": "e4c97a6a",
   "metadata": {
    "id": "e4c97a6a"
   },
   "outputs": [],
   "source": [
    "import xgboost as xgb"
   ]
  },
  {
   "cell_type": "code",
   "execution_count": null,
   "id": "76c02e86",
   "metadata": {
    "id": "76c02e86"
   },
   "outputs": [],
   "source": [
    "df['INJURY OR FATALITY'] = (df['Total_injured'] > 0) | (df['Total_killed'] > 0)\n",
    "df['INJURY OR FATALITY'] = df['INJURY OR FATALITY'].astype(int)"
   ]
  },
  {
   "cell_type": "code",
   "execution_count": null,
   "id": "1d521226",
   "metadata": {
    "id": "1d521226",
    "outputId": "11acf10c-c8db-4aa8-bc6d-90619f605861"
   },
   "outputs": [
    {
     "name": "stdout",
     "output_type": "stream",
     "text": [
      "Accuracy: 0.8463747022269726\n",
      "Classification Report:               precision    recall  f1-score   support\n",
      "\n",
      "           0       0.84      0.98      0.90    130243\n",
      "           1       0.90      0.46      0.61     45646\n",
      "\n",
      "    accuracy                           0.85    175889\n",
      "   macro avg       0.87      0.72      0.76    175889\n",
      "weighted avg       0.85      0.85      0.83    175889\n",
      "\n"
     ]
    }
   ],
   "source": [
    "features = ['BOROUGH', 'LATITUDE', 'LONGITUDE', 'CRASH DATE TIME_cat', 'CONTRIBUTING FACTOR VEHICLE cat', 'severity cat']\n",
    "X = df[features]\n",
    "y = df['INJURY OR FATALITY']\n",
    "X_train, X_test, y_train, y_test = train_test_split(X, y, test_size=0.2, random_state=42)\n",
    "\n",
    "model = xgb.XGBClassifier(objective='binary:logistic', random_state=42)\n",
    "\n",
    "model.fit(X_train, y_train)\n",
    "\n",
    "y_pred = model.predict(X_test)\n",
    "\n",
    "accuracy = accuracy_score(y_test, y_pred)\n",
    "report = classification_report(y_test, y_pred)\n",
    "\n",
    "print(f'Accuracy: {accuracy}')\n",
    "print('Classification Report:', report)"
   ]
  },
  {
   "cell_type": "code",
   "execution_count": null,
   "id": "136b101a",
   "metadata": {
    "id": "136b101a",
    "outputId": "98d6a5d6-b1e0-43f2-cb33-6c81a77cb8f7"
   },
   "outputs": [
    {
     "data": {
      "image/png": "[encoded data removed]",
      "text/plain": [
       "<Figure size 800x600 with 1 Axes>"
      ]
     },
     "metadata": {},
     "output_type": "display_data"
    }
   ],
   "source": [
    "from sklearn.metrics import roc_curve, auc\n",
    "\n",
    "fpr, tpr, _ = roc_curve(y_test, y_pred)\n",
    "roc_auc = auc(fpr, tpr)\n",
    "\n",
    "plt.figure(figsize=(8, 6))\n",
    "plt.plot(fpr, tpr, color='darkorange', lw=2, label='ROC curve (area = %0.2f)' % roc_auc)\n",
    "plt.plot([0, 1], [0, 1], color='navy', lw=2, linestyle='--')\n",
    "plt.xlim([0.0, 1.0])\n",
    "plt.ylim([0.0, 1.05])\n",
    "plt.xlabel('False Positive Rate')\n",
    "plt.ylabel('True Positive Rate')\n",
    "plt.title('Receiver Operating Characteristic')\n",
    "plt.legend(loc=\"lower right\")\n",
    "plt.show()"
   ]
  },
  {
   "cell_type": "code",
   "execution_count": null,
   "id": "6f4cebc2",
   "metadata": {
    "id": "6f4cebc2"
   },
   "outputs": [],
   "source": []
  }
 ],
 "metadata": {
  "colab": {
   "provenance": []
  },
  "kernelspec": {
   "display_name": "Python 3 (ipykernel)",
   "language": "python",
   "name": "python3"
  },
  "language_info": {
   "codemirror_mode": {
    "name": "ipython",
    "version": 3
   },
   "file_extension": ".py",
   "mimetype": "text/x-python",
   "name": "python",
   "nbconvert_exporter": "python",
   "pygments_lexer": "ipython3",
   "version": "3.10.2"
  }
 },
 "nbformat": 4,
 "nbformat_minor": 5
}
